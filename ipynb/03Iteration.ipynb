{
 "cells": [
  {
   "cell_type": "markdown",
   "metadata": {},
   "source": [
    "# Welcome to \"CrushPython\"\n",
    "\n",
    "__So whether you eat or drink or whatever you do, do it all for the glory of God.__ \n",
    "1 Corinthians 10:31\n",
    "\n",
    "\n",
    "------"
   ]
  },
  {
   "cell_type": "markdown",
   "metadata": {},
   "source": [
    "__NOTE:__ The following materials have been compiled and adapted from the numerous sources including Python and Canopy web sites including my own. Please help me to keep this tutorial up-to-date by reporting any issues or questions. Send any comments or criticisms to `idebtor@gmail.com` Your assistances and comments will be appreciated."
   ]
  },
  {
   "cell_type": "markdown",
   "metadata": {},
   "source": [
    "---------\n",
    "\n",
    "# Lesson - Iteration(For loop with range)\n",
    "\n",
    "------------\n",
    "\n",
    "# 1. Iteration using for loop  \n",
    "\n",
    "Often the program needs to repeat some code many times. That's where the loops come in handy. There are `for` and `while` loop operators in Python, in this lesson we cover for.\n",
    "\n",
    "The `for` loop iterates over any sequence. For instance, any string in Python is a sequence of its characters, so we can iterate over them using for:\n",
    "\n",
    "#### Example 1: Using `for` loop, print `hello` one character per line.\n",
    "Expected output:\n",
    "\n",
    "```\n",
    "h\n",
    "e\n",
    "l\n",
    "l\n",
    "o\n",
    "```"
   ]
  },
  {
   "cell_type": "code",
   "execution_count": null,
   "metadata": {},
   "outputs": [],
   "source": [
    "# print each letter using for loop\n",
    "for char in 'hello':\n",
    "    None"
   ]
  },
  {
   "cell_type": "markdown",
   "metadata": {},
   "source": [
    "#### Example 2: Using `for` loop, print `hello` in one line.\n",
    "\n",
    "__Hint__: By default, the function `print()` prints all its arguments separating them by a space and the puts a newline symbol after it. This behavior can be changed using keyword arguments `sep` (separator) and `end`.\n",
    "\n",
    "Expected output:\n",
    "\n",
    "```\n",
    "h e l l o \n",
    "```"
   ]
  },
  {
   "cell_type": "code",
   "execution_count": null,
   "metadata": {},
   "outputs": [],
   "source": [
    "# print each letter using for loop in a row\n",
    "for char in 'hello':\n",
    "    None"
   ]
  },
  {
   "cell_type": "markdown",
   "metadata": {},
   "source": [
    "\n",
    "#### Example 3: Using `for` loop, print `hello` in one line wihtout spaces between chars.\n",
    "\n",
    "Expected output:\n",
    "```\n",
    "hello\n",
    "```"
   ]
  },
  {
   "cell_type": "code",
   "execution_count": null,
   "metadata": {},
   "outputs": [],
   "source": [
    "# print each letter using for loop in a row without spaces\n",
    "for char in 'hello':\n",
    "    None"
   ]
  },
  {
   "cell_type": "markdown",
   "metadata": {},
   "source": [
    "#### Example 4: Modify the following code cell to produce the following output.\n",
    "\n",
    "Expected output:\n",
    "\n",
    "```\n",
    "1 2 3\n",
    "4 5 6\n",
    "1,2,3,4,5,6\n",
    "123--456\n",
    "```"
   ]
  },
  {
   "cell_type": "code",
   "execution_count": null,
   "metadata": {},
   "outputs": [],
   "source": [
    "print(1, 2, 3)  # ok\n",
    "print(4, 5, 6)  # ok\n",
    "print(1, 2, 3)\n",
    "print(4, 5, 6)\n",
    "print(1, 2, 3)\n",
    "print(4, 5, 6)"
   ]
  },
  {
   "cell_type": "markdown",
   "metadata": {},
   "source": [
    "# 2. Iteration with for loop & range()\n",
    "\n",
    "Another use case for a for-loop is to iterate some integer variable in increasing or decreasing order. Such a sequence of integer can be created using the built-in function `range()`. The `range()` function returns a sequence of numbers, starting from 0 by default, and increments by 1 (by default), and ends at a specified number.\n",
    "\n",
    "__Syntax__\n",
    "\n",
    "```\n",
    "class range(stop)\n",
    "    - returns a sequence of numbers starting from 0 to stop - 1\n",
    "class range(start, stop[, step])\n",
    "    - returns the range of integers end at stop - 1.\n",
    "```\n",
    "\n",
    "__Parameters__\n",
    "\n",
    "- `start` - integer starting from which the sequence is returned\n",
    "- `stop`  - integer before which the sequence of integers is to be returned.\n",
    "- `step` (Optional) - integer value which determines the step in the sequence\n",
    "    \n",
    "The function `range(stop)` means that `start` is implicitly set to `0`:\n",
    "    \n",
    "#### Example 1: Generate numbers from 0 to 5.    "
   ]
  },
  {
   "cell_type": "code",
   "execution_count": null,
   "metadata": {},
   "outputs": [],
   "source": [
    "iter = range(6)\n",
    "print(iter)\n",
    "for i in range(6):\n",
    "    None"
   ]
  },
  {
   "cell_type": "markdown",
   "metadata": {},
   "source": [
    "### Using `start` and `end` parameters in `range()`\n",
    "\n",
    "- Function `range(start, stop)` generates a sequence with numbers `start, start + 1, ..., start - 1`. \n",
    "- __The last number in `stop` is not included__.\n",
    "\n",
    "#### Example 2: Print the table of n cubed where n is 1 to 10 as shown below:\n",
    "\n",
    "```\n",
    "1 cubed is 1\n",
    "2 cubed is 8\n",
    "3 cubed is 27\n",
    "4 cubed is 64\n",
    "5 cubed is 125\n",
    "6 cubed is 216\n",
    "7 cubed is 343\n",
    "8 cubed is 512\n",
    "9 cubed is 729\n",
    "10 cubed is 1000\n",
    "```\n"
   ]
  },
  {
   "cell_type": "code",
   "execution_count": null,
   "metadata": {},
   "outputs": [],
   "source": [
    "None"
   ]
  },
  {
   "cell_type": "markdown",
   "metadata": {},
   "source": [
    "#### Example 3: Given an integer n = 10, sum number from 0 to n.\n",
    "\n",
    "Expected output:\n",
    "```\n",
    "Sum from 1 to 10 is 55\n",
    "```"
   ]
  },
  {
   "cell_type": "code",
   "execution_count": null,
   "metadata": {},
   "outputs": [],
   "source": [
    "n = 10\n",
    "sum = 0\n",
    "None\n",
    "\n",
    "print('Sum from 1 to {} is {}'.format(n, sum))"
   ]
  },
  {
   "cell_type": "markdown",
   "metadata": {},
   "source": [
    "#### Example 4: sum_to_n(n)\n",
    "\n",
    "- Generalize this capability of summing up to `n`. In other words, write a function, `sum_to_n(n)`, such that it returns 55 when `sum_to_n(10)` is invoked. \n",
    "- Complete the following code cells to sum the integers from `1` to `n` inclusively. \n",
    "\n",
    "```\n",
    "Sum from 1 to 10 is 55\n",
    "Sum from 1 to 100 is 5050\n",
    "Sum from 1 to 1000 is 500500\n",
    "Sum from 1 to 10000 is 50005000\n",
    "```"
   ]
  },
  {
   "cell_type": "code",
   "execution_count": null,
   "metadata": {},
   "outputs": [],
   "source": [
    "# function to sum upto n inclusively.\n",
    "def sum_to_n(n):\n",
    "    None"
   ]
  },
  {
   "cell_type": "code",
   "execution_count": null,
   "metadata": {
    "scrolled": false
   },
   "outputs": [],
   "source": [
    "# For testing\n",
    "for n in None:\n",
    "    print('Sum from 1 to {} is {}'.format(n, sum_to_n(n)))"
   ]
  },
  {
   "cell_type": "markdown",
   "metadata": {},
   "source": [
    "Pay attention that maximum value in `range()` is `n + 1` to make `i` equal to `N` on the last step.\n",
    "\n",
    "To iterate over a decreasing sequence, we can use an extended form of `range()` with three arguments - `range(start, end, step)`. When omitted, the `step` is implicitly equal to `1`. However, can be any non-zero value. The loop always includes `start` and excludes `end` during iteration:"
   ]
  },
  {
   "cell_type": "markdown",
   "metadata": {},
   "source": [
    "#### Example 5: \n",
    "\n",
    "Count down a number starting n and print `blast off`. Complete the code to produce the following output when N = 5.\n",
    "\n",
    "```\n",
    "5\n",
    "4\n",
    "3\n",
    "2\n",
    "1\n",
    "blast off\n",
    "```\n",
    "\n",
    "#### Using a negative step size `-1`"
   ]
  },
  {
   "cell_type": "code",
   "execution_count": null,
   "metadata": {},
   "outputs": [],
   "source": [
    "N = int(input(\"Enter N: \"))\n",
    "None"
   ]
  },
  {
   "cell_type": "markdown",
   "metadata": {},
   "source": [
    "#### Using `range(N)`"
   ]
  },
  {
   "cell_type": "code",
   "execution_count": null,
   "metadata": {},
   "outputs": [],
   "source": [
    "N = int(input(\"Enter N: \"))\n",
    "None"
   ]
  },
  {
   "cell_type": "markdown",
   "metadata": {},
   "source": [
    "# Enumerate()\n",
    "\n",
    "Python gives you the luxury of iterating directly over the values of the list (or iterables) which is most of the time what you need. However, there are times when you actually need the index of the item as well.\n",
    "\n",
    "__Syntax__:\n",
    "```\n",
    "enumerate(iterable, start=0)\n",
    "```\n",
    "\n",
    "__Parameters__:\n",
    "- `iterable`: any object that supports iteration\n",
    "- `start`: the index value from which the counter is to be started, by default it is 0 \n",
    "              \n",
    "#### Example 1: Print a list with its index\n",
    "\n",
    "Given list of car names, `cars = ['kia', 'audi', 'bmw']`, list car names with sequential numbers.\n",
    "\n",
    "Expected output(Case 1):\n",
    "```\n",
    "kia\n",
    "audi\n",
    "bmw\n",
    "genesis\n",
    "```\n",
    "Expected output(Case 2):\n",
    "```\n",
    "(0, 'kia')\n",
    "(1, 'audi')\n",
    "(2, 'bmw')\n",
    "(3, 'genesis')\n",
    "```\n",
    "\n",
    "Expected output(Case 3):\n",
    "```\n",
    "1 kia\n",
    "2 audi\n",
    "3 bmw\n",
    "4 genesis\n",
    "```\n",
    "\n",
    "__Case 1:__"
   ]
  },
  {
   "cell_type": "code",
   "execution_count": null,
   "metadata": {},
   "outputs": [],
   "source": [
    "cars = ['kia', 'audi', 'bmw']\n",
    "None"
   ]
  },
  {
   "cell_type": "markdown",
   "metadata": {},
   "source": [
    "__Case 2:__"
   ]
  },
  {
   "cell_type": "code",
   "execution_count": null,
   "metadata": {},
   "outputs": [],
   "source": [
    "None"
   ]
  },
  {
   "cell_type": "markdown",
   "metadata": {},
   "source": [
    "__Case 3:__"
   ]
  },
  {
   "cell_type": "code",
   "execution_count": null,
   "metadata": {},
   "outputs": [],
   "source": [
    "None"
   ]
  },
  {
   "cell_type": "markdown",
   "metadata": {},
   "source": [
    "#### Example 2: Print a list with its index\n",
    "\n",
    "Given list of names, `friends = ['Jane', 'Peter', 'John', 'Lee']`, modify the code cell such that it prouce the list with sequential numbers.\n",
    "\n",
    "```\n",
    "1: Jane\n",
    "2: Peter\n",
    "3: John\n",
    "4: Lee\n",
    "```\n",
    "\n",
    "#### Given list of names without index."
   ]
  },
  {
   "cell_type": "code",
   "execution_count": null,
   "metadata": {},
   "outputs": [],
   "source": [
    "friends = ['Jane', 'Peter', 'John', 'Lee']\n",
    "\n",
    "for friend in friends:\n",
    "    print(friend)"
   ]
  },
  {
   "cell_type": "markdown",
   "metadata": {},
   "source": [
    "####  Solution 1: Using an index but without using enumerate()"
   ]
  },
  {
   "cell_type": "code",
   "execution_count": null,
   "metadata": {},
   "outputs": [],
   "source": [
    "None"
   ]
  },
  {
   "cell_type": "markdown",
   "metadata": {},
   "source": [
    "####  Solution 2: Using enumerate()"
   ]
  },
  {
   "cell_type": "code",
   "execution_count": null,
   "metadata": {},
   "outputs": [],
   "source": [
    "None"
   ]
  },
  {
   "cell_type": "markdown",
   "metadata": {},
   "source": [
    "## Exercises [모인활 숙제]\n",
    "\n",
    "#### 1. Count to N\n",
    "\n",
    "Get an integer N from the user, print all the numbers from 1 to N twice as shown below.\n",
    "```\n",
    "1\n",
    "2\n",
    "3\n",
    "4\n",
    "5\n",
    "1 2 3 4 5\n",
    "```"
   ]
  },
  {
   "cell_type": "code",
   "execution_count": null,
   "metadata": {},
   "outputs": [],
   "source": [
    "N = int(input(\"Enter N: \"))\n",
    "None"
   ]
  },
  {
   "cell_type": "markdown",
   "metadata": {},
   "source": [
    "#### 2. Print even numbers twice\n",
    "\n",
    "Given an integer N, print all even numbers from 0 to N in ascending order and descending order\n",
    "\n",
    "Sample runs:\n",
    "```\n",
    "Enter N: 5\n",
    "0 2 4 \n",
    "4 2 0\n",
    "\n",
    "Enter N: 10\n",
    "0 2 4 6 8 10 \n",
    "10 8 6 4 2 0\n",
    "\n",
    "Enter N: 11\n",
    "0 2 4 6 8 10 \n",
    "10 8 6 4 2 0\n",
    "\n",
    "Enter N: 14\n",
    "0 2 4 6 8 10 12 14 \n",
    "14 12 10 8 6 4 2 0\n",
    "```"
   ]
  },
  {
   "cell_type": "markdown",
   "metadata": {},
   "source": [
    "1 2 3 4 5"
   ]
  },
  {
   "cell_type": "code",
   "execution_count": null,
   "metadata": {},
   "outputs": [],
   "source": [
    "N = int(input(\"Enter N: \"))\n"
   ]
  },
  {
   "cell_type": "markdown",
   "metadata": {},
   "source": [
    "#### 3. Ladder \n",
    "\n",
    "For given integer n ≤ 9 print a ladder of n steps. The k-th step consists of the integers from 1 to k without spaces between them.\n",
    "To do that, you can use the sep and end arguments for the function print().\n",
    "\n",
    "```\n",
    "Enter N: 5\n",
    "1\n",
    "12\n",
    "123\n",
    "1234\n",
    "12345\n",
    "\n",
    "Enter N: 3\n",
    "1\n",
    "12\n",
    "123\n",
    "```"
   ]
  },
  {
   "cell_type": "code",
   "execution_count": null,
   "metadata": {},
   "outputs": [],
   "source": [
    "N = int(input('Enter N: '))\n",
    "\n",
    "None"
   ]
  },
  {
   "cell_type": "markdown",
   "metadata": {},
   "source": [
    "#### 4. Another Stair\n",
    "For given positive integer N ≤ 9 print a stair of N steps. The k-th step consists of k of 1's  without spaces between them.\n",
    "To do that, you can use the sep and end arguments for the function print().\n",
    "\n",
    "```\n",
    "Enter N: 5\n",
    "1\n",
    "11\n",
    "111\n",
    "1111\n",
    "11111\n",
    "\n",
    "Enter N: 4\n",
    "1\n",
    "11\n",
    "111\n",
    "1111\n",
    "```"
   ]
  },
  {
   "cell_type": "markdown",
   "metadata": {},
   "source": [
    "#### 5. Yet Another Stair\n",
    "\n",
    "For given positive integer N ≤ 9 print a stair of N steps. The k-th step consists of the integers from k to 1 without spaces between them.\n",
    "To do that, you can use the sep and end arguments for the function print().\n",
    "\n",
    "```\n",
    "Enter N: 5\n",
    "1\n",
    "21\n",
    "321\n",
    "4321\n",
    "54321\n",
    "\n",
    "Enter N: 4\n",
    "1\n",
    "21\n",
    "321\n",
    "4321\n",
    "```"
   ]
  },
  {
   "cell_type": "code",
   "execution_count": null,
   "metadata": {},
   "outputs": [],
   "source": [
    "N = int(input('Enter N: '))\n",
    "None"
   ]
  },
  {
   "cell_type": "markdown",
   "metadata": {},
   "source": [
    "---------\n",
    "__\"Everything is permissible\" - but not everything is beneficial. \"Everything is permissible\" - but not everything is constructive.__\n",
    "1 Corinthians 10:23\n",
    "    "
   ]
  }
 ],
 "metadata": {
  "kernelspec": {
   "display_name": "Python 3",
   "language": "python",
   "name": "python3"
  },
  "language_info": {
   "codemirror_mode": {
    "name": "ipython",
    "version": 3
   },
   "file_extension": ".py",
   "mimetype": "text/x-python",
   "name": "python",
   "nbconvert_exporter": "python",
   "pygments_lexer": "ipython3",
   "version": "3.7.3"
  }
 },
 "nbformat": 4,
 "nbformat_minor": 1
}
