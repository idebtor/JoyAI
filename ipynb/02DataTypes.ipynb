{
 "cells": [
  {
   "cell_type": "markdown",
   "metadata": {},
   "source": [
    "# Welcome to CrushPython\n",
    "\n",
    "-------\n",
    "So tell them, 'As surely as I live, declares the LORD, I will do to you the very things I heard you say.' Numbers 14:28  \n"
   ]
  },
  {
   "cell_type": "markdown",
   "metadata": {},
   "source": [
    "__NOTE:__ The following materials have been adpated from the numerous sources including Python and Canopy web sites including my own. Please help me to keep this tutorial up-to-date by reporting any issues or questions. Send any comments or criticisms to `idebtor@gmail.com` Your assistances and comments will be appreciated.  "
   ]
  },
  {
   "cell_type": "markdown",
   "metadata": {},
   "source": [
    "------\n",
    "\n",
    "## Revisit: Tips on IPython magics\n",
    "Magics is a user-definable mini command language in IPython. Magics come in two kinds:\n",
    "- __Line magics:__ prepended by one `%` character and whose arguments only extend to the end of the current line.\n",
    "    ```\n",
    "    %pwd : print curren working directory\n",
    "    %ls : list the file names in the current working directory\n",
    "    %cd 'dir': changes to directory 'dir'.\n",
    "    %cd -: changes to the last visited directory.\n",
    "    %load 'source': load 'source' file into the current cell.\n",
    "    %run 'source': run 'source' file\n",
    "    %timeit : time execution of a statement or expression in line\n",
    "    ```\n",
    "- __Cell magics:__ These use two percent characters as a marker (`%%`), and they receive as argument both the current line where they are declared and the whole body of the cell.\n",
    "    ```\n",
    "    %%writefile 'source': write/overwrite the cell to 'source' file.\n",
    "    %%timeit : time execution of code in cell \n",
    "    ```\n",
    "    \n",
    "    \n",
    "__Note__: Automagic is ON, % prefix IS NOT needed for line magics.  \n",
    "\n",
    "__Recall__: `<Cntl+Enter>` executes the command in the current cell and stays there.\n",
    "\n",
    "\n",
    "- A text file can be loaded in a notebook cell with the magic command %load.\n",
    "```\n",
    "    %load filename.py\n",
    "```    \n",
    "- To save the cell content back into a file add the cell-magic `%%writefile filename.py` at the beginning of the cell and run it. Beware that if a file with the same name already exists it will be __silently overwritten__. For example:\n",
    "```\n",
    "    %%writefile foo.py\n",
    "    print('Hello World')\n",
    "```\n",
    "- To run the foo.py script file saved above:\n",
    "```\n",
    "    %run foo\n",
    "```\n",
    "- To list all available magics available: \n",
    "```\n",
    "    %lsmagic\n",
    "```\n",
    "- To see the help any the magic command add a `?`: like `%load?` or `%%writefile?`.\n",
    "- For general help on magic functions type `%magic` For a list of the available magic functions, use `%lsmagic`. For a description of any of them, type `%magic_name?`, e.g. `%cd?`.\n",
    "\n",
    "See also: [Magic functions](http://ipython.org/ipython-doc/dev/interactive/tutorial.html#magic-functions) from the official IPython docs.\n"
   ]
  },
  {
   "cell_type": "markdown",
   "metadata": {},
   "source": [
    "### Exercise\n",
    "\n",
    "1. Save the following cell in `lenna.py`.\n",
    "1. Read `lenna.py` file into a cell.\n",
    "1. Run the code and measure the execution time.\n",
    "\n",
    "__hint:__ writefile, load, timeit"
   ]
  },
  {
   "cell_type": "code",
   "execution_count": null,
   "metadata": {},
   "outputs": [],
   "source": [
    "import matplotlib.pyplot as plt\n",
    "from matplotlib.image import imread\n",
    "%matplotlib inline\n",
    "\n",
    "img = imread('https://github.com/idebtor/KMOOC-ML/blob/master/ipynb/images/lenna.png?raw=true')\n",
    "None"
   ]
  },
  {
   "cell_type": "markdown",
   "metadata": {},
   "source": [
    "__a solution__:"
   ]
  },
  {
   "cell_type": "code",
   "execution_count": null,
   "metadata": {},
   "outputs": [],
   "source": []
  },
  {
   "cell_type": "markdown",
   "metadata": {},
   "source": [
    "----------\n",
    "\n",
    "# Lesson - Data Types and Operations\n",
    "\n",
    "Let's take a look at the common numerical data types, string, bool and some other data types.\n",
    "\n",
    "- __int__ - integers: ..., -3, -2, -1, 0, 1, 2, 3, ...\n",
    "- __float__ - floating point numbers, decimal point fractions: -3.1, 1.5, 1e-8, 3.141592e5\n",
    "- __str__ - character strings, text: \"WhynotPython\", 'python', '3.16'\n",
    "- __bool__ - boolean values: `True` and `False`\n",
    "- __complex__ - A complex number is defined using a real component + an imaginary component j\n",
    "\n",
    "\n",
    "- __list__ - An ordered list of items : `[ 1, 5.3, 'Hello']`\n",
    "- __tuple__ - Tuples are immutable lists, while the list data can be modified, : `(1, 3, 5)`\n",
    "- __dict__ - Dictionaries are made up of key: value pairs: `{\"Lee\": 8 , \"Kay\": 5}`\n",
    "- __set__ - An unordered collection of data type without duplicate elements: `{1, 2, 'hello`}`"
   ]
  },
  {
   "cell_type": "markdown",
   "metadata": {},
   "source": [
    "\n",
    "## int - Integer data type\n",
    "\n",
    "The first of these is the integer type.  We can add integers, getting another integer as the result:"
   ]
  },
  {
   "cell_type": "code",
   "execution_count": null,
   "metadata": {},
   "outputs": [],
   "source": [
    "1 + 2"
   ]
  },
  {
   "cell_type": "markdown",
   "metadata": {},
   "source": [
    "We can also assign an integer to a variable:"
   ]
  },
  {
   "cell_type": "code",
   "execution_count": null,
   "metadata": {},
   "outputs": [],
   "source": [
    "a = 3 + 4"
   ]
  },
  {
   "cell_type": "markdown",
   "metadata": {},
   "source": [
    "We can ask the variable for its type, and see that it is `int`:"
   ]
  },
  {
   "cell_type": "code",
   "execution_count": null,
   "metadata": {},
   "outputs": [],
   "source": [
    "256*256                    # 2**8 * 2**8 = 2**16"
   ]
  },
  {
   "cell_type": "code",
   "execution_count": null,
   "metadata": {},
   "outputs": [],
   "source": [
    "65536 * 65536              # 2**32"
   ]
  },
  {
   "cell_type": "code",
   "execution_count": null,
   "metadata": {},
   "outputs": [],
   "source": [
    "4294967296 * 4294967296    # 2**64"
   ]
  },
  {
   "cell_type": "code",
   "execution_count": null,
   "metadata": {},
   "outputs": [],
   "source": [
    "a = 18446744073709551616 * 18446744073709551616                # 2*132"
   ]
  },
  {
   "cell_type": "code",
   "execution_count": null,
   "metadata": {},
   "outputs": [],
   "source": [
    "type(a)"
   ]
  },
  {
   "cell_type": "code",
   "execution_count": null,
   "metadata": {},
   "outputs": [],
   "source": [
    "a ** 1000"
   ]
  },
  {
   "cell_type": "markdown",
   "metadata": {},
   "source": [
    "__NOTE__: There is no longer a limit to the value of integers. "
   ]
  },
  {
   "cell_type": "markdown",
   "metadata": {},
   "source": [
    "## float - Floating Point Numbers\n",
    "\n",
    "You can represent real numbers in Python as easily as integers. You may use `float()` to convert `int` to `float` data type. For example,\n",
    "#### Convert `int` to `float` using `float()`"
   ]
  },
  {
   "cell_type": "code",
   "execution_count": null,
   "metadata": {},
   "outputs": [],
   "source": [
    "a = 5\n",
    "a = 1.2345\n",
    "type(a)"
   ]
  },
  {
   "cell_type": "markdown",
   "metadata": {},
   "source": [
    "Notice that the type of `a` is now `float`.\n",
    "\n",
    "This can be generalized for other numeric types: `int()`, `complex()`. It is called __type conversion__.\n",
    "\n",
    "#### convert `float` to `int` using `int()`"
   ]
  },
  {
   "cell_type": "code",
   "execution_count": null,
   "metadata": {},
   "outputs": [],
   "source": [
    "# float to int \n",
    "int(1.12345)"
   ]
  },
  {
   "cell_type": "code",
   "execution_count": null,
   "metadata": {},
   "outputs": [],
   "source": [
    "# float a = -1.98765 to int \n",
    "a = -1.98765\n",
    "a = int(a)"
   ]
  },
  {
   "cell_type": "markdown",
   "metadata": {},
   "source": [
    "__Notice__ that int() type conversion always __rounds towards 0__.\n",
    "\n",
    "You may apply it for complex number as well."
   ]
  },
  {
   "cell_type": "code",
   "execution_count": null,
   "metadata": {},
   "outputs": [],
   "source": [
    "# floating point number in string \n",
    "complex('123.4')"
   ]
  },
  {
   "cell_type": "markdown",
   "metadata": {},
   "source": [
    "Even you can convert a number in string as well."
   ]
  },
  {
   "cell_type": "code",
   "execution_count": null,
   "metadata": {},
   "outputs": [],
   "source": [
    "int('123')"
   ]
  },
  {
   "cell_type": "code",
   "execution_count": null,
   "metadata": {},
   "outputs": [],
   "source": [
    "float('123.4')"
   ]
  },
  {
   "cell_type": "markdown",
   "metadata": {},
   "source": [
    "\n",
    "## Str - string data type\n",
    "\n",
    "Another built-in Python data type is strings. Strings are sequences of letters, numbers, symbols, and spaces. In Python, strings can be almost any length and can contain spaces. Strings are assigned in Python using single quotation marks ' ' or double quotation marks \" \".\n",
    "\n",
    "- To represent a string, you may use a pair of single, double, or triple of double quations. Use a triple quote to have a multiple lines of comments. \n",
    "\n",
    "- For example\n",
    "```\n",
    "    'Hello World' \n",
    "    \"Hello World\"\n",
    "    \"\"\"Hello World\"\"\"\n",
    "    'Hello \"Mr. Kim\"'\n",
    "```\n",
    "- `print()` function - prints a textual representation to the console"
   ]
  },
  {
   "cell_type": "code",
   "execution_count": null,
   "metadata": {},
   "outputs": [],
   "source": [
    "a = 'Hello World'\n",
    "type(a)"
   ]
  },
  {
   "cell_type": "code",
   "execution_count": null,
   "metadata": {},
   "outputs": [],
   "source": [
    "b = \"Hello World\"\n",
    "type(b)"
   ]
  },
  {
   "cell_type": "code",
   "execution_count": null,
   "metadata": {},
   "outputs": [],
   "source": [
    "print(\"Hello World\")"
   ]
  },
  {
   "cell_type": "code",
   "execution_count": null,
   "metadata": {},
   "outputs": [],
   "source": [
    "print(\"Hello\", 'World')"
   ]
  },
  {
   "cell_type": "code",
   "execution_count": null,
   "metadata": {},
   "outputs": [],
   "source": [
    "print(\"Hello\" + 'World')"
   ]
  },
  {
   "cell_type": "markdown",
   "metadata": {},
   "source": [
    "#### Example 1: \n",
    "How do you print the follwoing sentence as shown exactly?\n",
    "```\n",
    "Hello \"Mr. Kim\"\n",
    "```"
   ]
  },
  {
   "cell_type": "code",
   "execution_count": null,
   "metadata": {},
   "outputs": [],
   "source": [
    "print(None)"
   ]
  },
  {
   "cell_type": "markdown",
   "metadata": {},
   "source": [
    "#### Example 2:\n",
    "\n",
    "How do you print the follwoing sentence as shown exactly?\n",
    "```\n",
    "-----------------------------------\n",
    "| Hello World, God loves you all. |\n",
    "-----------------------------------\n",
    "```"
   ]
  },
  {
   "cell_type": "code",
   "execution_count": 2,
   "metadata": {},
   "outputs": [
    {
     "name": "stdout",
     "output_type": "stream",
     "text": [
      "\n",
      "-----------------------------------\n",
      "| Hello World, God loves you all. |\n",
      "-----------------------------------\n",
      "\n"
     ]
    }
   ],
   "source": [
    "print(None)"
   ]
  },
  {
   "cell_type": "markdown",
   "metadata": {},
   "source": [
    "# Dynamically typed vs Strongly typed \n",
    "\n",
    "Let's assign a value of float type to complex type `a`. Then see what will happen. "
   ]
  },
  {
   "cell_type": "code",
   "execution_count": null,
   "metadata": {},
   "outputs": [],
   "source": [
    "a = 1 + 2j\n",
    "a = 1.4\n",
    "type(a)"
   ]
  },
  {
   "cell_type": "markdown",
   "metadata": {},
   "source": [
    "Wow! The assignment works (different from C/C++, java) and the type of the variable `a` is _dynamically_ changed from complex to the new type - string. So, Python is called __a dynamically typed language__. \n",
    "\n",
    "Then will the following code work? "
   ]
  },
  {
   "cell_type": "code",
   "execution_count": null,
   "metadata": {},
   "outputs": [],
   "source": [
    "a = \"Believe\"\n",
    "b = 2\n",
    "c = \"See\"\n",
    "print(a + b + c)"
   ]
  },
  {
   "cell_type": "markdown",
   "metadata": {},
   "source": [
    "It did not work. \n",
    "Many operations in Python depend on their types. So, Python is called __a strongly typed language__\n",
    "\n",
    "To fix the problem, we need to convert the type of the variable `b` to string. A built-in function `str()` converts the `int` type into a `str` type. Also compare the output of two print statements.\n",
    "\n",
    "#### Example 1. Fix the following code such that it prints `Believe2See`. \n",
    "- Pay attention to the difference between two `print()` functions below:"
   ]
  },
  {
   "cell_type": "code",
   "execution_count": 1,
   "metadata": {},
   "outputs": [
    {
     "ename": "NameError",
     "evalue": "name 'a' is not defined",
     "output_type": "error",
     "traceback": [
      "\u001b[1;31m---------------------------------------------------------------------------\u001b[0m",
      "\u001b[1;31mNameError\u001b[0m                                 Traceback (most recent call last)",
      "\u001b[1;32m<ipython-input-1-dfcde7f8b735>\u001b[0m in \u001b[0;36m<module>\u001b[1;34m\u001b[0m\n\u001b[1;32m----> 1\u001b[1;33m \u001b[0mprint\u001b[0m\u001b[1;33m(\u001b[0m\u001b[0ma\u001b[0m \u001b[1;33m+\u001b[0m \u001b[0mb\u001b[0m \u001b[1;33m+\u001b[0m \u001b[0mc\u001b[0m\u001b[1;33m)\u001b[0m    \u001b[1;31m# fix this line\u001b[0m\u001b[1;33m\u001b[0m\u001b[1;33m\u001b[0m\u001b[0m\n\u001b[0m\u001b[0;32m      2\u001b[0m \u001b[0mprint\u001b[0m\u001b[1;33m(\u001b[0m\u001b[0ma\u001b[0m\u001b[1;33m,\u001b[0m \u001b[0mb\u001b[0m\u001b[1;33m,\u001b[0m \u001b[0mc\u001b[0m\u001b[1;33m)\u001b[0m      \u001b[1;31m# it produeces 'Believe 2 See'\u001b[0m\u001b[1;33m\u001b[0m\u001b[1;33m\u001b[0m\u001b[0m\n",
      "\u001b[1;31mNameError\u001b[0m: name 'a' is not defined"
     ]
    }
   ],
   "source": [
    "print(a + None + c)    # fix this line\n",
    "print(a, b, c)      # it produeces 'Believe 2 See' "
   ]
  },
  {
   "cell_type": "markdown",
   "metadata": {},
   "source": [
    "------------\n",
    "## Arithmetic Operations\n",
    "\n",
    "Let's use an example of a more involved numerical expression to get some familiarity with Python's operation syntax and order of operations."
   ]
  },
  {
   "cell_type": "markdown",
   "metadata": {},
   "source": [
    "####   Evaluate `1 - 4 * 2**3 - 60 // 7 + 89 % 98`"
   ]
  },
  {
   "cell_type": "markdown",
   "metadata": {},
   "source": [
    "Looking at this, most of the operations should be straightforward, but `**` in Python indicates exponentiation, and `%` is the modulo (or remainder) operation.\n",
    "\n",
    "Python's precedence order for operations is fairly standard (from highest to lowest):\n",
    "\n",
    "* `( )` (parenthesis grouping)\n",
    "* `**`  (exponentiation)\n",
    "* `*`   (multiplication), \n",
    "* `/`(true division), \n",
    "* `//`(integer division) - also called __floor division__ since applying the floor function after division.\n",
    "* `%`(modulus) - remainder of the division of the two operands, rather than the quotient\n",
    "* `+`, `-` (addition, subtraction)\n",
    "\n",
    "Example 1: `6%2` evaluates to `0` because there's no remainder if 6 is divided by 2 ( 3 times ).\n",
    "\n",
    "Example 2: `7%2` evaluates to `1` because there's a remainder of 1 when 7 is divided by 2 ( 3 times ).\n",
    "\n",
    "Example 3: `4*2**3` evaluates the exponentiation part first and multiplication.  "
   ]
  },
  {
   "cell_type": "code",
   "execution_count": null,
   "metadata": {},
   "outputs": [],
   "source": [
    "4 * 2**3"
   ]
  },
  {
   "cell_type": "markdown",
   "metadata": {},
   "source": [
    "So we now have `1 - 32 - 60 // 7 + 89 % 98`.\n",
    "\n",
    "The next operations are multiplication, integer division // and modulo. Be caucious when there is a negative number in modulo operation. "
   ]
  },
  {
   "cell_type": "code",
   "execution_count": null,
   "metadata": {},
   "outputs": [],
   "source": [
    "60 // 7, 89 % 98"
   ]
  },
  {
   "cell_type": "markdown",
   "metadata": {},
   "source": [
    "and the expression simplifies to `1 - 32 + 8 + 89`."
   ]
  },
  {
   "cell_type": "code",
   "execution_count": null,
   "metadata": {},
   "outputs": [],
   "source": [
    "print(1 - 4*2**3 - 60 // 7 + 89 % 98) \n",
    "print(1 - 32 - 8 + 89)"
   ]
  },
  {
   "cell_type": "markdown",
   "metadata": {},
   "source": [
    "## Evaluate the following expressions: \n",
    "\n",
    "#### Example 1: Print each digit in a three-digit number."
   ]
  },
  {
   "cell_type": "code",
   "execution_count": null,
   "metadata": {},
   "outputs": [],
   "source": [
    "digits = 248\n",
    "digit1 = None\n",
    "digit2 = None\n",
    "digit3 = None\n",
    "print(digit1)\n",
    "print(digit2)\n",
    "print(digit3)"
   ]
  },
  {
   "cell_type": "markdown",
   "metadata": {},
   "source": [
    "#### Example 2: Evaluate the expression."
   ]
  },
  {
   "cell_type": "code",
   "execution_count": null,
   "metadata": {},
   "outputs": [],
   "source": [
    "((2 * 3 + 4) / 5) ** 2 % 3"
   ]
  },
  {
   "cell_type": "markdown",
   "metadata": {},
   "source": [
    "#### Example 3: Limitations of floating point representation\n",
    "\n",
    "- Beware that due to the limitations of [floating point arithmetic](https://en.wikipedia.org/wiki/Floating-point_arithmetic), rounding errors can cause unexpected results. \n",
    "\n",
    "- [Floating Point Arithmetic: Issues and Limitations](https://docs.python.org/2/tutorial/floatingpoint.html)"
   ]
  },
  {
   "cell_type": "code",
   "execution_count": null,
   "metadata": {},
   "outputs": [],
   "source": [
    "a = 0.6/0.2\n",
    "a"
   ]
  },
  {
   "cell_type": "code",
   "execution_count": null,
   "metadata": {},
   "outputs": [],
   "source": [
    "a = 0.6//0.2\n",
    "a"
   ]
  },
  {
   "cell_type": "markdown",
   "metadata": {},
   "source": [
    "#### Example 4:\n",
    "\n",
    "Let's do the same thing as done above but with `a = 1.4 - 1.0` and see what happens."
   ]
  },
  {
   "cell_type": "code",
   "execution_count": null,
   "metadata": {},
   "outputs": [],
   "source": [
    "a = 1.4 - 1.0\n",
    "if (a == 0.4):\n",
    "    print('yes, it is 0.4')\n",
    "else:\n",
    "    print('no, it is not 0.4')"
   ]
  },
  {
   "cell_type": "code",
   "execution_count": null,
   "metadata": {},
   "outputs": [],
   "source": [
    "1.4 - 1.0"
   ]
  },
  {
   "cell_type": "code",
   "execution_count": null,
   "metadata": {},
   "outputs": [],
   "source": [
    "1.6 - 1.0"
   ]
  },
  {
   "cell_type": "markdown",
   "metadata": {},
   "source": [
    "#### Example 5:\n",
    "\n",
    "Write a code that accepts an age from user and display the result as shown below. You may need to use `int()` and `input()`. \n",
    "\n",
    "```\n",
    "What is your age?\n",
    "7\n",
    "Your age becomes 8 tomorrow. \n",
    "```"
   ]
  },
  {
   "cell_type": "code",
   "execution_count": null,
   "metadata": {},
   "outputs": [],
   "source": [
    "age = None\n",
    "print('your age becomes ', None, 'tomorrow.')"
   ]
  },
  {
   "cell_type": "markdown",
   "metadata": {},
   "source": [
    "## Simple Math Functions\n",
    "\n",
    "There are a number of simple math functions that are available in Python, and we'll show a few here to give you an idea.\n",
    "\n",
    "```\n",
    "    abs()\n",
    "    round()\n",
    "    max()\n",
    "    min()\n",
    "```\n",
    "\n",
    "You can get the absolute value with `abs()`:"
   ]
  },
  {
   "cell_type": "code",
   "execution_count": null,
   "metadata": {},
   "outputs": [],
   "source": [
    "abs(-3)"
   ]
  },
  {
   "cell_type": "markdown",
   "metadata": {},
   "source": [
    "You can round a floating point number to the nearest whole number using `round()`:"
   ]
  },
  {
   "cell_type": "code",
   "execution_count": null,
   "metadata": {},
   "outputs": [],
   "source": [
    "round(2.718281828)"
   ]
  },
  {
   "cell_type": "markdown",
   "metadata": {},
   "source": [
    "And you can use `max()` and `min()` functions to compute minimum and maximum values from a collection of values:"
   ]
  },
  {
   "cell_type": "code",
   "execution_count": null,
   "metadata": {},
   "outputs": [],
   "source": [
    "max(0, min(10, -1, 4, 3))"
   ]
  },
  {
   "cell_type": "markdown",
   "metadata": {},
   "source": [
    "This example is a little more involved, what's happening is that we have two parts.\n",
    "\n",
    "The first is the minimum of `10`, `-1`, `4` and `3`:"
   ]
  },
  {
   "cell_type": "code",
   "execution_count": null,
   "metadata": {},
   "outputs": [],
   "source": [
    "min(10, -1, 4, 3)"
   ]
  },
  {
   "cell_type": "markdown",
   "metadata": {},
   "source": [
    "The second is the maximum of 0 and the result of the first part:"
   ]
  },
  {
   "cell_type": "code",
   "execution_count": null,
   "metadata": {},
   "outputs": [],
   "source": [
    "max(0, -1)"
   ]
  },
  {
   "cell_type": "markdown",
   "metadata": {},
   "source": [
    "which is 0, and that's the result.\n",
    "\n",
    "## Overwriting Functions (!)\n",
    "\n",
    "One thing that may be surprising if you have worked with other languages is that these functions can be overridden.  \n",
    "\n",
    "#### Step 1. Check the type of `max`"
   ]
  },
  {
   "cell_type": "code",
   "execution_count": null,
   "metadata": {},
   "outputs": [],
   "source": [
    "type(max)"
   ]
  },
  {
   "cell_type": "markdown",
   "metadata": {},
   "source": [
    "#### Step 2. Find the maximum value out of `1, 7, 3, 4, 5`"
   ]
  },
  {
   "cell_type": "code",
   "execution_count": null,
   "metadata": {},
   "outputs": [],
   "source": [
    "max(1, 7, 3, 4, 5)                         #max(), min() are built-in functions"
   ]
  },
  {
   "cell_type": "markdown",
   "metadata": {},
   "source": [
    "#### Step 3. Let's assign `max` with `100`\n",
    "\n",
    "The name `max`, for example, has nothing special about it---it's not a keyword---and the name can be bound to an integer or any other value:"
   ]
  },
  {
   "cell_type": "code",
   "execution_count": null,
   "metadata": {},
   "outputs": [],
   "source": [
    "# assign 100 to max.   <---- don't do this\n",
    "max = 100"
   ]
  },
  {
   "cell_type": "markdown",
   "metadata": {},
   "source": [
    "#### Step 4. Check the type of `max`\n",
    "So now we've done this `max` is an integer:"
   ]
  },
  {
   "cell_type": "code",
   "execution_count": null,
   "metadata": {},
   "outputs": [],
   "source": [
    "type(max)"
   ]
  },
  {
   "cell_type": "markdown",
   "metadata": {},
   "source": [
    "#### Step 5. Try to call `max(4, 5)`.\n",
    "Then, we'll get a type error since `max` is an integer now, not a function, and you can't call an integer.\n",
    "\n",
    "- How can we get max() function back?"
   ]
  },
  {
   "cell_type": "code",
   "execution_count": null,
   "metadata": {},
   "outputs": [],
   "source": [
    "max(4, 5)"
   ]
  },
  {
   "cell_type": "markdown",
   "metadata": {},
   "source": [
    "#### Step 6. To recover the `max()` function, use `del` command.\n",
    "\n",
    "In this case we can remove the local definition of `max` that is masking the built-in function by using the `del` statement:"
   ]
  },
  {
   "cell_type": "code",
   "execution_count": null,
   "metadata": {},
   "outputs": [],
   "source": [
    "del max"
   ]
  },
  {
   "cell_type": "markdown",
   "metadata": {},
   "source": [
    "#### Step 7. Check it.\n",
    "If we check now, we'll see that `max` is back to being a function:"
   ]
  },
  {
   "cell_type": "code",
   "execution_count": null,
   "metadata": {},
   "outputs": [],
   "source": [
    "max(4, 5)"
   ]
  },
  {
   "cell_type": "markdown",
   "metadata": {},
   "source": [
    "## In-Place Operations\n",
    "\n",
    "In-place operation of the standard arithmetic operations are possible using `+=`, `-=`, and so forth, but neither pre/postincrement nor pre/post decrement in Python."
   ]
  },
  {
   "cell_type": "code",
   "execution_count": null,
   "metadata": {},
   "outputs": [],
   "source": [
    "b = 2.5\n",
    "b += 0.5   # b = b + 0.5\n",
    "b"
   ]
  },
  {
   "cell_type": "markdown",
   "metadata": {},
   "source": [
    "## bool - Boolean Data Type\n",
    "\n",
    "The boolean data type is either `True` or `False`. In Python, boolean variables are defined by the `True` and `False` keywords. Boolean arithmetic is the arithmetic of true and false logic. A boolean or logical value can either be True or False. Boolean values can be manipulated and combined with boolean operators. Boolean operators in Python include `and`, `or`, and `not`. It either returns `True` or `False` according to the condition.\n",
    "\n",
    "__Boolean operators:__\n",
    "\n",
    "```\n",
    "    or\n",
    "    and\n",
    "    not\n",
    "```\n",
    "\n",
    "__Comparison Operators:__\n",
    "- `>`\tGreater than - True if left operand is greater than the right\t`x > y`\n",
    "- `<`\tLess than - True if left operand is less than the right\t`x < y`\n",
    "- `==`\tEqual to - True if both operands are equal\t`x == y`\n",
    "- `!=`\tNot equal to - True if operands are not equal\t`x != y`\n",
    "- `>=`\tGreater than or equal to - True if left operand is greater than or equal to the right\t`x >= y`\n",
    "- `<=`\tLess than or equal to - True if left operand is less than or equal to the right\n",
    "\n",
    "These comparison operators are quite standard. So for example:"
   ]
  },
  {
   "cell_type": "code",
   "execution_count": null,
   "metadata": {},
   "outputs": [],
   "source": [
    "# Evalueate the result of a boolean expression\n",
    "a = 3 > 4\n",
    "a"
   ]
  },
  {
   "cell_type": "markdown",
   "metadata": {},
   "source": [
    "and see that the type of `q` is now `bool`:"
   ]
  },
  {
   "cell_type": "code",
   "execution_count": null,
   "metadata": {},
   "outputs": [],
   "source": [
    "# Evaluate p and q and print whetehr or not it is true.  \n",
    "q = 5 > 10\n",
    "p = 5 < 10\n",
    "if (q == True):\n",
    "    print('q is true')"
   ]
  },
  {
   "cell_type": "code",
   "execution_count": null,
   "metadata": {},
   "outputs": [],
   "source": [
    "if (q):\n",
    "    print('q is true')"
   ]
  },
  {
   "cell_type": "markdown",
   "metadata": {},
   "source": [
    "### Boolean(Logical) Expressions \n",
    "A boolean expression (or logical expression) evaluates to one of two states true or false. Comparisons can be combined using the logical operators `and`, `or` and `not`.  So for example:"
   ]
  },
  {
   "cell_type": "markdown",
   "metadata": {},
   "source": [
    "#### Example 1: \n",
    "\n",
    "Write a boolean expression that returns true if `age` is between `20` and `29`, inclusively, false otherwise."
   ]
  },
  {
   "cell_type": "code",
   "execution_count": null,
   "metadata": {},
   "outputs": [],
   "source": [
    "age >= 20 and age <= 29"
   ]
  },
  {
   "cell_type": "markdown",
   "metadata": {},
   "source": [
    "#### Example 2: Using chained comparison\n",
    "\n",
    "- One really __slick feature__ of Python's comparisons are chained comparisons:"
   ]
  },
  {
   "cell_type": "code",
   "execution_count": null,
   "metadata": {},
   "outputs": [],
   "source": [
    "20 <= age <= 29"
   ]
  },
  {
   "cell_type": "markdown",
   "metadata": {},
   "source": [
    "#### Example 3: What is the result of the following expression?"
   ]
  },
  {
   "cell_type": "code",
   "execution_count": null,
   "metadata": {},
   "outputs": [],
   "source": [
    "5 < 10 and 10 < 20"
   ]
  },
  {
   "cell_type": "code",
   "execution_count": null,
   "metadata": {},
   "outputs": [],
   "source": [
    "5 < 10 or 10 < 20"
   ]
  },
  {
   "cell_type": "code",
   "execution_count": null,
   "metadata": {},
   "outputs": [],
   "source": [
    "5 < 10 or 10 > 20"
   ]
  },
  {
   "cell_type": "markdown",
   "metadata": {},
   "source": [
    "### Short-circuit evaluation\n",
    "\n",
    "Python uses [\"short-circuit\" evaluation](http://en.wikipedia.org/wiki/Short-circuit_evaluation) of logical expressions if the value of subsequent terms can't affect the result.  \n",
    "\n",
    "\n",
    "#### Example 4: "
   ]
  },
  {
   "cell_type": "code",
   "execution_count": null,
   "metadata": {},
   "outputs": [],
   "source": [
    "1 < 0 and max(0, 1, 2) > 1"
   ]
  },
  {
   "cell_type": "markdown",
   "metadata": {},
   "source": [
    "`False` since the first operand is `False` regrardless of the following part of expression.  \n",
    "\n",
    "There is no way that the full expression could ever evalute to `True` and so Python __skips the evaluation of the second operand__, and returns `False` straight away. This is called short-circuit evaluation."
   ]
  },
  {
   "cell_type": "markdown",
   "metadata": {},
   "source": [
    "#### Example 5: What do you expect from the following two logical expressions, respectively?\n",
    "\n",
    "1. `1 > 4 and 5 < xx`\n",
    "1. `1 > 4 or 5 < xx`\n",
    "\n",
    "Possible choices:\n",
    "1. Name error\n",
    "1. Type error\n",
    "1. True \n",
    "1. False"
   ]
  },
  {
   "cell_type": "code",
   "execution_count": null,
   "metadata": {},
   "outputs": [],
   "source": [
    "1 > 4 and 5 < xx"
   ]
  },
  {
   "cell_type": "code",
   "execution_count": null,
   "metadata": {},
   "outputs": [],
   "source": [
    "1 > 4 or 5 < xx"
   ]
  },
  {
   "cell_type": "markdown",
   "metadata": {},
   "source": [
    "#### Example 6:  What is the evaluation of the following expreesion?\n"
   ]
  },
  {
   "cell_type": "code",
   "execution_count": null,
   "metadata": {},
   "outputs": [],
   "source": [
    "a = 50\n",
    "a < 10 or a > 100"
   ]
  },
  {
   "cell_type": "markdown",
   "metadata": {},
   "source": [
    "Python's `or` operator works in a similar way. The short-circuit evaluation works here since the first operand is `True`:\n",
    "\n",
    "#### Example 7:  What is the evaluation of the following expreesion?"
   ]
  },
  {
   "cell_type": "code",
   "execution_count": null,
   "metadata": {},
   "outputs": [],
   "source": [
    "b = 0\n",
    "b < 10 or b > yy   # second term won't be evaluated"
   ]
  },
  {
   "cell_type": "markdown",
   "metadata": {},
   "source": [
    "And finally, the `not` operation inverts the value of the argument:"
   ]
  },
  {
   "cell_type": "code",
   "execution_count": null,
   "metadata": {},
   "outputs": [],
   "source": [
    "not 10 <= a <= 90"
   ]
  },
  {
   "cell_type": "markdown",
   "metadata": {},
   "source": [
    "#### Example 8:\n",
    "Write a logical expression which evaluates an age to be `True` if the age is a teenage. The teenage means between 13 and 19 inclusively."
   ]
  },
  {
   "cell_type": "code",
   "execution_count": null,
   "metadata": {},
   "outputs": [],
   "source": [
    "age = 15\n",
    "# write a logical expression below to determine whether or not age is teen.\n",
    "age >= 13 and age <= 19\n",
    "\n",
    "13 <= age <= 19"
   ]
  },
  {
   "cell_type": "markdown",
   "metadata": {},
   "source": [
    "## Exercise 1. Teen Age\n",
    "\n",
    "- Write a function, `is_teen(age)`, which returns if `age` is a teen age.\n",
    "- Write a code to test `is_teen()` while calling it from `age = 9` to `age = 21`.\n",
    "- Print the result as shown below:\n",
    "\n",
    "```\n",
    "The age 9 is not a teen\n",
    "The age 10 is not a teen\n",
    "The age 11 is not a teen\n",
    "The age 12 is not a teen\n",
    "The age 13 is a teen\n",
    "The age 14 is a teen\n",
    "The age 15 is a teen\n",
    "The age 16 is a teen\n",
    "The age 17 is a teen\n",
    "The age 18 is a teen\n",
    "The age 19 is a teen\n",
    "The age 20 is not a teen\n",
    "The age 21 is not a teen\n",
    "```\n",
    "\n",
    "#### Step 1: Code is_teean(age) function first"
   ]
  },
  {
   "cell_type": "code",
   "execution_count": null,
   "metadata": {},
   "outputs": [],
   "source": [
    "# Replace `None` with the logic expression you developed above.\n",
    "def is_teen(age):\n",
    "    return None "
   ]
  },
  {
   "cell_type": "markdown",
   "metadata": {},
   "source": [
    "#### Step 2: Write a test code to produce the output shown above.\n",
    "\n",
    "#### Method 1: Using a list of ages "
   ]
  },
  {
   "cell_type": "code",
   "execution_count": null,
   "metadata": {},
   "outputs": [],
   "source": [
    "# test is_teen() \n",
    "for age in [9, 10, 11, 12, 13, 14, 15, 16, 17, 18, 19, 20, 21]:\n",
    "    if is_teen(age): \n",
    "        print('The age', age, 'is a teen')\n",
    "    else:\n",
    "        print('The age', age, 'is not a teen')"
   ]
  },
  {
   "cell_type": "markdown",
   "metadata": {},
   "source": [
    "#### Method 2: Using `range()` "
   ]
  },
  {
   "cell_type": "code",
   "execution_count": null,
   "metadata": {},
   "outputs": [],
   "source": [
    "for age in None:\n",
    "    if is_teen(age): \n",
    "        print('The age', age, 'is a teen')\n",
    "    else:\n",
    "        print('The age', age, 'is not a teen')"
   ]
  },
  {
   "cell_type": "markdown",
   "metadata": {},
   "source": [
    "## Exercise 2. Leap Year\n",
    "\n",
    "A leap year is exactly divisible by 4 except for century years (years ending with 00). The century year is a leap year only if it is perfectly divisible by 400. For example,\n",
    "\n",
    "```\n",
    "2017 is not a leap year\n",
    "1900 is a not leap year\n",
    "2012 is a leap year\n",
    "2000 is a leap year\n",
    "```\n",
    "\n",
    "To test a leap year interactively, you may code it as shwon below:"
   ]
  },
  {
   "cell_type": "code",
   "execution_count": null,
   "metadata": {},
   "outputs": [],
   "source": [
    "# Python program to check if the input year is a leap year or not\n",
    "year = int(input(\"Enter a year: \"))\n",
    "if (year % 4) == 0:\n",
    "   if (year % 100) == 0:\n",
    "       if (year % 400) == 0:\n",
    "           print(\"{0} is a leap year\".format(year))\n",
    "       else:\n",
    "           print(\"{0} is not a leap year\".format(year))\n",
    "   else:\n",
    "       print(\"{0} is a leap year\".format(year))\n",
    "else:\n",
    "   print(\"{0} is not a leap year\".format(year))"
   ]
  },
  {
   "cell_type": "markdown",
   "metadata": {},
   "source": [
    "#### Step 1: Coding `is_leap_year()` function:\n",
    "Now, complete the following `is_leap_year()` function that returns `True` if `year` is a leap year, `False` otherwise. "
   ]
  },
  {
   "cell_type": "code",
   "execution_count": null,
   "metadata": {},
   "outputs": [],
   "source": [
    "def is_leap_year(year):\n",
    "    return (None and None) or (None) == 0"
   ]
  },
  {
   "cell_type": "markdown",
   "metadata": {},
   "source": [
    "#### Step 2: Coding to test `is_leap_year()` to have the following output shown below:\n",
    "```\n",
    "100 No, it is not.\n",
    "200 No, it is not.\n",
    "1990 No, it is not.\n",
    "2000 Yes, it is a leap year\n",
    "2002 No, it is not.\n",
    "2004 Yes, it is a leap year\n",
    "2010 No, it is not.\n",
    "2100 No, it is not.\n",
    "```"
   ]
  },
  {
   "cell_type": "code",
   "execution_count": null,
   "metadata": {},
   "outputs": [],
   "source": [
    "# test leap_year()\n",
    "for year in [100, 200, 1990, 2000, 2002, 2004, 2010, 2100]:\n",
    "    if is_leap_year(year):\n",
    "        print(year, 'is a leap year')\n",
    "    else:\n",
    "        print(year, 'is not a leap year')\n",
    "        "
   ]
  },
  {
   "cell_type": "markdown",
   "metadata": {},
   "source": [
    "------------------\n",
    "\n",
    "# Homework \n",
    "\n",
    "__\"모인활:모두를 위한 인공지능의 활용\"__ 수강생은 다음 문제들 중에서 여러 방법으로 코딩할 수 있는 문제는 단 하나의 방법으로만 코딩해도 됩니다. \n",
    "\n",
    "## 1. Given an integer number, print its last digit.\n",
    "\n",
    "Print the last digit of a which is an integer.\n",
    "\n",
    "For example, print `5` if `35`, `6` if `6`, and `9` if `5679`. "
   ]
  },
  {
   "cell_type": "markdown",
   "metadata": {},
   "source": [
    "#### Method 1: Using any arithmetic operators.\n",
    "- Often we use both modulus `%` operator and floor division `//`. "
   ]
  },
  {
   "cell_type": "code",
   "execution_count": null,
   "metadata": {},
   "outputs": [],
   "source": [
    "# Read an integer:\n",
    "a = int(input(\"Enter an integer number: \"))\n",
    "print(type(a))\n",
    "\n"
   ]
  },
  {
   "cell_type": "markdown",
   "metadata": {},
   "source": [
    "#### Method 2: Using `len()` and indexing "
   ]
  },
  {
   "cell_type": "code",
   "execution_count": null,
   "metadata": {},
   "outputs": [],
   "source": [
    "# Read an integer as a string\n",
    "s = input(\"Enter an integer number: \")\n",
    "print(type(s))\n",
    "# Using len() and indexing  \n",
    "\n"
   ]
  },
  {
   "cell_type": "markdown",
   "metadata": {},
   "source": [
    "#### Method 3: Using indexing "
   ]
  },
  {
   "cell_type": "code",
   "execution_count": null,
   "metadata": {},
   "outputs": [],
   "source": [
    "# Read an integer as a string\n",
    "s = input(\"Enter an integer number: \")\n",
    "print(type(s))\n",
    "# using indexing \n",
    "\n"
   ]
  },
  {
   "cell_type": "markdown",
   "metadata": {},
   "source": [
    "## 2. Given a three-digit number. Find the sum of its digits.\n",
    "\n",
    "Print the sum of three-digit number which is an integer.\n",
    "\n",
    "For example, print `10` if `316`, `13` if `256`, `18` if `567`. \n",
    "\n",
    "#### Method 1: Using % (mod operator) and // (integer division)"
   ]
  },
  {
   "cell_type": "code",
   "execution_count": null,
   "metadata": {},
   "outputs": [],
   "source": [
    "a = int(input(\"3 digit number: \"))\n",
    "\n",
    "\n",
    "\n",
    "\n",
    "print (x + y + z)"
   ]
  },
  {
   "cell_type": "code",
   "execution_count": null,
   "metadata": {},
   "outputs": [],
   "source": [
    "a = int(input(\"3 digit number: \"))\n",
    "\n",
    "\n",
    "\n",
    "\n",
    "print (x + y + z)"
   ]
  },
  {
   "cell_type": "markdown",
   "metadata": {},
   "source": [
    "#### Method 2: __Sum all digits for any number of digits and using str() and for loop__"
   ]
  },
  {
   "cell_type": "code",
   "execution_count": null,
   "metadata": {},
   "outputs": [],
   "source": [
    "# Read an integer as a string:\n",
    "s = input(\"Enter an int number: \")\n",
    "\n",
    "# for example, print 6 if a is 123, 18 if a is 369. \n",
    "sum = 0\n",
    "\n",
    "\n",
    "    \n",
    "print(sum)"
   ]
  },
  {
   "cell_type": "markdown",
   "metadata": {},
   "source": [
    "#### Method 3: Using indexing"
   ]
  },
  {
   "cell_type": "code",
   "execution_count": null,
   "metadata": {},
   "outputs": [],
   "source": [
    "# Read an integer as a string:\n",
    "s = input(\"Enter an int number: \")\n",
    "\n",
    "# for example, print 6 if a is 123, 18 if a is 369. \n",
    "sum = 0\n",
    "\n",
    "\n",
    "    \n",
    "print(sum)"
   ]
  },
  {
   "cell_type": "markdown",
   "metadata": {},
   "source": [
    "#### Method 4: Using list comprehension - This topic will be handled later sessions. \n",
    "Using built-in function `sum()`, `int()`, and list comprehension, we can just do it in one line of code.\n",
    "\n",
    "- To use built-in `sum()` function, use `del` command to undefine sum which was previously defined.\n",
    "- `Input()` returns a `str` type data. \n",
    "- Use list comprehension and get each character.\n",
    "- Use `sum()` to sum up the element in the list. "
   ]
  },
  {
   "cell_type": "code",
   "execution_count": null,
   "metadata": {},
   "outputs": [],
   "source": [
    "del sum\n",
    "# Read an integer as a string:\n",
    "s = input(\"Enter an int number: \")\n",
    "\n",
    "# for example, print 6 if a is 123, 18 if a is 369. \n",
    "total = None\n",
    "\n",
    "print(total)"
   ]
  },
  {
   "cell_type": "markdown",
   "metadata": {},
   "source": [
    "__Challenge Problem:__ Do it for any number of digits and using while loop"
   ]
  },
  {
   "cell_type": "code",
   "execution_count": null,
   "metadata": {},
   "outputs": [],
   "source": [
    "# Read an integer:\n",
    "n = int(input(\"Enter an int number: \"))\n",
    "# for example, print 6 if a is 123, 18 if a is 369. \n",
    "sum = 0\n",
    "\n",
    "    \n",
    "print(sum)"
   ]
  },
  {
   "cell_type": "markdown",
   "metadata": {},
   "source": [
    "## 3. Clock displays military time\n",
    "\n",
    "The integer N given is the number of minutes that is passed since midnight. Display the hour and minute in military time. The program should print two numbers: the number of hours (between 0 and 23) and the number of minutes (between 0 and 59). For example, if N = 150, then 150 minutes have passed since midnight - i.e. now is 2:30 am. So the program should print 2:30."
   ]
  },
  {
   "cell_type": "code",
   "execution_count": null,
   "metadata": {},
   "outputs": [],
   "source": [
    "# Read an integer:\n",
    "a = int(input())\n",
    "print(a)\n",
    "# print 3:0 for 180, 7:24 for 444, 18:31 for 1111, 23:59 for 1439 \n",
    "\n"
   ]
  },
  {
   "cell_type": "markdown",
   "metadata": {},
   "source": [
    "## 4. Equal numbers\n",
    "\n",
    "Given three integers, determine how many of them are equal to each other. The program must print one of these numbers: 3 (if all are the same), 2 (if two of them are equal to each other and the third is different) or 0 (if all numbers are different)."
   ]
  },
  {
   "cell_type": "code",
   "execution_count": null,
   "metadata": {},
   "outputs": [],
   "source": [
    "# Read an integer:\n",
    "x = int(input(\"x:\"))\n",
    "y = int(input(\"y:\"))\n",
    "z = int(input(\"z:\"))\n",
    "\n",
    "\n"
   ]
  },
  {
   "cell_type": "code",
   "execution_count": null,
   "metadata": {},
   "outputs": [],
   "source": [
    "# Read an integer:\n",
    "x = int(input(\"x:\"))\n",
    "y = int(input(\"y:\"))\n",
    "z = int(input(\"n:\"))\n",
    "\n",
    "\n"
   ]
  },
  {
   "cell_type": "markdown",
   "metadata": {},
   "source": [
    "--------\n",
    "__The LORD bless you and keep you.__ Numbers 6:24"
   ]
  }
 ],
 "metadata": {
  "kernelspec": {
   "display_name": "Python 3",
   "language": "python",
   "name": "python3"
  },
  "language_info": {
   "codemirror_mode": {
    "name": "ipython",
    "version": 3
   },
   "file_extension": ".py",
   "mimetype": "text/x-python",
   "name": "python",
   "nbconvert_exporter": "python",
   "pygments_lexer": "ipython3",
   "version": "3.7.3"
  }
 },
 "nbformat": 4,
 "nbformat_minor": 1
}
