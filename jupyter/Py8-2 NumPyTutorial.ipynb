{
 "cells": [
  {
   "cell_type": "markdown",
   "metadata": {},
   "source": [
    "The fear of the LORD is the beginning of knowledge, but fools despise wisdom and discipline. Proverbs 1:7\n",
    "\n",
    "-------\n",
    "\n",
    "# Welcome to \"AI for All\"\n",
    "\n",
    "Lecture Notes by idebtor@gmail.com, Handong Global University"
   ]
  },
  {
   "cell_type": "markdown",
   "metadata": {},
   "source": [
    "# Chapter 3. 넘파이$^{NumPy}$ 튜토리얼(2/3)\n",
    "\n",
    "## 학습 목표\n",
    "    - 기계학습에서 왜 넘파이를 사용하는지 이해한다\n",
    "    - 넘파이 개념과 기본적인 사용법을 익힌다.\n",
    "\n",
    "## 학습 내용\n",
    "1. 배열의 형상 다루기 \n",
    "2. 배열들 합치기 \n",
    "3. 배열의 인덱싱과 슬라이싱\n",
    "4. 배열과 벡터의 연산"
   ]
  },
  {
   "cell_type": "markdown",
   "metadata": {},
   "source": [
    "## 1. 배열의 형상(크기) 다루기\n",
    "\n",
    "기존의 만들어진 배열의 내부 데이터는 보존한 채로 형상만 바꿀 수 있는 다양한 함수 혹은 메소드가 있습니다. \n",
    "\n",
    "- reshape\n",
    "- flatten\n",
    "- ravel\n",
    "- newaxis"
   ]
  },
  {
   "cell_type": "markdown",
   "metadata": {},
   "source": [
    "#### Example 1.  2차원 이상의 행렬을 만들 때, 때때로 `-1`를 사용하여, Python으로 하여금 크기를 계산하도록 합니다. \n",
    "\n",
    "- 사용하는 원소의 갯수가 정해저 있기 때문에 `reshape()` 메소드의 형상 튜플의 원소 중 하나는 -1이라는 숫자로 대체할 수 있습니다. -1을 넣으면 해당 숫자는 메소드 자체에서 자동으로 계산해서 처리합니다.\n",
    "\n",
    "#### 3 x ?"
   ]
  },
  {
   "cell_type": "code",
   "execution_count": null,
   "metadata": {},
   "outputs": [],
   "source": [
    "import numpy as np\n",
    "a = np.arange(12)\n",
    "c = a.reshape(3, None)\n",
    "c"
   ]
  },
  {
   "cell_type": "markdown",
   "metadata": {},
   "source": [
    "#### ? x 3 x 2"
   ]
  },
  {
   "cell_type": "code",
   "execution_count": null,
   "metadata": {},
   "outputs": [],
   "source": [
    "e = a.reshape(None, 3, 2)\n",
    "print(a)\n",
    "print(e)"
   ]
  },
  {
   "cell_type": "markdown",
   "metadata": {},
   "source": [
    "#### Example 2. 다차원 배열을 1차원으로 전환하십시오. \n",
    "\n",
    "- 다차원 배열을 1차원으로 전환하기 위해서 flatten 메소드 혹은 ravel 함수를 사용합니다.\n",
    "- `flatten()` always returns a copy.\n",
    "- `ravel()` returns __a view__ of the original array whenever possible. \n",
    "\n",
    "```\n",
    "[[[ 0  1]\n",
    "  [ 2  3]\n",
    "  [ 4  5]]\n",
    "\n",
    " [[ 6  7]\n",
    "  [ 8  9]\n",
    "  [10 11]]]\n",
    "  \n",
    "  [ 0  1  2  3  4  5  6  7  8  9 10 11]\n",
    "```"
   ]
  },
  {
   "cell_type": "code",
   "execution_count": null,
   "metadata": {},
   "outputs": [],
   "source": [
    "e = np.arange(12).reshape(-1, 3, 2)\n",
    "f = None\n",
    "print(e)\n",
    "print(f)"
   ]
  },
  {
   "cell_type": "code",
   "execution_count": null,
   "metadata": {},
   "outputs": [],
   "source": [
    "e = np.arange(12).reshape(-1, 3, 2)\n",
    "f = None\n",
    "print(e)\n",
    "print(f)"
   ]
  },
  {
   "cell_type": "markdown",
   "metadata": {},
   "source": [
    "#### 배열 사용에서 주의할 점\n",
    "\n",
    "- 길이가 5인 1차원 배열과 행, \n",
    "- 행렬의 형상이 (5, 1)인 2차원 배열 또는 행, \n",
    "- 행렬의 형상이 (1, 5)인 2차원 배열은 데이터가 같아도 엄연히 다른 종류의 객체입니다.\n",
    "\n",
    "```\n",
    "[0 1 2 3 4]\n",
    "\n",
    "[[0]\n",
    " [1]\n",
    " [2]\n",
    " [3]\n",
    " [4]]\n",
    " \n",
    " [[0 1 2 3 4]]\n",
    "```"
   ]
  },
  {
   "cell_type": "markdown",
   "metadata": {},
   "source": [
    "#### Example 3. 다음과 같은 1차원 배열(5,)을 2차원 배열(1, 5)로 만드십시오.  \n",
    "```\n",
    "[0 1 2 3 4]\n",
    "\n",
    "[[0 1 2 3 4]]\n",
    "```"
   ]
  },
  {
   "cell_type": "code",
   "execution_count": null,
   "metadata": {},
   "outputs": [],
   "source": [
    "x = np.arange(5)\n",
    "y = None     # method 1 using reshape()\n",
    "z = None     # method 2 using np.newaxis\n",
    "print(x)\n",
    "print(y)\n",
    "print(z)"
   ]
  },
  {
   "cell_type": "markdown",
   "metadata": {},
   "source": [
    "#### Example 4. 다음과 같은 1차원 배열(5,)을 2차원 배열(5, 1)로 만드십시오.   "
   ]
  },
  {
   "cell_type": "code",
   "execution_count": null,
   "metadata": {},
   "outputs": [],
   "source": [
    "x = np.arange(5)\n",
    "y = None     # method 1 using reshape()\n",
    "z = None     # method 2 using np.newaxis\n",
    "print(x)\n",
    "print(y)\n",
    "print(z)"
   ]
  },
  {
   "cell_type": "markdown",
   "metadata": {},
   "source": [
    "## 2. 배열들 합치기  \n",
    "행의 수나 열의 수가 같은 두 개 이상의 배열을 연결하여(concatenate) 더 큰 배열을 만들 때는 다음과 같은 명령을 사용합니다.\n",
    "\n",
    "1. hstack\n",
    "1. vstack\n",
    "1. concatenate"
   ]
  },
  {
   "cell_type": "markdown",
   "metadata": {},
   "source": [
    "#### Example 1. hstack\n",
    "\n",
    "`hstack` 함수는 행의 수가 같은 두 개 이상의 배열을 옆으로 연결하여 열의 수가 더 많은 배열을 만듭니다. 연결할 배열은 하나의 리스트에 담아야 합니다. \n",
    "\n",
    "```\n",
    "[[1. 1.]\n",
    " [1. 1.]\n",
    " [1. 1.]]\n",
    " \n",
    " [[0. 0. 0.]\n",
    " [0. 0. 0.]\n",
    " [0. 0. 0.]]\n",
    "\n",
    "[[1. 1. 0. 0. 0.]\n",
    " [1. 1. 0. 0. 0.]\n",
    " [1. 1. 0. 0. 0.]]\n",
    "```"
   ]
  },
  {
   "cell_type": "code",
   "execution_count": null,
   "metadata": {},
   "outputs": [],
   "source": [
    "a = np.ones((3, 2))\n",
    "b = np.zeros((3, 3))\n",
    "print(a)\n",
    "print(b)"
   ]
  },
  {
   "cell_type": "code",
   "execution_count": null,
   "metadata": {},
   "outputs": [],
   "source": [
    "c = None\n",
    "print(c)"
   ]
  },
  {
   "cell_type": "markdown",
   "metadata": {},
   "source": [
    "#### Example 2. vstack\n",
    "\n",
    "`vstack` 함수는 열의 수가 같은 두 개 이상의 배열을 위아래로 연결하여 행의 수가 더 많은 배열을 만듭니다. 연결할 배열은 마찬가지로 하나의 리스트에 담아야 합니다.\n",
    "\n",
    "```\n",
    "[[1. 1. 1.]\n",
    " [1. 1. 1.]]\n",
    "\n",
    "[[0. 0. 0.]\n",
    " [0. 0. 0.]\n",
    " [0. 0. 0.]]\n",
    " \n",
    "[[1. 1. 1.]\n",
    " [1. 1. 1.]\n",
    " [0. 0. 0.]\n",
    " [0. 0. 0.]\n",
    " [0. 0. 0.]]\n",
    "```"
   ]
  },
  {
   "cell_type": "code",
   "execution_count": null,
   "metadata": {},
   "outputs": [],
   "source": [
    "a = np.ones((2, 3))\n",
    "b = np.zeros((3, 3))\n",
    "print(a)\n",
    "print(b)"
   ]
  },
  {
   "cell_type": "code",
   "execution_count": null,
   "metadata": {},
   "outputs": [],
   "source": [
    "c = None\n",
    "print(c)"
   ]
  },
  {
   "cell_type": "markdown",
   "metadata": {},
   "source": [
    "#### 3. concatenate \n",
    "두 배열이 같은 차원일 때 사용합니다. 예시를 통해서 살펴보면, 직감적으로 알 수 있습니다. \n",
    "\n",
    "입력 배열\n",
    "```\n",
    "[[1 2]\n",
    " [3 4]]\n",
    "[[ 5  6]\n",
    " [ 7  8]\n",
    " [ 9 10]]\n",
    "```\n",
    "출력 배열들\n",
    "```\n",
    "[[ 1  2]\n",
    " [ 3  4]\n",
    " [ 5  6]\n",
    " [ 7  8]\n",
    " [ 9 10]]\n",
    " ```\n",
    " ```\n",
    "[[ 1  2  5  7  9]\n",
    " [ 3  4  6  8 10]]\n",
    " ```\n",
    " ```\n",
    "[ 1  2  3  4  5  6  7  8  9 10]\n",
    "```\n"
   ]
  },
  {
   "cell_type": "code",
   "execution_count": null,
   "metadata": {},
   "outputs": [],
   "source": [
    "a = np.array([[1, 2], [3, 4]])\n",
    "b = np.array([[5, 6], [7, 8], [9, 10]])\n",
    "print(a)\n",
    "print(b)"
   ]
  },
  {
   "cell_type": "code",
   "execution_count": null,
   "metadata": {},
   "outputs": [],
   "source": [
    "print(np.concatenate((a, b), None))       # default\n",
    "print(np.concatenate((a, b), None))\n",
    "print(np.concatenate((a, b), None))    # flatten"
   ]
  },
  {
   "cell_type": "markdown",
   "metadata": {},
   "source": [
    "## 3. 배열의 인덱싱과 슬라이싱\n",
    "\n",
    "기계학습을 하면서, 다차원 배열을 부분적으로 다루어야 할 때가 많습니다. 인덱싱과 슬라이싱이 필요한 것입니다. \n",
    "배열의 인덱싱은 0부터 시작하고, 또한 음수 인덱싱도 가능하여 배열의 끝은 -1부터 시작합니다. 또한 범위를 지정할 때, 콜론(:)을 사용합니다. "
   ]
  },
  {
   "cell_type": "markdown",
   "metadata": {},
   "source": [
    "#### 행, 열 인덱싱\n",
    "행의 인덱싱은 행의 인덱스로만 가능하지만, 열을 인덱싱할 때는 행의 위치에 콜론(:)을 지정해야 합니다.  \n",
    "콜론(:)을 사용하여 start:end와 같이 범위를 지정할 때, end는 자신을 포함하지 않고, start가 생략이 되면 0부터를 의미하며, end가 생략되면 끝까지를 의미합니다. \n"
   ]
  },
  {
   "cell_type": "markdown",
   "metadata": {},
   "source": [
    "#### 원소 인덱싱\n",
    "원소 하나씩 접근하는 것은 일반적인 배열 인덱싱과 같습니다. 다만, 파이썬의 특이한 점은 인덱싱으로 음수를 사용하며, -1은 배열의 끝을 나타냅니다. 그러므로, 아래 그림과 같은 배열에서 원소 12의 인덱싱은 `[-1, -1]`이며, 이런 인덱싱은 2차원 배열의 크기가 바뀔지라도 항상 마지막 원소를 가리키는 편리함이 있습니다."
   ]
  },
  {
   "cell_type": "markdown",
   "metadata": {},
   "source": [
    "예를 들어, \n",
    "- `[:, :]` 2차원 배열의 모든 행과 열을 나타내고, \n",
    "- `[:2]`는 배열의 0, 1의 행, \n",
    "- `[:, 1:3]`은 1, 2열을 나타냅니다. \n",
    "- `[-1, -1]`은 원소 12를 나타냅니다.\n",
    "\n",
    "일반적으로 파이썬에서 범위(인덱싱)를 지정할 때 범위의 끝은 포함하지 않습니다. "
   ]
  },
  {
   "cell_type": "markdown",
   "metadata": {},
   "source": [
    "<img src=\"https://github.com/idebtor/KMOOC-ML/blob/master/ipynb/images/ndarray-indexing.png?raw=true\" width=\"600\">\n",
    "<center>그림 1: 넘파이 배열 인덱싱</center>"
   ]
  },
  {
   "cell_type": "markdown",
   "metadata": {},
   "source": [
    "#### Example 1: 아래와 같은 배열을 생성하고,  첫째 행과 열을 출력하십시오. \n",
    "```\n",
    "[[ 1  2  3  4]\n",
    " [ 5  6  7  8]\n",
    " [ 9 10 11 12]]\n",
    "```\n",
    "\n",
    "첫 행과 열은 다음과 같습니다. \n",
    "```\n",
    "[1 2 3 4]\n",
    "[1 5 9]\n",
    "```"
   ]
  },
  {
   "cell_type": "code",
   "execution_count": null,
   "metadata": {},
   "outputs": [],
   "source": [
    "a = np.arange(1, 13).reshape(3, 4)\n",
    "print(a)\n",
    "print(None)             # 첫 행\n",
    "print(None)           # 첫 열"
   ]
  },
  {
   "cell_type": "markdown",
   "metadata": {},
   "source": [
    "#### Example 2:  다음과 같이 마지막 행과 열을 출력하십시오. \n",
    "```\n",
    "[[ 1  2  3  4]\n",
    " [ 5  6  7  8]\n",
    " [ 9 10 11 12]]\n",
    "```\n",
    "마지막 행과 열\n",
    "```\n",
    "[ 9 10 11 12]\n",
    "[ 4  8 12]\n",
    "```"
   ]
  },
  {
   "cell_type": "code",
   "execution_count": null,
   "metadata": {},
   "outputs": [],
   "source": [
    "print(None)         # 마지막 행\n",
    "print(None)      # 마지막 열"
   ]
  },
  {
   "cell_type": "markdown",
   "metadata": {},
   "source": [
    "#### 행이나 열을 슬라이싱하기\n",
    "두 가지 방법이 있습니다. 하나는 1차원 배열로 하는 방법 또 하나는 2차원 배열로 슬라이싱하는 방법입니다. \n",
    "\n",
    "1. 두 번째 행(`[5 6 7 8]`)을 슬라이싱할 때 (4,) 혹은 (1, 4) 형상으로 슬라이싱하는 방법이 있습니다. \n",
    "2. 두 번째 열(`[2 6 10]`)을 슬라이싱할 때도, (3,) 혹은 (3, 1) 형상으로 슬라이싱하는 방법이 있습니다. \n",
    "\n",
    "```\n",
    "[[ 1  2  3  4]\n",
    " [ 5  6  7  8]\n",
    " [ 9 10 11 12]]\n",
    " ```"
   ]
  },
  {
   "cell_type": "markdown",
   "metadata": {},
   "source": [
    "#### Example 3. 두번째 행과 열을 각각 1차원으로 추출하십시오.\n",
    "\n",
    "```\n",
    "[[ 1  2  3  4]\n",
    " [ 5  6  7  8]\n",
    " [ 9 10 11 12]]\n",
    "```\n",
    "```\n",
    "[5 6 7 8]\n",
    "[ 2  6 10]\n",
    "```\n",
    "#### solution"
   ]
  },
  {
   "cell_type": "code",
   "execution_count": null,
   "metadata": {},
   "outputs": [],
   "source": [
    "a = np.arange(1, 13).reshape(3,4)\n",
    "row = a[None]         # 두번째 행\n",
    "col = a[None]      # 두번째 열\n",
    "print(row)\n",
    "print(col)"
   ]
  },
  {
   "cell_type": "markdown",
   "metadata": {},
   "source": [
    "#### Example 4. 두번째 행과 열을 각각 2차원으로 추출하십시오.\n",
    "\n",
    "```\n",
    "[[ 1  2  3  4]\n",
    " [ 5  6  7  8]\n",
    " [ 9 10 11 12]]\n",
    "```\n",
    "```\n",
    "[[5 6 7 8]]\n",
    "[[ 2]\n",
    " [ 6]\n",
    " [10]]\n",
    "```\n",
    "#### solution"
   ]
  },
  {
   "cell_type": "code",
   "execution_count": null,
   "metadata": {},
   "outputs": [],
   "source": [
    "row = a[None]         # 두번째 행\n",
    "col = a[None]      # 두번째 열\n",
    "print(row)\n",
    "print(col)"
   ]
  },
  {
   "cell_type": "markdown",
   "metadata": {},
   "source": [
    "### 3.2 서브(sub)배열은 기존 배열의 뷰(view)이다. \n",
    "\n",
    "제목이 무슨 말인지 이해가 가지 않지만 그대로 진행해 봅시다. 여기서 기존의 배열은 예를 들면 `org` 배열이라고 합시다.\n",
    "\n",
    "- 서브 배열 `sub`의 첫 원소를 값을 `99`으로 바꾸고 `sub`를 출력하고, 기존의 배열 `org`를 출력해봅시다. \n",
    "- 그러면, `org` 배열도 수정된 것을 볼 수 있습니다. 유의해야 할 점입니다. 이러한 사실을 간과하면, 언제가 몇 시간이나 며칠 동안 디버깅을 해야 할지도 모릅니다. "
   ]
  },
  {
   "cell_type": "code",
   "execution_count": null,
   "metadata": {},
   "outputs": [],
   "source": [
    "org = np.arange(1, 13).reshape(3,4)\n",
    "sub = None         # upper left corner 2x2\n",
    "print(sub)\n",
    "None           # sub[0, 0] = 99\n",
    "print(org)"
   ]
  },
  {
   "cell_type": "markdown",
   "metadata": {},
   "source": [
    "org 배열에서 일부 잘라낸 sub 배열을 서브배열$^{subarray}$라고 부르는 이유가 여기에 있습니다. \n",
    "\n",
    "view(뷰)라는 말은 무슨 말인가요? C프로그래밍의 포인터 개념입니다. 포인터가 가리키고 있는 내용을 바꾸면 원래의 저장된 변수의 내용이 바뀌는 것과 같습니다. "
   ]
  },
  {
   "cell_type": "markdown",
   "metadata": {},
   "source": [
    "### 3.3 배열의 복사\n",
    "\n",
    "배열을 복사할 때도 조심해야 합니다. 다음과 같이 `cpy = org`를 하여 `org`를 복사했다고 생각하면 잘못입니다. 여기서 `cpy`도 역시 view(뷰)입니다. "
   ]
  },
  {
   "cell_type": "code",
   "execution_count": null,
   "metadata": {},
   "outputs": [],
   "source": [
    "org = np.arange(1, 13).reshape(3,4)\n",
    "cpy = org\n",
    "cpy[0, 0] = 999\n",
    "print(org)"
   ]
  },
  {
   "cell_type": "markdown",
   "metadata": {},
   "source": [
    "그러면, 배열의 복사는 어떻게 해야 합니까? 배열 ndarray클래스가 제공하는 `copy()`메소드를 사용해야 합니다. "
   ]
  },
  {
   "cell_type": "code",
   "execution_count": null,
   "metadata": {},
   "outputs": [],
   "source": [
    "org = np.arange(1, 13).reshape(3,4)\n",
    "cpy = None\n",
    "cpy[0, 0] = 999\n",
    "print(org)\n",
    "print(cpy)"
   ]
  },
  {
   "cell_type": "markdown",
   "metadata": {},
   "source": [
    "### 3.5 불린$^{Boolean}$ 배열과 Arg 함수 다루기\n",
    "\n",
    "기계학습에서 종종 사용되는 인덱싱입니다. 어떤 조건을 만족하는 배열의 원소를 선택할 때 사용합니다. 분류를 한 결과가 배열로 저장되어 있을 때, 어떤 임계값보다 큰 모든 원소의 갯수나 인덱스를 구할 수 있습니다.  \n",
    "\n",
    "- `argmax(), argmin()`: 배열의 값들 중에서 가장 크거나 혹은 작은 값을 가진 원소의 인덱스를 반환합니다. \n",
    "- `argwhere()`: 배열의 값들 중에서 0가 아닌 원소들의 인덱스를 반환합니다. "
   ]
  },
  {
   "cell_type": "markdown",
   "metadata": {},
   "source": [
    "#### Example 1: \n",
    "\n",
    "아래와 같이 True 혹은 False를 무작위로 설정한 배열(size = 10) `data`를 생성하십시오.\n",
    "\n",
    "```\n",
    "[False  True  True  True False False  True False False False]\n",
    "```"
   ]
  },
  {
   "cell_type": "code",
   "execution_count": null,
   "metadata": {},
   "outputs": [],
   "source": [
    "data = np.random.random(10)  # np.random.random(12).reshape(3,4)\n",
    "data = None\n",
    "print(data)"
   ]
  },
  {
   "cell_type": "markdown",
   "metadata": {},
   "source": [
    "#### Example 2: \n",
    "\n",
    "아래와 같이 무작위로 설정된 배열에서  `True`의 갯수를 계산하십시오.\n",
    "```\n",
    "[False  True  True  True False False  True False False False]\n",
    "4\n",
    "```"
   ]
  },
  {
   "cell_type": "code",
   "execution_count": null,
   "metadata": {},
   "outputs": [],
   "source": [
    "print(data)\n",
    "print(None)"
   ]
  },
  {
   "cell_type": "markdown",
   "metadata": {},
   "source": [
    "#### Example 3: np.argmax()\n",
    "\n",
    "아래와 같이 난수로 이루어진 배열에서 가장 큰 수의 인덱스를 찾으십시오. \n",
    "\n",
    "```\n",
    "[0.34467622 0.64589714 0.88837541 0.90331364 0.81690392 0.64632381\n",
    " 0.65675037 0.27906638 0.39276939 0.6985122 ]\n",
    "3\n",
    "```"
   ]
  },
  {
   "cell_type": "code",
   "execution_count": null,
   "metadata": {},
   "outputs": [],
   "source": [
    "data = np.random.random(10)  # np.random.random(12).reshape(3,4)\n",
    "print(data)\n",
    "print(None)"
   ]
  },
  {
   "cell_type": "markdown",
   "metadata": {},
   "source": [
    "#### Example 4: argwhere()\n",
    "\n",
    "아래와 같이 무작위로 설정된 배열에서  `True` 원소가 있는 인덱스로 구성된 리스트를 생성하십시오. \n",
    "```\n",
    "[ True False False False  True False False False  True  True]\n",
    "[[0]\n",
    " [4]\n",
    " [8]\n",
    " [9]]\n",
    "[0 4 8 9]\n",
    "```"
   ]
  },
  {
   "cell_type": "code",
   "execution_count": null,
   "metadata": {},
   "outputs": [],
   "source": [
    "data = np.random.random(10)  # np.random.random(12).reshape(3,4)\n",
    "data = data > 0.5\n",
    "print(data)\n",
    "index = None\n",
    "print(index)\n",
    "alist = None\n",
    "print(alist)"
   ]
  },
  {
   "cell_type": "markdown",
   "metadata": {},
   "source": [
    "## 4. 배열과 벡터의 연산\n",
    "\n",
    "행렬은 여러 벡터로 구성된 데이터 셋입니다. 하나의 벡터 안에는 원소의 값이 같은 형식(type)이며, 이러한 벡터를 여러 개 모은 것이 행렬입니다. 원소가 3개인 벡터가 2개 있으면 2행, 3열의 행렬, 2x3 행렬입니다.  \n",
    "\n",
    "### 4.1 원소별 사칙 연산"
   ]
  },
  {
   "cell_type": "markdown",
   "metadata": {},
   "source": [
    "$ \\left\\lgroup \\matrix{1 & 2\\cr 3 & 4} \\right\\rgroup \n",
    "+ \\left\\lgroup \\matrix{5 & 6\\cr 7 & 8} \\right\\rgroup\n",
    "= \\left\\lgroup \\matrix{1+5 & 2+6\\cr 3+7 & 4+8} \\right\\rgroup $"
   ]
  },
  {
   "cell_type": "code",
   "execution_count": null,
   "metadata": {},
   "outputs": [],
   "source": [
    "import numpy as np\n",
    "\n",
    "A = np.array([[1, 2],[3, 4]])\n",
    "B = np.array([[5, 6],[7, 8]])"
   ]
  },
  {
   "cell_type": "code",
   "execution_count": null,
   "metadata": {},
   "outputs": [],
   "source": [
    "print(A + B)"
   ]
  },
  {
   "cell_type": "code",
   "execution_count": null,
   "metadata": {},
   "outputs": [],
   "source": [
    "print(A - B)"
   ]
  },
  {
   "cell_type": "code",
   "execution_count": null,
   "metadata": {},
   "outputs": [],
   "source": [
    "print(A * B)"
   ]
  },
  {
   "cell_type": "code",
   "execution_count": null,
   "metadata": {},
   "outputs": [],
   "source": [
    "print(A / B)"
   ]
  },
  {
   "cell_type": "markdown",
   "metadata": {},
   "source": [
    "### 4.2 행 벡터와 열 벡터\n",
    "\n",
    "선형 대수학에서, 행 벡터는 행 행렬 1xm 행렬, 즉 m 원소들로 구성된 단일 행 행렬이며 다음과 같이 나타낼 수 있습니다.\n",
    "\\begin{align} \\mathbf{w} = \\begin{pmatrix} w_1 \\ w_2 \\ \\cdots \\ w_m \\end{pmatrix} \\end{align}\n",
    "\n",
    "마찬가지로, 열 벡터는 열 행렬 mx1 행렬, 즉 m 원소들의 구성된 단일 열 행렬이며 다음과 같이 표시합니다. \n",
    "\\begin{align} \\mathbf{x} = \\begin{pmatrix} x_1 \\cr x_2 \\cr \\vdots \\cr x_m \\end{pmatrix} \\end{align}\n",
    "\n",
    "\n",
    "행 벡터의 전치 행렬은 열 벡터이며, 열 벡터의 전치$^{transpose}$ 행렬은 행 벡터입니다. \n",
    "\n",
    "\\begin{align} \\begin{pmatrix} x_1 \\ x_2 \\ \\cdots \\ x_m \\end{pmatrix}^T \n",
    "            = \\begin{pmatrix} x_1 \\cr x_2 \\cr \\vdots \\cr x_m \\end{pmatrix}, \\qquad \n",
    "            \\begin{pmatrix} x_1 \\cr x_2 \\cr \\vdots \\cr x_m \\end{pmatrix}^T\n",
    "            = \\begin{pmatrix} x_1 \\ x_2 \\ \\cdots \\ x_m \\end{pmatrix} \\end{align}"
   ]
  },
  {
   "cell_type": "markdown",
   "metadata": {},
   "source": [
    "### 4.3 점곱(혹은 내적, inner product)\n",
    "\n",
    "#### 행 벡터와 열 벡터의 점곱\n",
    "행 벡터 $\\mathbf{w}$와 열 벡터 $\\mathbf{x}$를 각각 원소별로 곱한 것을 합산함으로 내적(inner product, 혹은 점곱)을 구할 수 있습니다.    \n",
    "\n",
    "\\begin{align} \n",
    "\\mathbf{w \\cdot x} &= \\begin{pmatrix} w_1 \\ w_2 \\ \\cdots \\ w_m \\end{pmatrix} \\cdot \n",
    "                     \\begin{pmatrix} x_1 \\cr x_2 \\cr \\vdots \\cr x_m \\end{pmatrix}  \\\\\n",
    "                   &= \\sum_{i=1}^{m} w_ix_i \\\\\n",
    "                   &= w_1x_1 + w_2x_2 + \\cdots + w_m x_m\n",
    "\\end{align}\n",
    "\n"
   ]
  },
  {
   "cell_type": "markdown",
   "metadata": {},
   "source": [
    "#### 열 벡터와 행 벡터의 점곱\n",
    "\n",
    "만약, 우리가 열(col) 벡터 `x`와 행(row) 벡터 `w`의 내적을 하면 어떻게 될까요?  \n",
    "\\begin{align} \n",
    "\\mathbf{x \\cdot w} &= \\begin{pmatrix} x_1 \\cr x_2 \\cr \\vdots \\cr x_m \\end{pmatrix}\n",
    "                      \\cdot \\begin{pmatrix} w_1 \\ w_2 \\ \\cdots \\ w_m \\end{pmatrix} \n",
    "                   = \\begin{pmatrix} x_1w_1 & x_1w_2 & \\cdots & x_1w_m \\cr\n",
    "                                     x_2w_1 & x_2w_2 & \\cdots & x_2w_m \\cr\n",
    "                                     ... &  &  \\cdots & \\cdots \\cr \n",
    "                                     x_mw_1 & x_mw_2 & \\cdots & x_mw_m \\end{pmatrix}\n",
    "\\end{align}\n"
   ]
  },
  {
   "cell_type": "markdown",
   "metadata": {},
   "source": [
    "#### 넘파이 벡터의 형상\n",
    "\n",
    "벡터를 1차원 배열로 쉽게 나타낼 수도 있겠지만, 만약 그렇게 한다면, 행(row)과 열(col)의 점곱은 스칼라 값을 얻을 수 있지만, 열(col)과 행(row) 벡터의 점곱은 얻을 수 없습니다. 행/열의 점곱과 열/행의 점곱을 온전히 계산하려면, __벡터__를 1차원 배열이 아니라, __2차원 배열__을 사용하여 $\\mathbf{w}$를 `1 x m`형상으로, $\\mathbf{x}$를 `m x 1` 형상으로 생성해야 합니다. \n",
    "\n",
    "\n",
    "그러면, 어떻게 하면,$\\mathbf{w}$, $\\mathbf{x}$를 __진정한__ 열 벡터와 행 벡터로 생성할 수 있을까요?\n",
    "\n",
    "`reshape()`를 사용하여, 원하는 shape을 지정하거나 벡터를 생성할 때 __겹`[]`__을 사용하여 2차원 배열로 만들어야 합니다. 다음과 같이 말입니다. \n",
    "\n",
    "`row_vector = np.array([[0, 1, 2, 3]])`\n",
    "`col_vector = np.array([[4, 3, 2, 1]])`"
   ]
  },
  {
   "cell_type": "code",
   "execution_count": null,
   "metadata": {},
   "outputs": [],
   "source": [
    "w = np.array(np.arange(4)).reshape(1, 4)\n",
    "x = np.array(np.arange(4, 0, -1)).reshape(4, 1)\n",
    "print(w)\n",
    "print(x)"
   ]
  },
  {
   "cell_type": "code",
   "execution_count": null,
   "metadata": {},
   "outputs": [],
   "source": [
    "np.dot(w, x)    # 행/렬의 점곱"
   ]
  },
  {
   "cell_type": "code",
   "execution_count": null,
   "metadata": {},
   "outputs": [],
   "source": [
    "np.dot(x, w)     # 렬/행의 점곱"
   ]
  },
  {
   "cell_type": "markdown",
   "metadata": {},
   "source": [
    "결론적으로, __벡터는 2차원 배열__입니다. 2차원 배열에서 행(row)이나 열(col)만 있는 배열입니다. \n",
    "2차원 배열로 벡터를 표시하면 __전치(transpose)__도 작동합니다. "
   ]
  },
  {
   "cell_type": "code",
   "execution_count": null,
   "metadata": {},
   "outputs": [],
   "source": [
    "print(w.T)\n",
    "print(x.T)"
   ]
  },
  {
   "cell_type": "markdown",
   "metadata": {},
   "source": [
    "### NOTE: 1차원 배열은 벡터가 아니지만, 점곱이 가능합니다.\n",
    "그런데, 만약, 우리가 두 개의 1차원 배열 `w = [0 1 2 3] x = [4 3 2 1]`를 점곱하면 스칼라 10을 얻습니다. w, x 두 벡터가 모두 똑같이 shape이 (4,)이며, 서로 구별할 수 없으며, `np.dot(w, x)`와 `np.dot(x, w)`는 같은 결과를 도출합니다. 결론적으로, w, x는 벡터가 아니고 1차원 배열입니다. "
   ]
  },
  {
   "cell_type": "code",
   "execution_count": null,
   "metadata": {},
   "outputs": [],
   "source": [
    "import numpy as np\n",
    "w = np.array(np.arange(0, 4))         # w = [0 1 2 3]\n",
    "x = np.array(np.arange(4, 0, -1))     # x = [4 3 2 1]  \n",
    "print(w)\n",
    "print(x)\n",
    "print(None)"
   ]
  },
  {
   "cell_type": "code",
   "execution_count": null,
   "metadata": {},
   "outputs": [],
   "source": [
    "np.dot(None)"
   ]
  },
  {
   "cell_type": "markdown",
   "metadata": {},
   "source": [
    " 두 배열의 내적 결과는 나왔지만, 사실 행 벡터와 열 벡터의 점곱(dot product)를 한 것은 아닙니다. 왜냐하면, w, x는 1차원 배열이지 사실상 벡터는 아닙니다. 그 형상을 살펴보면, 모두 __똑같이 형상이 (4,)이기 때문입니다__. "
   ]
  },
  {
   "cell_type": "markdown",
   "metadata": {},
   "source": [
    "### 4.3 행렬의 내적\n",
    "\n",
    "Numpy ndarray 클래스의 `dot` 메소드를 사용해서 행렬의 내적을 구할 수 있습니다.\n",
    "\n",
    "$ \\left\\lgroup \\matrix{1 & 2\\cr 3 & 4} \\right\\rgroup  \\bullet\n",
    "  \\left\\lgroup \\matrix{5 & 6\\cr 7 & 8} \\right\\rgroup  =\n",
    "  \\left\\lgroup \\matrix{1\\times5+2\\times7 & 1\\times6+2\\times8\\cr 3\\times5+4\\times7 & 3\\times6+4\\times8} \\right\\rgroup\n",
    "$"
   ]
  },
  {
   "cell_type": "code",
   "execution_count": null,
   "metadata": {},
   "outputs": [],
   "source": [
    "A = np.array([[1, 2],[3, 4]])\n",
    "B = np.array([[5, 6],[7, 8]])\n",
    "print(np.dot(A, B))"
   ]
  },
  {
   "cell_type": "code",
   "execution_count": null,
   "metadata": {},
   "outputs": [],
   "source": [
    "print(A.dot(B))"
   ]
  },
  {
   "cell_type": "markdown",
   "metadata": {},
   "source": [
    "### 4.4 행렬의 전치$^{transpose}$\n",
    "\n",
    "기계학습 코딩을 하다보면, 종종 배열의 모양을 바꾸어야 할 할 때가 있습니다. 전치는 행렬 내의 원소를 왼쪽 위에서 오른쪽 아래를 가로지르는 대각선을 기준으로 서로 위치를 바꾼 것입니다.  다른 말로, 행과 열의 인덱스를 바꾸는 것을 __전치$^{transpose}$__라고 합니다. 넘파이에서 행렬을 전치하기 위해선, 간단하게 배열 객체의 ‘T’ 속성을 사용하면 됩니다:\n",
    "\n",
    "다음의 동영상 파일을 보면 이해에 도움이 될 것입니다. \n",
    "<img src = \"https://github.com/idebtor/KMOOC-ML/blob/master/ipynb/images/Matrix_transpose.gif?raw=true\" width = \"100\">\n",
    "<center> 그림 3: 행렬의 전치(출처:https://en.wikipedia.org/wiki/Transpose)  </center>"
   ]
  },
  {
   "cell_type": "markdown",
   "metadata": {},
   "source": [
    "다음과 같이 두 행렬 A 와 B 가 있다고 합시다.\n",
    "\n",
    "$ A = \\left\\lgroup \\matrix{1 & 2 & 3\\cr 4 & 5 & 6} \\right\\rgroup, \\quad\n",
    "B = \\lgroup \\matrix{1 & 2 & 3} \\rgroup\n",
    "$\n",
    "\n",
    "위의 두 행렬을 넘파이 배열로 표현하면 다음과 같습니다. `array` 메소드의 인자로 1차원 파이썬 리스트를 넣으면, 크기가 리스트의 길이와 같은 벡터가 생성됩니다. 넘파이 배열의 형상을 확인하려면 `shape` 메소드를 사용하면 됩니다. \n",
    "\n",
    "여기서 A, B의 rank는 각각 2, 1 입니다. rank가 1인 배열은 전치를 해도 아무런 변화가 없습니다. \n",
    "\n",
    "먼저, 두 행렬을 넘파이 배열로 만들고 각각의 shape(형상)을 출력해봅시다.  "
   ]
  },
  {
   "cell_type": "code",
   "execution_count": null,
   "metadata": {},
   "outputs": [],
   "source": [
    "A = np.array([[1,2,3],[4,5,6]])\n",
    "B = np.array([1,2,3])        # 벡터가 아님. \n",
    "print(A.shape, B.shape)"
   ]
  },
  {
   "cell_type": "markdown",
   "metadata": {},
   "source": [
    "두 배열의 형상이 각각 (2,3), (3,) 배열인데, 서로 곱셈이 가능한지 코드로 시도해 봅시다"
   ]
  },
  {
   "cell_type": "code",
   "execution_count": null,
   "metadata": {},
   "outputs": [],
   "source": [
    "C = np.dot(A, B)           # 벡터가 아닌 1차원의 값으로 반환\n",
    "print(C)"
   ]
  },
  {
   "cell_type": "markdown",
   "metadata": {},
   "source": [
    "1차원 배열 형상(2,)의 결과를 얻었습니다. "
   ]
  },
  {
   "cell_type": "markdown",
   "metadata": {},
   "source": [
    "만약에, 우리가 수학의 행렬의 내적처럼 두 행렬 (2 x 3), (3 x 1)을 내적하여 2차원 행렬(2, 1)을 구하길 원한다면 어떻게 해야 할까요? \n",
    "\n",
    "$ A \\bullet B^T = \\begin{pmatrix}  1 & 2 & 3\\cr 4 & 5 & 6 \\end{pmatrix}\n",
    "\\bullet \\begin{pmatrix} 1 \\cr 2 \\cr3 \\end{pmatrix} \n",
    "= \\begin{pmatrix}1\\times1+2\\times2+3\\times3 \\cr 4\\times1+5\\times2+6\\times3 \\end{pmatrix} \n",
    "= \\begin{pmatrix} 14 \\cr 32 \\end{pmatrix} \n",
    "$\n",
    "  \n",
    "\n",
    "우리가 수학적인 `reshape` 메소드를 사용해서 __벡터__를 행렬로 만들어줄 수 있습니다. `reshape(1,3)` 는 넘파이 배열을 크기 1 x 3 의 행렬로 형태를 바꾸겠다는 의미입니다. 결과도 __벡터__로 산출됩니다. "
   ]
  },
  {
   "cell_type": "code",
   "execution_count": null,
   "metadata": {
    "scrolled": true
   },
   "outputs": [],
   "source": [
    "A = np.array([[1,2,3],[4,5,6]])        # rank 2, shape (2, 3)\n",
    "B = np.array([1,2,3]).reshape(1,3)     # rank 2, shape (1, 3)\n",
    "C = np.dot(A, B.T)                     # (2x3)(3x1) ==> (2x1)\n",
    "print(C)"
   ]
  },
  {
   "cell_type": "markdown",
   "metadata": {},
   "source": [
    "##  Exercise \n",
    "\n",
    "#### Q.1 \n",
    "\n",
    "다음과 같이 3x4 배열을 만들고, np.newaxis를 이용하여 axis 0 를 추가 하여 (1, 3, 4) 형상의 배열과 axis 2를 추가하여 (3, 1, 4) 형상의 배열을 생성하십시오. \n",
    "\n",
    "2차원 배열 형상(3, 4)\n",
    "```\n",
    "[[ 0  1  2  3]\n",
    " [ 4  5  6  7]\n",
    " [ 8  9 10 11]]\n",
    "```\n",
    "\n",
    "3차원 배열 형상 (1, 3, 4) \n",
    "```\n",
    "[[[ 0  1  2  3]\n",
    "  [ 4  5  6  7]\n",
    "  [ 8  9 10 11]]]\n",
    "  \n",
    "```\n",
    "\n",
    "3차원 배열 형상 (3, 1, 4) \n",
    "```\n",
    "[[[ 0  1  2  3]]\n",
    "\n",
    "  [[ 4  5  6  7]]\n",
    "\n",
    "  [[ 8  9 10 11]]]\n",
    "```\n",
    "\n",
    "#### solution:"
   ]
  },
  {
   "cell_type": "code",
   "execution_count": null,
   "metadata": {
    "scrolled": false
   },
   "outputs": [],
   "source": [
    "a = np.arange(12).reshape(3, 4)\n",
    "print(a)\n",
    "b = None            # using newaxis\n",
    "print(b)\n",
    "c = None            # using newaxis\n",
    "print(c)\n",
    "print(c.shape)"
   ]
  },
  {
   "cell_type": "markdown",
   "metadata": {},
   "source": [
    "#### Q.2 배열의 슬라이싱\n",
    "다음 그림의 배열의 위 왼쪽 코너의 4개의 원소 즉 `[[1, 2], [5,6]]`와 아래 오른쪽 코너 4개의 원소 즉 `[[7, 8], [11,12]]`를 추출하십시오. \n",
    "<img src=\"https://github.com/idebtor/KMOOC-ML/blob/master/ipynb/images/ndarray-indexing1.png?raw=true\" width=\"200\">\n",
    "<center>그림 2: Numpy 배열 인덱싱</center>"
   ]
  },
  {
   "cell_type": "markdown",
   "metadata": {},
   "source": [
    "#### Q.3\n",
    "\n",
    "다음 코드 셀에서 생성하는 3x4 배열에서 가장 가운데 있는 배열의 원소 `7, 8, 9`를 슬라이싱하여 출력하십시오. \n",
    "\n",
    "```\n",
    "[[ 1  2  3  4  5]\n",
    " [ 6  7  8  9 10]\n",
    " [11 12 13 14 15]]\n",
    " ```\n",
    " ```\n",
    "[[7 8 9]]\n",
    "```\n",
    "\n",
    "#### solution:"
   ]
  },
  {
   "cell_type": "code",
   "execution_count": null,
   "metadata": {},
   "outputs": [],
   "source": [
    "a = np.arange(1, 16).reshape(3, -1)\n",
    "print(a)\n",
    "b = None\n",
    "print(b)"
   ]
  },
  {
   "cell_type": "markdown",
   "metadata": {},
   "source": [
    "#### Q.4 \n",
    "\n",
    "아래와 같이 주어진 배열의 가장자리의 행과 열을 제외한 나머지 배열을 인덱싱하여 다음과 같이 출력하십시오. 단, 이 문제의 답을 바로 위의 문제에 넣어도 답이 되도록 코딩(Slicing)을 하십시오. \n",
    "\n",
    "```\n",
    "[[ 1  2  3  4  5  6]\n",
    " [ 7  8  9 10 11 12]\n",
    " [13 14 15 16 17 18]\n",
    " [19 20 21 22 23 24]\n",
    " [25 26 27 28 29 30]]\n",
    "[[ 8  9 10 11]\n",
    " [14 15 16 17]\n",
    " [20 21 22 23]]\n",
    "```\n",
    "\n",
    "#### solution:"
   ]
  },
  {
   "cell_type": "code",
   "execution_count": null,
   "metadata": {},
   "outputs": [],
   "source": [
    "a = np.arange(1, 31).reshape(5, 6)\n",
    "print(a)\n",
    "b = None\n",
    "print(b)"
   ]
  },
  {
   "cell_type": "markdown",
   "metadata": {},
   "source": [
    "#### Q.5 \n",
    "\n",
    "다음 코드 셀에서, 아래와 같이 주어진 배열의 짝수번째 열을 제외한 모든 요소를 포함하는 배열을 출력하십시오.  힌트: 파이썬의 여러 곳에서 사용되고 있는 `[star:end:step]` 용법을 적용하면 됩니다. \n",
    "\n",
    "```\n",
    "[[ 1  2  3  4  5  6  7  8]\n",
    " [ 9 10 11 12 13 14 15 16]\n",
    " [17 18 19 20 21 22 23 24]]\n",
    "[[ 1  3  5  7]\n",
    " [ 9 11 13 15]\n",
    " [17 19 21 23]]\n",
    "```\n",
    "\n",
    "#### solution"
   ]
  },
  {
   "cell_type": "code",
   "execution_count": null,
   "metadata": {},
   "outputs": [],
   "source": [
    "a = np.arange(1, 25).reshape(3, 8)\n",
    "print(a)\n",
    "b = None\n",
    "print(b)"
   ]
  },
  {
   "cell_type": "markdown",
   "metadata": {},
   "source": [
    "#### Reminder:\n",
    "- 다음과 같은 리스트에서, 과일 이름들이나 숫자만을 찾아내 리스트로 만들 수 있습니다. "
   ]
  },
  {
   "cell_type": "code",
   "execution_count": null,
   "metadata": {
    "scrolled": true
   },
   "outputs": [],
   "source": [
    "store = ['apple', 5, 'kiwi', 7, 'banana', 8, 'pear', 3]\n",
    "fruits = store[None]\n",
    "stocks = store[None]\n",
    "print(fruits)\n",
    "print(stocks)"
   ]
  },
  {
   "cell_type": "markdown",
   "metadata": {},
   "source": [
    "#### Q.6 \n",
    "\n",
    "아래의 4x4 배열 `data`에서 첫 세개의 열을 (4, 3)형상으로, 마지막 열을(4,1)형상 또한 (4,)형상으로 슬라이싱 하여 출력하십시오.\n",
    "\n",
    "```\n",
    "[[1 0 0 0]\n",
    " [1 0 1 1]\n",
    " [1 1 0 1]\n",
    " [1 1 1 0]]\n",
    " \n",
    "[[1 0 0]\n",
    " [1 0 1]\n",
    " [1 1 0]\n",
    " [1 1 1]]\n",
    "   \n",
    "[[0]\n",
    " [1]\n",
    " [1]\n",
    " [0]]\n",
    " \n",
    "[0 1 1 0]\n",
    "``` \n",
    "\n",
    "#### solution:"
   ]
  },
  {
   "cell_type": "code",
   "execution_count": null,
   "metadata": {},
   "outputs": [],
   "source": [
    "a = np.array([[1, 0, 0, 0], [1, 0, 1, 1], [1, 1, 0, 1], [1, 1, 1, 0]])\n",
    "print(a)\n",
    "x, y, z = None, None, None\n",
    "print(x)\n",
    "print(y)\n",
    "print(z)"
   ]
  },
  {
   "cell_type": "markdown",
   "metadata": {},
   "source": [
    "## 학습 정리\n",
    "1. 배열의 형상 다루기\n",
    "1. 배열들 합치기\n",
    "1. 배열의 인덱싱과 슬라이싱\n",
    "1. 배열과 벡터의 연산"
   ]
  },
  {
   "cell_type": "markdown",
   "metadata": {},
   "source": [
    "### 참고자료\n",
    "- CS231n Convolutional Neural Networks for Visual Recognition, [Python Numpy Tutorial](http://cs231n.github.io/python-numpy-tutorial/), Stanford University\n",
    "- [Python For Data Science Cheat Sheet NumPy Basics](https://s3.amazonaws.com/assets.datacamp.com/blog_assets/Numpy_Python_Cheat_Sheet.pdf), DataCamp\n",
    "- [astroML](http://www.astroml.org/book_figures/appendix/fig_broadcast_visual.html) \n",
    "- Python Numpy Tutorial - http://cs231n.github.io/\n",
    "- 김태완 블로그: [파이썬 데이터 사이언스 Cheat Sheet](http://taewan.kim/post/numpy_cheat_sheet/)"
   ]
  },
  {
   "cell_type": "markdown",
   "metadata": {},
   "source": []
  },
  {
   "cell_type": "markdown",
   "metadata": {},
   "source": [
    "## 추가적인 배열 합치기 방법들\n",
    "\n",
    "1. dstack\n",
    "1. stack\n",
    "1. r_\n",
    "1. c_\n",
    "1. tile\n",
    "\n",
    "\n",
    "#### 1. dstack\n",
    "\n",
    "`dstack` 함수는 제3의 축 즉, 행이나 열이 아닌 깊이(depth) 방향으로 배열을 합칩니다. 가장 안쪽의 원소의 차원이 증가합니다. 즉 가장 내부의 숫자 원소가 배열이 됩니다. shape 정보로 보자면 가장 끝에 값이 2인 차원이 추가되는 것입니다.이 예제의 경우에는 shape 변화가 2개의 (3 x 4) -> 1개의 (3 x 4 x 2)가 됩니다."
   ]
  },
  {
   "cell_type": "code",
   "execution_count": null,
   "metadata": {},
   "outputs": [],
   "source": [
    "a = np.arange(12).reshape(3, 4)\n",
    "b = np.arange(12).reshape(3, 4)+50\n",
    "print(a)\n",
    "print(b)"
   ]
  },
  {
   "cell_type": "code",
   "execution_count": null,
   "metadata": {},
   "outputs": [],
   "source": [
    "np.dstack([a, b])"
   ]
  },
  {
   "cell_type": "markdown",
   "metadata": {},
   "source": [
    "#### 2. stack\n",
    "\n",
    "`stack` 함수는 `dstack`의 기능을 확장한 것으로 `dstack`처럼 마지막 차원으로 연결하는 것이 아니라 사용자가 지정한 차원(축으로) 배열을 연결합니다. axis 인수(디폴트 0)를 사용하여 연결후의 회전 방향을 정합니다. 디폴트 인수값은 0이고 가장 앞쪽에 차원이 생성됩니다. 즉, 배열 두 개가 겹치게 되므로 연결하고자 하는 배열들의 크기가 모두 같아야 합니다.\n",
    "\n",
    "다음 예에서는 `axis=0` 이므로 가장 값에 값이 2인 차원이 추가됩니다. 즉, shape 변화는 2개의 (3 x 4) -> 1개의 (2 x 3 x 4) 입니다."
   ]
  },
  {
   "cell_type": "code",
   "execution_count": null,
   "metadata": {},
   "outputs": [],
   "source": [
    "c = np.stack([a, b])\n",
    "c"
   ]
  },
  {
   "cell_type": "code",
   "execution_count": null,
   "metadata": {},
   "outputs": [],
   "source": [
    "c.shape"
   ]
  },
  {
   "cell_type": "markdown",
   "metadata": {},
   "source": [
    "`axis` 인수가 1이면 두번째 차원으로 새로운 차원이 삽입됩니다. 다음 예에서 즉, shape 변화는 2개의 (3 x 4) -> 1개의 (3 x 2 x 4) 입니다."
   ]
  },
  {
   "cell_type": "code",
   "execution_count": null,
   "metadata": {},
   "outputs": [],
   "source": [
    "c = np.stack([a, b], axis=1)\n",
    "c"
   ]
  },
  {
   "cell_type": "code",
   "execution_count": null,
   "metadata": {},
   "outputs": [],
   "source": [
    "c.shape"
   ]
  },
  {
   "cell_type": "markdown",
   "metadata": {},
   "source": [
    "#### 3. `_r`\n",
    "\n",
    "`r_` 메서드는 `hstack` 함수와 비슷하게 배열을 좌우로 연결합니다. 다만 메서드임에도 불구하고 소괄호(parenthesis, ())를 사용하지 않고 인덱싱과 같이 대괄호(bracket, `[]`)를 사용합니다. 이런 특수 메서드를 __인덱서(indexer)__라고 합니다."
   ]
  },
  {
   "cell_type": "code",
   "execution_count": null,
   "metadata": {},
   "outputs": [],
   "source": [
    "np.r_[np.array([1, 2, 3]), np.array([4, 5, 6])]"
   ]
  },
  {
   "cell_type": "markdown",
   "metadata": {},
   "source": [
    "#### 4. `_c`\n",
    "`c_` 메서드는 배열의 차원을 증가시킨 후 좌우로 연결합니다. 만약 1차원 배열을 연결하면 2차원 배열이 됩니다."
   ]
  },
  {
   "cell_type": "code",
   "execution_count": null,
   "metadata": {},
   "outputs": [],
   "source": [
    "np.c_[np.array([1, 2, 3]), np.array([4, 5, 6])]"
   ]
  },
  {
   "cell_type": "markdown",
   "metadata": {},
   "source": [
    "#### 5. tile\n",
    "\n",
    "`tile` 명령은 동일한 배열을 반복하여 연결한다."
   ]
  },
  {
   "cell_type": "code",
   "execution_count": null,
   "metadata": {},
   "outputs": [],
   "source": [
    "a = np.array([[0, 1, 2], [3, 4, 5]])\n",
    "np.tile(a, 2)"
   ]
  },
  {
   "cell_type": "code",
   "execution_count": null,
   "metadata": {},
   "outputs": [],
   "source": [
    "np.tile(a, (3, 2))"
   ]
  }
 ],
 "metadata": {
  "kernelspec": {
   "display_name": "Python 3",
   "language": "python",
   "name": "python3"
  },
  "language_info": {
   "codemirror_mode": {
    "name": "ipython",
    "version": 3
   },
   "file_extension": ".py",
   "mimetype": "text/x-python",
   "name": "python",
   "nbconvert_exporter": "python",
   "pygments_lexer": "ipython3",
   "version": "3.7.7"
  }
 },
 "nbformat": 4,
 "nbformat_minor": 2
}
