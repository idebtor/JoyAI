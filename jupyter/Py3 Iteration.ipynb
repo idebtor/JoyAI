{
 "cells": [
  {
   "cell_type": "markdown",
   "metadata": {},
   "source": [
    "시몬 베드로가 대답하여 이르되 주는 그리스도시요 살아 계신 하나님의 아들이시니이다\n",
    "예수께서 대답하여 이르시되 바요나 시몬아 네가 복이 있도다 이를 네게 알게 한 이는 혈육이 아니요 하늘에 계신 내 아버지시니라\n",
    "또 내가 네게 이르노니 너는 베드로라 내가 이 반석 위에 내 교회를 세우리니 음부의 권세가 이기지 못하리라\n",
    "내가 천국 열쇠를 네게 주리니 네가 땅에서 무엇이든지 매면 하늘에서도 매일 것이요 네가 땅에서 무엇이든지 풀면 하늘에서도 풀리리라 하시고 (마16:16-19)\n",
    "\n",
    "-------\n",
    "\n",
    "<center><img src=\"https://github.com/idebtor/KMOOC-ML/blob/master/ipynb/images/joyai/pythonML.png?raw=true\" width=1000></center>\n",
    "\n",
    "__NOTE:__ The following materials have been compiled and adapted from the numerous sources including my own. Please help me to keep this tutorial up-to-date by reporting any issues or questions. Send any comments or criticisms to `idebtor@gmail.com` Your assistances and comments will be appreciated."
   ]
  },
  {
   "cell_type": "markdown",
   "metadata": {},
   "source": [
    "<b style=\"font-size:24px\"> Revisit Data Types </b>\n",
    "\n",
    "- Primitive data types: `int, float, complex, bool, str`\n",
    "- Collection data types: `list, tuple, dict, set` \n",
    "\n",
    "__Example:__ "
   ]
  },
  {
   "cell_type": "code",
   "execution_count": null,
   "metadata": {},
   "outputs": [],
   "source": [
    "fruits = [\"apple\", \"banana\", \"kiwi\", \"orange\"]    #list - mutable, ordered\n",
    "counts = (5, 7, 3)                                #tuple - immutable, ordered\n",
    "stocks = {'apple': 5 , 'banana': 7, 'orange': 3}  #dictionary - key:value pair, not ordered\n",
    "cities = {'daegue', 'pusan', 'jeju' , 'pohang'}   #set - no duplicate, not ordered\n",
    "\n",
    "print(fruits)\n",
    "print(counts)\n",
    "print(stocks)\n",
    "print(cities)"
   ]
  },
  {
   "cell_type": "code",
   "execution_count": null,
   "metadata": {},
   "outputs": [],
   "source": []
  },
  {
   "cell_type": "markdown",
   "metadata": {},
   "source": [
    "---------\n",
    "\n",
    "# Lesson - Iteration \n",
    "\n",
    "__학습 목표__   \n",
    "- 반복문에 대해 이해한다. \n",
    "- 반복문을 적절히 사용하여 문제를 해결할 수 있다.  \n",
    "\n",
    "__학습 내용__\n",
    "1. break 명령어 사용하기\n",
    "1. Nested loops 이해하기\n",
    "1. for문 & range()   \n",
    "1. Enumerate()  \n",
    "\n",
    "------------\n",
    "\n",
    "## Iteration using for loop  \n",
    "\n",
    "__Iteration__ means executing the same block of code over and over, potentially many times. A programming structure that implements iteration is called a loop. \n",
    "Often the program needs to repeat some code many times. That's where the loops come in handy. There are `for` and `while` loop operators in Python, in this lesson we cover for."
   ]
  },
  {
   "cell_type": "markdown",
   "metadata": {},
   "source": [
    "The `for` loop iterates over any sequence that is either a list, a tuple, a dictionary, a set, or a string.\n",
    "With the `for` loop we can execute a set of statements, once for each item in a list, tuple, set etc.\n",
    "\n",
    "For instance, you may print each fruit in a fruit list:  \n",
    "__Expected Output:__\n",
    "```\n",
    "apple\n",
    "banana\n",
    "kiwi\n",
    "orange\n",
    "```"
   ]
  },
  {
   "cell_type": "code",
   "execution_count": 1,
   "metadata": {},
   "outputs": [],
   "source": [
    "fruits = [\"apple\", \"banana\", \"kiwi\", \"orange\"]    #list - mutable, ordered\n",
    "\n",
    "None"
   ]
  },
  {
   "cell_type": "markdown",
   "metadata": {},
   "source": [
    "The for loop does not require an indexing variable to set beforehand.\n",
    "\n",
    "Even strings are iterable objects, they contain a sequence of characters. You may loop through the letters in the word `apple`:   \n",
    "__Expected Output:__\n",
    "```\n",
    "a\n",
    "p\n",
    "p\n",
    "l\n",
    "e\n",
    "```"
   ]
  },
  {
   "cell_type": "code",
   "execution_count": null,
   "metadata": {},
   "outputs": [],
   "source": [
    "None"
   ]
  },
  {
   "cell_type": "markdown",
   "metadata": {},
   "source": [
    "## The break statement\n",
    "With the break statement we can stop the loop before it has looped through all the items:\n",
    "\n",
    "For example, While print each fruit in the fruit list, exit the loop when it encounters \"kiwi\" without printing it. \n",
    "\n",
    "__Expected Output:__\n",
    "```\n",
    "apple\n",
    "banana\n",
    "```"
   ]
  },
  {
   "cell_type": "code",
   "execution_count": null,
   "metadata": {},
   "outputs": [],
   "source": [
    "fruits = [\"apple\", \"banana\", \"kiwi\", \"orange\"]    #list - mutable, ordered\n",
    "\n",
    "None"
   ]
  },
  {
   "cell_type": "markdown",
   "metadata": {},
   "source": [
    "## Nested loops\n",
    "\n",
    "A nested loop is a loop inside a loop.\n",
    "\n",
    "The \"inner loop\" will be executed one time for each iteration of the \"outer loop\":\n",
    "\n",
    "__Expected Output:__\n",
    "```\n",
    "red apple\n",
    "red banana\n",
    "red kiwi\n",
    "big apple\n",
    "big banana\n",
    "big kiwi\n",
    "tasty apple\n",
    "tasty banana\n",
    "tasty kiwi\n",
    "```"
   ]
  },
  {
   "cell_type": "code",
   "execution_count": null,
   "metadata": {},
   "outputs": [],
   "source": [
    "looks = [\"red\", \"big\", \"tasty\"]\n",
    "fruits = [\"apple\", \"banana\", \"kiwi\"]    #list - mutable, ordered\n",
    "\n",
    "None"
   ]
  },
  {
   "cell_type": "markdown",
   "metadata": {},
   "source": [
    "### Example 1: \n",
    "\n",
    "Print each fruit in a list and add \"my favorite\" if it encounters \"kiwi\".as shown below:\n",
    "\n",
    "```\n",
    "fruits = [\"apple\", \"banana\", \"kiwi\", \"orange\"]\n",
    "```\n",
    "\n",
    "__Expected output:__\n",
    "```\n",
    "apple\n",
    "banana\n",
    "kiwi - my favorite\n",
    "orange\n",
    "```"
   ]
  },
  {
   "cell_type": "code",
   "execution_count": null,
   "metadata": {},
   "outputs": [],
   "source": [
    "fruits = [\"apple\", \"banana\", \"kiwi\", \"orange\"]    #list - mutable, ordered\n",
    "\n",
    "None"
   ]
  },
  {
   "cell_type": "markdown",
   "metadata": {},
   "source": [
    "### Example 2: \n",
    "\n",
    "Using `for` loop, print `hello` in one line.\n",
    "\n",
    "__Expected output:__\n",
    "\n",
    "```\n",
    "h e l l o \n",
    "```\n",
    "\n",
    "__Hint__: By default, the function `print()` prints all its arguments separating them by a space and the puts a newline symbol after it. This behavior can be changed using keyword arguments `sep` (separator) and `end`."
   ]
  },
  {
   "cell_type": "code",
   "execution_count": null,
   "metadata": {},
   "outputs": [],
   "source": [
    "# print each letter using for loop in a row\n",
    "None"
   ]
  },
  {
   "cell_type": "markdown",
   "metadata": {},
   "source": [
    "\n",
    "#### Example 3: \n",
    "\n",
    "Using `for` loop, print `hello` in one line wihtout spaces between chars.\n",
    "\n",
    "__Expected output:__\n",
    "```\n",
    "hello\n",
    "```"
   ]
  },
  {
   "cell_type": "code",
   "execution_count": null,
   "metadata": {},
   "outputs": [],
   "source": [
    "# print each letter using for loop in a row without spaces\n",
    "None"
   ]
  },
  {
   "cell_type": "markdown",
   "metadata": {},
   "source": [
    "### Example 4: \n",
    "\n",
    "Print `12:3` when `hour = 12` and `min = 3` are given.\n",
    "\n",
    "__Expected output:__\n",
    "```\n",
    "12:3\n",
    "```"
   ]
  },
  {
   "cell_type": "code",
   "execution_count": null,
   "metadata": {},
   "outputs": [],
   "source": [
    "hour = 12\n",
    "min = 3\n",
    "print(None)"
   ]
  },
  {
   "cell_type": "markdown",
   "metadata": {},
   "source": [
    "### Example 5: \n",
    "\n",
    "Using print format - Print the following hours and mins.\n",
    "\n",
    "__Expected output:__\n",
    "\n",
    "```\n",
    "12:03\n",
    "02:05\n",
    "01:45\n",
    "23:32\n",
    "```\n",
    "\n",
    "__step.1__  `12:3` - it may use 'sep=''' separator option "
   ]
  },
  {
   "cell_type": "code",
   "execution_count": null,
   "metadata": {},
   "outputs": [],
   "source": [
    "print(None)"
   ]
  },
  {
   "cell_type": "markdown",
   "metadata": {},
   "source": [
    "__step.2__  `12: 3`"
   ]
  },
  {
   "cell_type": "code",
   "execution_count": null,
   "metadata": {},
   "outputs": [],
   "source": [
    "print(None)"
   ]
  },
  {
   "cell_type": "markdown",
   "metadata": {},
   "source": [
    "__step.3__  `12:03`"
   ]
  },
  {
   "cell_type": "code",
   "execution_count": null,
   "metadata": {},
   "outputs": [],
   "source": [
    "print(None)"
   ]
  },
  {
   "cell_type": "markdown",
   "metadata": {},
   "source": [
    "__step.4__  \n",
    "```\n",
    "12:03\n",
    "02:05\n",
    "01:45\n",
    "23:32\n",
    "```"
   ]
  },
  {
   "cell_type": "code",
   "execution_count": null,
   "metadata": {},
   "outputs": [],
   "source": [
    "hours = [12, 2,  1, 23]\n",
    "mins  = [ 3, 5, 45, 32]  \n",
    "None"
   ]
  },
  {
   "cell_type": "markdown",
   "metadata": {},
   "source": [
    "## Iteration with for loop & range()\n",
    "\n",
    "Another use case for a for-loop is to iterate some integer variable in increasing or decreasing order. Such a sequence of integer can be created using the built-in function `range()`. The `range()` function returns a sequence of numbers, starting from 0 by default, and increments by 1 (by default), and ends at a specified number.\n",
    "\n",
    "__Syntax__\n",
    "\n",
    "```\n",
    "class range(stop)\n",
    "    - returns a sequence of numbers starting from 0 to stop - 1\n",
    "class range(start, stop[, step])\n",
    "    - returns the range of integers end at stop - 1.\n",
    "```\n",
    "\n",
    "__Parameters__\n",
    "\n",
    "- `start` - integer starting from which the sequence is returned\n",
    "- `stop`  - integer before which the sequence of integers is to be returned.\n",
    "- `step` (Optional) - integer value which determines the step in the sequence\n",
    "    \n",
    "The function `range(stop)` means that `start` is implicitly set to `0`:"
   ]
  },
  {
   "cell_type": "markdown",
   "metadata": {},
   "source": [
    "### Example 1: \n",
    "Generate numbers from 0 to 5 and print them as shown below:\n",
    "```\n",
    "0, 1, 2, 3, 4, 5, \n",
    "```\n",
    "\n",
    "- Check what `range(6)` returns. "
   ]
  },
  {
   "cell_type": "code",
   "execution_count": null,
   "metadata": {},
   "outputs": [],
   "source": [
    "iter = range(6)\n",
    "for i in range(6):\n",
    "    print(i, end=', ')"
   ]
  },
  {
   "cell_type": "markdown",
   "metadata": {},
   "source": [
    "### Using `start` and `end` parameters in `range()`\n",
    "\n",
    "- Function `range(start, stop)` generates a sequence with numbers `start, start + 1, ..., start - 1`. \n",
    "- __The last number in `stop` is not included__."
   ]
  },
  {
   "cell_type": "markdown",
   "metadata": {},
   "source": [
    "### Example 2: \n",
    "Print the table of n cubed where n is 1 to 10 as shown below:\n",
    "\n",
    "__Expected output:__\n",
    "```\n",
    "1 cubed is 1\n",
    "2 cubed is 8\n",
    "3 cubed is 27\n",
    "4 cubed is 64\n",
    "5 cubed is 125\n",
    "6 cubed is 216\n",
    "7 cubed is 343\n",
    "8 cubed is 512\n",
    "9 cubed is 729\n",
    "10 cubed is 1000\n",
    "```"
   ]
  },
  {
   "cell_type": "code",
   "execution_count": null,
   "metadata": {},
   "outputs": [],
   "source": [
    "for i in None:\n",
    "    None"
   ]
  },
  {
   "cell_type": "markdown",
   "metadata": {},
   "source": [
    "### Example 3: \n",
    "Given an integer n = 10, sum number from 0 to n.\n",
    "\n",
    "__Expected output:__\n",
    "```\n",
    "Sum from 1 to 10 is 55\n",
    "```"
   ]
  },
  {
   "cell_type": "code",
   "execution_count": null,
   "metadata": {},
   "outputs": [],
   "source": [
    "n = 10\n",
    "sum = 0\n",
    "for i in None:\n",
    "    None\n",
    "\n",
    "print('Sum from 1 to {} is {}'.format(n, sum))"
   ]
  },
  {
   "cell_type": "markdown",
   "metadata": {},
   "source": [
    "### Example 4: \n",
    "\n",
    "Count down a number starting n and print `blast off`. Complete the code to produce the following output when N = 5.\n",
    "\n",
    "__Expected output:__\n",
    "\n",
    "```\n",
    "5\n",
    "4\n",
    "3\n",
    "2\n",
    "1\n",
    "blast off\n",
    "```\n",
    "\n",
    "### Using a negative step size `-1`"
   ]
  },
  {
   "cell_type": "code",
   "execution_count": null,
   "metadata": {},
   "outputs": [],
   "source": [
    "N = int(input(\"Enter N: \"))\n",
    "for i in None:\n",
    "    print(None)\n",
    "print(\"blast off\")"
   ]
  },
  {
   "cell_type": "markdown",
   "metadata": {},
   "source": [
    "### Using `range(N)`"
   ]
  },
  {
   "cell_type": "code",
   "execution_count": null,
   "metadata": {},
   "outputs": [],
   "source": [
    "N = int(input(\"Enter N: \"))\n",
    "for i in None:\n",
    "    print(None)\n",
    "    \n",
    "print(\"blast off\")"
   ]
  },
  {
   "cell_type": "markdown",
   "metadata": {},
   "source": [
    "## Enumerate()\n",
    "\n",
    "Python gives you the luxury of iterating directly over the values of the list (or iterables) which is most of the time what you need. However, there are times when you actually need the index of the item as well.\n",
    "\n",
    "__Syntax__:\n",
    "```\n",
    "enumerate(iterable, start=0)\n",
    "```\n",
    "\n",
    "__Parameters__:\n",
    "- `iterable`: any object that supports iteration\n",
    "- `start`: the index value from which the counter is to be started, by default it is 0 "
   ]
  },
  {
   "cell_type": "markdown",
   "metadata": {},
   "source": [
    "              \n",
    "### Example 1: \n",
    "Print a list in three different ways.\n",
    "\n",
    "Given list of car names, `cars = ['kia', 'audi', 'bmw', 'genesis']`, list car names with sequential numbers.\n",
    "\n",
    "\n",
    "__Expected output(Case 1):__\n",
    "\n",
    "```\n",
    "kia\n",
    "audi\n",
    "bmw\n",
    "genesis\n",
    "```"
   ]
  },
  {
   "cell_type": "code",
   "execution_count": null,
   "metadata": {},
   "outputs": [],
   "source": [
    "cars = ['kia', 'audi', 'bmw', 'genesis']\n",
    "for car in None:\n",
    "    print(car)"
   ]
  },
  {
   "cell_type": "markdown",
   "metadata": {},
   "source": [
    "__Expected output(Case 2):__\n",
    "```\n",
    "(1, 'kia')\n",
    "(2, 'audi')\n",
    "(3, 'bmw')\n",
    "(4, 'genesis')\n",
    "```"
   ]
  },
  {
   "cell_type": "code",
   "execution_count": null,
   "metadata": {},
   "outputs": [],
   "source": [
    "cars = ['kia', 'audi', 'bmw', 'genesis']\n",
    "for car in None:\n",
    "    print(car)"
   ]
  },
  {
   "cell_type": "markdown",
   "metadata": {},
   "source": [
    "__Expected output(Case 3):__\n",
    "```\n",
    "1 kia\n",
    "2 audi\n",
    "3 bmw\n",
    "4 genesis\n",
    "```"
   ]
  },
  {
   "cell_type": "code",
   "execution_count": null,
   "metadata": {},
   "outputs": [],
   "source": [
    "cars = ['kia', 'audi', 'bmw', 'genesis']\n",
    "for i, car in None:\n",
    "    print(None, None)"
   ]
  },
  {
   "cell_type": "markdown",
   "metadata": {},
   "source": [
    "### Example 2: \n",
    "Print a list with its index\n",
    "\n",
    "Given list of names, `friends = ['Jane', 'Peter', 'John', 'Lee']`, modify the code cell such that it prouce the list with sequential numbers.\n",
    "\n",
    "__Expected output:__\n",
    "```\n",
    "1: Jane\n",
    "2: Peter\n",
    "3: John\n",
    "4: Lee\n",
    "```\n",
    "\n",
    "__Solution 1:__ Using an index but without using enumerate()"
   ]
  },
  {
   "cell_type": "code",
   "execution_count": null,
   "metadata": {},
   "outputs": [],
   "source": [
    "for i in None:\n",
    "    print(i + 1, None, None)"
   ]
  },
  {
   "cell_type": "markdown",
   "metadata": {},
   "source": [
    "__Solution 2:__ with using enumerate()"
   ]
  },
  {
   "cell_type": "code",
   "execution_count": null,
   "metadata": {},
   "outputs": [],
   "source": [
    "for i, friend in None:\n",
    "    print(i, None, None)"
   ]
  },
  {
   "cell_type": "markdown",
   "metadata": {},
   "source": [
    "# Excercise\n",
    "\n",
    "## Count to N\n",
    "\n",
    "Get an integer N from the user, print all the numbers from 1 to N twice as shown below.\n",
    "\n",
    "__Expected output:__\n",
    "```\n",
    "1\n",
    "2\n",
    "3\n",
    "4\n",
    "5\n",
    "1 2 3 4 5\n",
    "```"
   ]
  },
  {
   "cell_type": "code",
   "execution_count": null,
   "metadata": {},
   "outputs": [],
   "source": [
    "N = int(input(\"Enter N: \"))\n",
    "None"
   ]
  },
  {
   "cell_type": "markdown",
   "metadata": {},
   "source": [
    "## Print even numbers twice\n",
    "\n",
    "Given an integer N, print all even numbers from 0 to N in ascending order and descending order\n",
    "\n",
    "__Expected Output:__\n",
    "```\n",
    "Enter N: 5\n",
    "0 2 4 \n",
    "4 2 0\n",
    "\n",
    "Enter N: 10\n",
    "0 2 4 6 8 10 \n",
    "10 8 6 4 2 0\n",
    "\n",
    "Enter N: 11\n",
    "0 2 4 6 8 10 \n",
    "10 8 6 4 2 0\n",
    "```"
   ]
  },
  {
   "cell_type": "code",
   "execution_count": null,
   "metadata": {},
   "outputs": [],
   "source": [
    "N = int(input(\"Enter N: \"))\n",
    "None\n",
    "print()\n",
    "\n",
    "None"
   ]
  },
  {
   "cell_type": "markdown",
   "metadata": {},
   "source": [
    "## Print every other character in a string \n",
    "\n",
    "Given a string, print every other character. You may need to use a for-loop, if, len(), and range(). \n",
    "\n",
    "__Expected Output:__\n",
    "```\n",
    "Enter a string: hello\n",
    "h l o \n",
    "\n",
    "Enter a string: Hello World\n",
    "H l o W r d \n",
    "\n",
    "Enter a string: Hello World!\n",
    "H l o W r d \n",
    "\n",
    "```"
   ]
  },
  {
   "cell_type": "code",
   "execution_count": null,
   "metadata": {},
   "outputs": [],
   "source": [
    "str = input(\"Enter a string: \")\n",
    "None\n"
   ]
  },
  {
   "cell_type": "markdown",
   "metadata": {},
   "source": [
    "## Ladder \n",
    "\n",
    "For given integer n ≤ 9 print a ladder of n steps. The k-th step consists of the integers from 1 to k without spaces between them.\n",
    "To do that, you can use the sep and end arguments for the function print().\n",
    "\n",
    "__Expected Output:__\n",
    "\n",
    "```\n",
    "Enter N: 5\n",
    "1\n",
    "12\n",
    "123\n",
    "1234\n",
    "12345\n",
    "\n",
    "Enter N: 3\n",
    "1\n",
    "12\n",
    "123\n",
    "```"
   ]
  },
  {
   "cell_type": "code",
   "execution_count": null,
   "metadata": {},
   "outputs": [],
   "source": [
    "N = int(input('Enter N: '))\n",
    "None"
   ]
  },
  {
   "cell_type": "markdown",
   "metadata": {},
   "source": [
    "## Stair\n",
    "For given positive integer N ≤ 9 print a stair of N steps. The k-th step consists of k of 1's  without spaces between them.\n",
    "To do that, you can use the sep and end arguments for the function print().\n",
    "\n",
    "__Expected Output:__\n",
    "\n",
    "```\n",
    "Enter N: 5\n",
    "1\n",
    "11\n",
    "111\n",
    "1111\n",
    "11111\n",
    "\n",
    "Enter N: 4\n",
    "1\n",
    "11\n",
    "111\n",
    "1111\n",
    "```"
   ]
  },
  {
   "cell_type": "code",
   "execution_count": null,
   "metadata": {},
   "outputs": [],
   "source": []
  },
  {
   "cell_type": "markdown",
   "metadata": {
    "tags": []
   },
   "source": [
    "## Sum all digits for any number of digits \n",
    "\n",
    "For example, print `10` if `316`, `13` if `256`, `26` if `5678`. \n",
    "\n",
    "\n",
    "__Expected Outputs:__\n",
    "```\n",
    "316\n",
    "10\n",
    "\n",
    "256\n",
    "13\n",
    "\n",
    "5678\n",
    "26\n",
    "```\n",
    "\n",
    "### Method 1 - using str() and a for-loop"
   ]
  },
  {
   "cell_type": "code",
   "execution_count": null,
   "metadata": {},
   "outputs": [],
   "source": [
    "# Read an integer as a string:\n",
    "s = input(\"Enter an int number: \")\n",
    "\n",
    "# for example, print 6 if a is 123, 18 if a is 369. \n",
    "total = 0\n",
    "\n",
    "None\n",
    "\n",
    "print(total)"
   ]
  },
  {
   "cell_type": "markdown",
   "metadata": {},
   "source": [
    "### Method 2: Using indexing and a for-loop"
   ]
  },
  {
   "cell_type": "code",
   "execution_count": null,
   "metadata": {},
   "outputs": [],
   "source": [
    "# Read an integer as a string:\n",
    "s = input(\"Enter an int number: \")\n",
    "\n",
    "# for example, print 6 if a is 123, 18 if a is 369. \n",
    "total = 0\n",
    "None\n",
    "\n",
    "print(total)"
   ]
  },
  {
   "cell_type": "markdown",
   "metadata": {},
   "source": [
    "### Method 3: Using a while-loop\n",
    "\n",
    "Do it for any number of digits and using while loop"
   ]
  },
  {
   "cell_type": "code",
   "execution_count": 1,
   "metadata": {},
   "outputs": [
    {
     "name": "stdin",
     "output_type": "stream",
     "text": [
      "Enter an int number:  11\n"
     ]
    },
    {
     "name": "stdout",
     "output_type": "stream",
     "text": [
      "0\n"
     ]
    }
   ],
   "source": [
    "# Read an integer:\n",
    "n = int(input(\"Enter an int number: \"))\n",
    "# for example, print 6 if a is 123, 18 if a is 369. \n",
    "\n",
    "total = 0\n",
    "None\n",
    "    \n",
    "print(total)"
   ]
  },
  {
   "cell_type": "markdown",
   "metadata": {},
   "source": [
    "### Method 4: Using list comprehension\n",
    "\n",
    "This topic will be handled later sessions.\n",
    "\n",
    "Using built-in function `sum()`, `int()`, and list comprehension, we can just do it in one line of code.\n",
    "\n",
    "- To use built-in `sum()` function, use `del` command to undefine sum which was previously defined.\n",
    "- `Input()` returns a `str` type data. \n",
    "- Use list comprehension and get each character.\n",
    "- Use `sum()` to sum up the element in the list. "
   ]
  },
  {
   "cell_type": "code",
   "execution_count": null,
   "metadata": {},
   "outputs": [],
   "source": [
    "# Read an integer as a string:\n",
    "s = input(\"Enter an int number: \")\n",
    "\n",
    "# for example, print 6 if a is 123, 18 if a is 369. \n",
    "\n",
    "total = None  \n",
    "print(total)"
   ]
  },
  {
   "cell_type": "markdown",
   "metadata": {},
   "source": [
    "## for 반복문과 문자열 연산을 사용하기\n",
    "\n",
    "for 반복문과 __문자열 연산__ 을 사용하여 다음과 같이 출력하십시오. 문자열 연산을 사용하면, if 조건문 없이, 하나의 for 반복문으로 구현할 수 있습니다. `if` 조건문을 사용하지 않고 구현하십시오. 문자열 연산이란, 예를 들면, `a * 3`은 `aaa`를 나타냅니다. \n",
    "\n",
    "__Expected Output:__\n",
    "```\n",
    "*\n",
    "**\n",
    "***\n",
    "****\n",
    "*****\n",
    "******\n",
    "*******\n",
    "********\n",
    "*********\n",
    "**********\n",
    "```"
   ]
  },
  {
   "cell_type": "code",
   "execution_count": 42,
   "metadata": {},
   "outputs": [
    {
     "name": "stdout",
     "output_type": "stream",
     "text": [
      "\n",
      "*\n",
      "**\n",
      "***\n",
      "****\n",
      "*****\n",
      "******\n",
      "*******\n",
      "********\n",
      "*********\n",
      "**********\n"
     ]
    }
   ],
   "source": [
    "n = 11\n",
    "None"
   ]
  },
  {
   "cell_type": "markdown",
   "metadata": {},
   "source": [
    "## for 반복문과 문자열 연산을 사용하기\n",
    "\n",
    "for 반복문과 __문자열 연산__ 을 사용하여 다음과 같이 출력하십시오. 문자열 연산을 사용하면, if 조건문 없이, 하나의 for 반복문으로 구현할 수 있습니다. 문자열 연산이란, 예를 들면, `a * 3`은 `aaa`를 나타냅니다.   \n",
    "\n",
    "__Expected Output:__   \n",
    "```\n",
    "***********\n",
    "**********\n",
    "*********\n",
    "********\n",
    "*******\n",
    "******\n",
    "*****\n",
    "****\n",
    "***\n",
    "**\n",
    "*\n",
    "```\n"
   ]
  },
  {
   "cell_type": "code",
   "execution_count": 37,
   "metadata": {},
   "outputs": [
    {
     "name": "stdout",
     "output_type": "stream",
     "text": [
      "***********\n",
      "**********\n",
      "*********\n",
      "********\n",
      "*******\n",
      "******\n",
      "*****\n",
      "****\n",
      "***\n",
      "**\n",
      "*\n"
     ]
    }
   ],
   "source": [
    "n = 11\n",
    "None"
   ]
  },
  {
   "cell_type": "markdown",
   "metadata": {},
   "source": [
    "## for 반복문과 문자열 연산, if 조건문을 사용하기\n",
    "\n",
    "for 반복문과 문자열 연산, if 조건문을 사용하여 다음과 같이 출력하십시오. 문자열 연산이란, 예를 들면, `a * 3`은 `aaa`를 나타냅니다. 하나의 for 반복문과 하나의 조건문이면 코딩이 가능합니다. \n",
    "\n",
    "__Expected Output:__\n",
    "```\n",
    "*\n",
    "**\n",
    "***\n",
    "****\n",
    "*****\n",
    "******\n",
    "*******\n",
    "********\n",
    "*********\n",
    "**********\n",
    "***********\n",
    "**********\n",
    "*********\n",
    "********\n",
    "*******\n",
    "******\n",
    "*****\n",
    "****\n",
    "***\n",
    "**\n",
    "*\n",
    "```"
   ]
  },
  {
   "cell_type": "code",
   "execution_count": 41,
   "metadata": {},
   "outputs": [
    {
     "name": "stdout",
     "output_type": "stream",
     "text": [
      "\n",
      "*\n",
      "**\n",
      "***\n",
      "****\n",
      "*****\n",
      "******\n",
      "*******\n",
      "********\n",
      "*********\n",
      "**********\n",
      "***********\n",
      "**********\n",
      "*********\n",
      "********\n",
      "*******\n",
      "******\n",
      "*****\n",
      "****\n",
      "***\n",
      "**\n",
      "*\n"
     ]
    }
   ],
   "source": [
    "n = 22\n",
    "None"
   ]
  },
  {
   "cell_type": "markdown",
   "metadata": {},
   "source": [
    "## for 반복문과 문자열 연산, if 조건문을 사용하기\n",
    "\n",
    "for 반복문과 문자열 연산을 사용하여 다음과 같이 출력하십시오. 필요하면, if 조건문을 사용해도 되지만, 문자열 연산을 사용하면, 조건문 없이 두 개의 for 반복문으로 가능합니다. 문자열 연산이란, 예를 들면, `a * 3`은 `aaa`를 나타냅니다. \n",
    "\n",
    "__Expected Output:__\n",
    "h = 7\n",
    "```\n",
    "        *\n",
    "       ***\n",
    "      *****\n",
    "     *******\n",
    "    *********\n",
    "   ***********\n",
    "  *************\n",
    "   ***********\n",
    "    *********\n",
    "     *******\n",
    "      *****\n",
    "       ***\n",
    "        *\n",
    "```\n",
    "```\n",
    "h = 5\n",
    "\n",
    "      *\n",
    "     ***\n",
    "    *****\n",
    "   *******\n",
    "  *********\n",
    "   *******\n",
    "    *****\n",
    "     ***\n",
    "      *\n",
    "```"
   ]
  },
  {
   "cell_type": "code",
   "execution_count": 29,
   "metadata": {},
   "outputs": [
    {
     "name": "stdout",
     "output_type": "stream",
     "text": [
      "        *\n",
      "       ***\n",
      "      *****\n",
      "     *******\n",
      "    *********\n",
      "   ***********\n",
      "  *************\n",
      "   ***********\n",
      "    *********\n",
      "     *******\n",
      "      *****\n",
      "       ***\n",
      "        *\n"
     ]
    }
   ],
   "source": [
    "h = 7\n",
    "None"
   ]
  },
  {
   "cell_type": "code",
   "execution_count": 43,
   "metadata": {},
   "outputs": [
    {
     "name": "stdout",
     "output_type": "stream",
     "text": [
      "      *\n",
      "     ***\n",
      "    *****\n",
      "   *******\n",
      "  *********\n",
      "   *******\n",
      "    *****\n",
      "     ***\n",
      "      *\n"
     ]
    }
   ],
   "source": [
    "h = 5\n",
    "None"
   ]
  },
  {
   "cell_type": "markdown",
   "metadata": {},
   "source": [
    "## 구구단 출력하기\n",
    "\n",
    "for와 range 함수를 사용하여 아래와 같이 구구단을 출력하십시오. \n",
    "\n",
    "__Expected Output:__\n",
    "```\n",
    "2 4 6 8 10 12 14 16 18 \n",
    "3 6 9 12 15 18 21 24 27 \n",
    "4 8 12 16 20 24 28 32 36 \n",
    "5 10 15 20 25 30 35 40 45 \n",
    "6 12 18 24 30 36 42 48 54 \n",
    "7 14 21 28 35 42 49 56 63 \n",
    "8 16 24 32 40 48 56 64 72 \n",
    "9 18 27 36 45 54 63 72 81 \n",
    "```\n",
    "\n",
    "__Solution:__"
   ]
  },
  {
   "cell_type": "code",
   "execution_count": 1,
   "metadata": {},
   "outputs": [
    {
     "name": "stdout",
     "output_type": "stream",
     "text": [
      "2 4 6 8 10 12 14 16 18 \n",
      "3 6 9 12 15 18 21 24 27 \n",
      "4 8 12 16 20 24 28 32 36 \n",
      "5 10 15 20 25 30 35 40 45 \n",
      "6 12 18 24 30 36 42 48 54 \n",
      "7 14 21 28 35 42 49 56 63 \n",
      "8 16 24 32 40 48 56 64 72 \n",
      "9 18 27 36 45 54 63 72 81 \n"
     ]
    }
   ],
   "source": [
    "None"
   ]
  },
  {
   "cell_type": "markdown",
   "metadata": {},
   "source": [
    "## 코인 가격의 변화 \n",
    "\n",
    "어떤 코인의 가격은 그야말로 동전 던지기와 비슷한 것 같습니다. 아주 위험한 일이죠. 매일 한 번 동전을 던져서 앞면이 나오면 전날 가격의 1.5배가 되고, 뒷면이 나오면 전날 가격의 절반이 됩니다. 1일에 주식의 가격이 1,024원이었을 때, 4일 주식의 가격이 나올 수 있는 경우를 모두 구하십시오. (힌트: for 반복문이 3개 중첩되어야 합니다)\n",
    "\n",
    "__Solution:__"
   ]
  },
  {
   "cell_type": "code",
   "execution_count": 9,
   "metadata": {},
   "outputs": [
    {
     "data": {
      "text/plain": [
       "{128.0, 384.0, 1152.0, 3456.0}"
      ]
     },
     "execution_count": 9,
     "metadata": {},
     "output_type": "execute_result"
    }
   ],
   "source": [
    "None"
   ]
  },
  {
   "cell_type": "markdown",
   "metadata": {},
   "source": [
    "## 수열의 값 구하기\n",
    "\n",
    "다음과 같은 수열이 있을 때 $n$번째 수열의 값을 구하십시오. \n",
    "\n",
    "$$\n",
    "1 \\\\\n",
    "1 + (1 + 2) \\\\\n",
    "1 + (1 + 2) + (1 + 2 + 3) \\\\\n",
    "1 + (1 + 2) + (1 + 2 + 3) + (1 + 2 + 3 + 4) \\\\\n",
    "\\vdots \\\\\n",
    "1 + (1 + 2) + (1 + 2 + 3) + (1 + 2 + 3 + 4) + \\cdots + (1 + 2 + \\cdots + n) \\\\\n",
    "$$"
   ]
  },
  {
   "cell_type": "markdown",
   "metadata": {},
   "source": [
    "__Sample Run:__\n",
    "\n",
    "```\n",
    "if __name__ == '__main__':\n",
    "    total = 0\n",
    "    last_num = int(input('last_num: '))\n",
    "    for i in range(1, last_num + 1):\n",
    "        total += recursive_sum(i)\n",
    "    print(total)\n",
    "```\n",
    "__Expected Output:__\n",
    "```\n",
    "last_num:  5\n",
    "35\n",
    "```"
   ]
  },
  {
   "cell_type": "code",
   "execution_count": 15,
   "metadata": {},
   "outputs": [
    {
     "name": "stdin",
     "output_type": "stream",
     "text": [
      "last_num:  5\n"
     ]
    },
    {
     "name": "stdout",
     "output_type": "stream",
     "text": [
      "35\n"
     ]
    }
   ],
   "source": [
    "None"
   ]
  },
  {
   "cell_type": "markdown",
   "metadata": {},
   "source": [
    "# 학습 정리\n",
    "\n",
    "1. break 명령어 사용하기\n",
    "1. Nested loops 이해하기\n",
    "1. for문 & range()   \n",
    "1. Enumerate()  "
   ]
  },
  {
   "cell_type": "markdown",
   "metadata": {},
   "source": [
    "# 참고자료\n",
    "\n",
    "- [Python Iteration-for loop](https://www.w3schools.com/python/python_for_loops.asp)\n",
    "- [Python Iteration-while loop](https://www.w3schools.com/python/python_while_loops.asp)"
   ]
  },
  {
   "cell_type": "markdown",
   "metadata": {},
   "source": [
    "---------\n",
    "__\"Everything is permissible\" - but not everything is beneficial. \"Everything is permissible\" - but not everything is constructive.__\n",
    "1 Corinthians 10:23\n",
    "    "
   ]
  }
 ],
 "metadata": {
  "kernelspec": {
   "display_name": "Python 3 (ipykernel)",
   "language": "python",
   "name": "python3"
  },
  "language_info": {
   "codemirror_mode": {
    "name": "ipython",
    "version": 3
   },
   "file_extension": ".py",
   "mimetype": "text/x-python",
   "name": "python",
   "nbconvert_exporter": "python",
   "pygments_lexer": "ipython3",
   "version": "3.8.12"
  },
  "toc-autonumbering": true
 },
 "nbformat": 4,
 "nbformat_minor": 4
}
