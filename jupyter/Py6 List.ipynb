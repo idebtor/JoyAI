{
 "cells": [
  {
   "cell_type": "markdown",
   "metadata": {},
   "source": [
    "항상 기뻐하라\n",
    "쉬지 말고 기도하라\n",
    "범사에 감사하라 이것이 그리스도 예수 안에서 너희를 향하신 하나님의 뜻이니라\n",
    "성령을 소멸하지 말며\n",
    "예언을 멸시하지 말고\n",
    "범사에 헤아려 좋은 것을 취하고\n",
    "악은 어떤 모양이라도 버리라 (살전5:16-22)\n",
    "\n",
    "-------\n",
    "\n",
    "<center><img src=\"https://github.com/idebtor/KMOOC-ML/blob/master/ipynb/images/joyai/pythonML.png?raw=true\" width=1000></center>\n",
    "\n",
    "__NOTE:__ The following materials have been compiled and adapted from the numerous sources including my own. Please help me to keep this tutorial up-to-date by reporting any issues or questions. Send any comments or criticisms to `idebtor@gmail.com` Your assistances and comments will be appreciated."
   ]
  },
  {
   "cell_type": "markdown",
   "metadata": {
    "tags": []
   },
   "source": [
    "# Lists  \n",
    "\n",
    "__학습 목표__   \n",
    "- 리스트에 대해 이해한다.\n",
    "- 파이썬에서 제공하는 리스트 메소드를 살펴본다.  \n",
    "\n",
    "__학습 내용__\n",
    "1. 슬라이싱 문법   \n",
    "1. 다양한 리스트 메소드\n",
    "1. 리스트 작업 수행\n",
    "\n",
    "------\n",
    "Most of programs work not only with variables, but also use lists of variables. For example, a program can handle students informationin in a class by reading the list of students from the keyboard or from a file. \n",
    "\n",
    "To store such data, you can use the data structure called __list__. \n",
    "\n",
    "- Lists are sequences of objects. \n",
    "- Lists can contain a mix of any type of objects:\n",
    "- Lists are one of the workhorse data structures.\n",
    "\n",
    "A list is a sequence of elements numbered from 0, just as characters in the string. You create a list by putting square brackets around a comma-separated list of other Python items:"
   ]
  },
  {
   "cell_type": "code",
   "execution_count": null,
   "metadata": {},
   "outputs": [],
   "source": [
    "primes = [2, 3, 5, 7, 11, 13]\n",
    "rainbow = ['red', 'orange', 'yellow', 'green', 'blue', 'indigo', 'violet']"
   ]
  },
  {
   "cell_type": "markdown",
   "metadata": {},
   "source": [
    "Like strings, you can concatenate lists using the add operation:"
   ]
  },
  {
   "cell_type": "code",
   "execution_count": null,
   "metadata": {},
   "outputs": [],
   "source": [
    "# combine two lists\n",
    "c = None\n",
    "print(c)"
   ]
  },
  {
   "cell_type": "markdown",
   "metadata": {},
   "source": [
    "and you can multiply a list by an integer to repeat the items in a list multiple times:"
   ]
  },
  {
   "cell_type": "code",
   "execution_count": null,
   "metadata": {},
   "outputs": [],
   "source": [
    "[True] * None"
   ]
  },
  {
   "cell_type": "markdown",
   "metadata": {},
   "source": [
    "## Lists are mutable\n",
    "\n",
    "\n",
    "Unlike strings, list indexing is different that you can set the values in the list: strings are __immutable__, but lists are __mutable__.\n",
    "\n",
    "### Example 6: Change the second element into uppercase\n",
    "\n",
    "```\n",
    "['red', 'ORANGE', 'yellow', 'green', 'blue', 'indigo', 'violet']\n",
    "```"
   ]
  },
  {
   "cell_type": "code",
   "execution_count": null,
   "metadata": {},
   "outputs": [],
   "source": [
    "rainbow = ['red', 'orange', 'yellow', 'green', 'blue', 'indigo', 'violet']\n",
    "None\n",
    "print(rainbow)"
   ]
  },
  {
   "cell_type": "markdown",
   "metadata": {},
   "source": [
    "## Making a list\n",
    "\n",
    "Make a list called `seq` with __odd__ numbers between 1 and 20 as shown below:\n",
    "\n",
    "```\n",
    "seq = [1, 3, 5, 7, 9, 11, 13, 15, 17, 19]\n",
    "```"
   ]
  },
  {
   "cell_type": "markdown",
   "metadata": {},
   "source": [
    "__Solution 1:__\n",
    "- Create an empty list or initialize a list.\n",
    "- Use a `for` loop and `range()`.\n",
    "- Use `append()` method to append an item to the list one by one. "
   ]
  },
  {
   "cell_type": "code",
   "execution_count": null,
   "metadata": {},
   "outputs": [],
   "source": [
    "None\n",
    "print(seq)"
   ]
  },
  {
   "cell_type": "markdown",
   "metadata": {},
   "source": [
    "__Solution 2__ - a challenge problem:  \n",
    "- You may do this now, or you would be able to do this after finishing this whole lesson.\n",
    "- Produce `seq = [1, 3, 5, 7, 9, 11, 13, 15, 17, 19]` in the following code\n",
    "- Use a list additon instead of `append()`. "
   ]
  },
  {
   "cell_type": "code",
   "execution_count": null,
   "metadata": {},
   "outputs": [],
   "source": [
    "seq = []\n",
    "for x in range(1, 20, 2):\n",
    "    None                      # use addition or in-place addition\n",
    "print(seq)"
   ]
  },
  {
   "cell_type": "markdown",
   "metadata": {},
   "source": [
    "\n",
    "## Indexing\n",
    "\n",
    "Indexing on lists works much the same way as strings.\n",
    "\n",
    "To get the first element of a list, use index 0:"
   ]
  },
  {
   "cell_type": "code",
   "execution_count": null,
   "metadata": {},
   "outputs": [],
   "source": [
    "# print the first color\n",
    "rainbow = ['red', 'orange', 'yellow', 'green', 'blue', 'indigo', 'violet']\n",
    "print(rainbow[0])"
   ]
  },
  {
   "cell_type": "markdown",
   "metadata": {},
   "source": [
    "### Example 1: List elments in three different ways\n",
    "\n",
    "Three ways of printing each color in the rainbow, one element at a time as shown below:\n",
    "\n",
    "1. using index\n",
    "1. using iterable\n",
    "1. using enumerate\n",
    "\n",
    "```\n",
    "1:red 2:orange 3:yellow 4:green 5:blue 6:indigo 7:violet \n",
    "```"
   ]
  },
  {
   "cell_type": "markdown",
   "metadata": {},
   "source": [
    "__solution 1:__ Using list indexing"
   ]
  },
  {
   "cell_type": "code",
   "execution_count": null,
   "metadata": {},
   "outputs": [],
   "source": [
    "# using indexing \n",
    "rainbow = ['red', 'orange', 'yellow', 'green', 'blue', 'indigo', 'violet']\n",
    "None"
   ]
  },
  {
   "cell_type": "markdown",
   "metadata": {},
   "source": [
    "__solution 2:__ Using list iterable"
   ]
  },
  {
   "cell_type": "code",
   "execution_count": null,
   "metadata": {},
   "outputs": [],
   "source": [
    "# using list which is iterable\n",
    "rainbow = ['red', 'orange', 'yellow', 'green', 'blue', 'indigo', 'violet']\n",
    "None"
   ]
  },
  {
   "cell_type": "markdown",
   "metadata": {},
   "source": [
    "__solution 3:__ Using enumerating list"
   ]
  },
  {
   "cell_type": "code",
   "execution_count": null,
   "metadata": {},
   "outputs": [],
   "source": [
    "# enumerating list with indices\n",
    "None"
   ]
  },
  {
   "cell_type": "code",
   "execution_count": null,
   "metadata": {},
   "outputs": [],
   "source": [
    "# enumerating list with indices\n",
    "None"
   ]
  },
  {
   "cell_type": "markdown",
   "metadata": {},
   "source": [
    "Slicing\n",
    "-------\n",
    "Slicing is used to extract a subsequence out of your sequence(e.g. list, string):\n",
    "\n",
    "    var[lower:upper:step]\n",
    "\n",
    "The element which has index equal to the lower bound is included in the slice, but the element which has index equal to the upper bound is excluded, so mathematically, the ie slice is `[lower, upper)`.  If you think of the indices as being between the elements, then this mentally works very nicely, as we'll see.\n",
    "\n",
    "The `step` argument is optional, and indicates the strides between elements in the subsequence, so a step of 2 takes every second element.\n",
    "\n",
    "List slicing also has very similar semantics to slicing on strings. \n",
    "```\n",
    "- a[start:end]  items start through end-1\n",
    "- a[start:]     items start through the rest of the array\n",
    "- a[:end]       items from the beginning through end - 1\n",
    "- a[:]          a copy of the whole list\n",
    "- a[start:end:step]  start through end - 1, by step\n",
    "```"
   ]
  },
  {
   "cell_type": "markdown",
   "metadata": {},
   "source": [
    "### Example 1: Slice `[11, 12]`\n",
    "\n",
    "- slice [11, 12]"
   ]
  },
  {
   "cell_type": "code",
   "execution_count": null,
   "metadata": {},
   "outputs": [],
   "source": [
    "# slice [11, 12]\n",
    "a = [10, 11, 12, 13, 14, 15]\n",
    "None"
   ]
  },
  {
   "cell_type": "markdown",
   "metadata": {},
   "source": [
    "### Example 2: Slice the first three elements `[10, 11, 12]`"
   ]
  },
  {
   "cell_type": "code",
   "execution_count": null,
   "metadata": {},
   "outputs": [],
   "source": [
    "# slice [10, 11, 12]\n",
    "a = [10, 11, 12, 13, 14, 15]\n",
    "None"
   ]
  },
  {
   "cell_type": "markdown",
   "metadata": {},
   "source": [
    "### Example 3: Slice all elements except the last one using a negative indices"
   ]
  },
  {
   "cell_type": "code",
   "execution_count": null,
   "metadata": {},
   "outputs": [],
   "source": [
    "# slice [10, 11, 12, 13, 14], use negative indices\n",
    "a = [10, 11, 12, 13, 14, 15]\n",
    "None"
   ]
  },
  {
   "cell_type": "markdown",
   "metadata": {},
   "source": [
    "### Example 4:\n",
    "- There is a list that consists of pairs of name and age. \n",
    "- Make a list of names or every other elements as shown in the following list, `data`.\n",
    "- Compute the average age.\n",
    "\n",
    "```\n",
    "data = ['john', 3, 'kim', 7, 'peter', 13, 'paul', 17, 'david', 10]\n",
    "\n",
    "names: ['john', 'kim', 'peter', 'paul', 'david']\n",
    "aveage age:10.00\n",
    "```\n",
    "\n",
    "__Solution 1:__ Using enumerate() or for loop"
   ]
  },
  {
   "cell_type": "code",
   "execution_count": null,
   "metadata": {},
   "outputs": [],
   "source": [
    "data = ['john', 3, 'kim', 7, 'peter', 13, 'paul', 17, 'david', 10]\n",
    "\n",
    "None\n",
    "\n",
    "print('names:', names)\n",
    "print('average age: %.2f' % age)\n",
    "print('average age: {:.2f}'.format(age))"
   ]
  },
  {
   "cell_type": "markdown",
   "metadata": {},
   "source": [
    "__Solution 2:__ Using slicing  - the simplest solution"
   ]
  },
  {
   "cell_type": "code",
   "execution_count": null,
   "metadata": {},
   "outputs": [],
   "source": [
    "data = ['john', 3, 'kim', 7, 'peter', 13, 'paul', 17, 'david', 10]\n",
    "None\n",
    "\n",
    "print('names:', names)\n",
    "print('average age: %.2f' % age)\n",
    "print('average age: {:.2f}'.format(age))"
   ]
  },
  {
   "cell_type": "markdown",
   "metadata": {},
   "source": [
    "## Replace elements with \n",
    "\n",
    "Unlike strings, because lists are mutable, you can write values into a slice.  \n",
    "\n",
    "### Example 6: Replace `11, 12` with `1, 2`"
   ]
  },
  {
   "cell_type": "code",
   "execution_count": null,
   "metadata": {},
   "outputs": [],
   "source": [
    "# replace 11, 12 with 1, 2\n",
    "a = [10, 11, 12, 13, 13, 15]\n",
    "None\n",
    "print(a)"
   ]
  },
  {
   "cell_type": "markdown",
   "metadata": {},
   "source": [
    "This overwrites the second and third elements.  However you can inject extra elements into the list in the same way: the length of the slice and the length of the injected list don't have to match.\n",
    "\n",
    "### Example 7: Replace `11, 12` with `1, 2, 3, 4`\n",
    "Insert `[1, 2, 3, 4]` into the slice from 1 to 3 such that it produces \n",
    "`[10, 1, 2, 3, 4, 13, 14, 15]`. \n",
    "This will remove the current contents of the slice and replace it with the new list, increasing the length of the list:"
   ]
  },
  {
   "cell_type": "code",
   "execution_count": null,
   "metadata": {},
   "outputs": [],
   "source": [
    "# replace, 1, 2 with 1, 2, 3, 4\n",
    "a = [10, 1, 2, 13, 14, 15]\n",
    "None\n",
    "print(a)"
   ]
  },
  {
   "cell_type": "markdown",
   "metadata": {},
   "source": [
    "## Delete elements\n",
    "\n",
    "It's also possible to use the same idea for deleting elements.\n",
    "\n",
    "If we take the slice from 1 to 3 and inject an empty list into the slice, it will __delete__ the second and third elements:\n",
    "\n",
    "### Example 8: Delete elements `1, 2`\n",
    "Complete the code to produce `[10, 3, 4, 13, 14, 15]`."
   ]
  },
  {
   "cell_type": "code",
   "execution_count": null,
   "metadata": {},
   "outputs": [],
   "source": [
    "a = [10, 1, 2, 3, 4, 13, 14, 15]\n",
    "None\n",
    "print(a)"
   ]
  },
  {
   "cell_type": "markdown",
   "metadata": {},
   "source": [
    "## Copying elements\n",
    "\n",
    "Finally, you can __slice or copy all of the elements__ with a slice like this:\n",
    "\n",
    "### Example 9:"
   ]
  },
  {
   "cell_type": "markdown",
   "metadata": {},
   "source": [
    "For example, we want to make a copy of list `a` and have `red` is replaced with `RED` as shown below:\n",
    "\n",
    "```\n",
    "a = ['red', 'green', 'blue']\n",
    "b = ['RED', 'green', 'blue']\n",
    "```\n",
    "\n",
    "What is wrong with the following code?"
   ]
  },
  {
   "cell_type": "code",
   "execution_count": 2,
   "metadata": {},
   "outputs": [
    {
     "name": "stdout",
     "output_type": "stream",
     "text": [
      "b = ['RED', 'green', 'blue']\n",
      "a = ['RED', 'green', 'blue']\n"
     ]
    }
   ],
   "source": [
    "a = ['red', 'green', 'blue'] \n",
    "b = a\n",
    "b[0] = b[0].upper()\n",
    "\n",
    "print('b =', b)\n",
    "print('a =', a)"
   ]
  },
  {
   "cell_type": "markdown",
   "metadata": {},
   "source": [
    "Use `[:]` to get a copy of a list which is a mutable object."
   ]
  },
  {
   "cell_type": "code",
   "execution_count": null,
   "metadata": {},
   "outputs": [],
   "source": [
    "a = ['red', 'green', 'blue'] \n",
    "None"
   ]
  },
  {
   "cell_type": "markdown",
   "metadata": {},
   "source": [
    "## Tuple is immutable.\n",
    "\n",
    "Tuple data type is defined by `( )` instead of `[ ]` as shown below:\n",
    "\n",
    "```\n",
    "a = ('red', 'green', 'blue')\n",
    "a = ('RED', 'green', 'blue')\n",
    "```\n",
    "Use `tuple()` constructor to convert a list to a tuple type. \n",
    "\n",
    "If you want to change the first element of `a` into uppercase, which line of code would be a problem?"
   ]
  },
  {
   "cell_type": "code",
   "execution_count": null,
   "metadata": {},
   "outputs": [],
   "source": [
    "a = ('red', 'green', 'blue')\n",
    "a[0] = a[0].upper()\n",
    "print(a)"
   ]
  },
  {
   "cell_type": "markdown",
   "metadata": {},
   "source": [
    "To obtain `a = ('RED', 'green', 'blue')`, do the following:\n",
    "- convert `a` to a list type and call it `b`. \n",
    "- change `b[0]` to `RED`.\n",
    "- change `b` back to a tuple type `a`."
   ]
  },
  {
   "cell_type": "code",
   "execution_count": null,
   "metadata": {},
   "outputs": [],
   "source": [
    "b = list(a)\n",
    "None\n",
    "print(a)"
   ]
  },
  {
   "cell_type": "markdown",
   "metadata": {},
   "source": [
    "## List Methods\n",
    "\n",
    "Lists are objects, so they have a lot of methods available on them.\n",
    "\n",
    "- `lst.append(item) `  adds item to the end of list lst\n",
    "- `lst.extend(item) `  adds a sequence item to the list lst\n",
    "- `lst.count(item)  `  returns the number of occurences of item in list lst\n",
    "- `lst.index(item)  `  returns the index of the first occurence of item in list lst\n",
    "- `lst.insert(index, item) `  inserts item into list just before index \n",
    "- `lst.pop()        `  removes the item in the list\n",
    "- `lst.pop(i)       `  removes an item by index and returns the value\n",
    "- `lst.remove(item) `  removes first occurrence of item in the list\n",
    "- `lst.reverse()    `  reverses the order of items in the list\n",
    "- `lst.sort         `  sorts the list __in-place__\n",
    "\n",
    "\n",
    "### Example 1: \n",
    "\n",
    "`append()` adds a single element to the end of a list:"
   ]
  },
  {
   "cell_type": "code",
   "execution_count": null,
   "metadata": {},
   "outputs": [],
   "source": [
    "# add orange at the end\n",
    "rainbow = ['red', 'green', 'blue']\n",
    "None\n",
    "print(rainbow)"
   ]
  },
  {
   "cell_type": "markdown",
   "metadata": {},
   "source": [
    "Using an addition operator:"
   ]
  },
  {
   "cell_type": "code",
   "execution_count": null,
   "metadata": {},
   "outputs": [],
   "source": [
    "rainbow = ['red', 'green', 'blue']\n",
    "rainbow += ['orange']\n",
    "print(rainbow)"
   ]
  },
  {
   "cell_type": "markdown",
   "metadata": {},
   "source": [
    "### Example 2: \n",
    "\n",
    "add a sequence such as `[orange, black]` \n",
    "\n",
    "If you instead want to add a sequence to the end of a list, then you can use `extend()`:\n",
    "\n",
    "```\n",
    "rainbow = ['red', 'green', 'blue']\n",
    "rainbow = ['red', 'green', 'blue', 'orange', 'black']\n",
    "```\n",
    "\n",
    "__Solution 1:__"
   ]
  },
  {
   "cell_type": "code",
   "execution_count": null,
   "metadata": {},
   "outputs": [],
   "source": [
    "# add [indigo, violet] at the end\n",
    "rainbow = ['red', 'green', 'blue']\n",
    "rainbow = ['red', 'green', 'blue', 'orange', 'black']\n",
    "None\n",
    "print(rainbow)"
   ]
  },
  {
   "cell_type": "markdown",
   "metadata": {},
   "source": [
    "__Note 1:__\n",
    "This is the same as using __inplace addition__:"
   ]
  },
  {
   "cell_type": "code",
   "execution_count": null,
   "metadata": {},
   "outputs": [],
   "source": [
    "rainbow = ['red', 'green', 'blue']\n",
    "None\n",
    "print(rainbow)"
   ]
  },
  {
   "cell_type": "markdown",
   "metadata": {},
   "source": [
    "__Note 2:__\n",
    "Using `append()` with a list produces a differnt result than `extend()`:"
   ]
  },
  {
   "cell_type": "code",
   "execution_count": null,
   "metadata": {},
   "outputs": [],
   "source": [
    "rainbow = ['red', 'green', 'blue']\n",
    "rainbow.append(['orange', 'black'])\n",
    "print(rainblow)\n",
    "len(rainbow)"
   ]
  },
  {
   "cell_type": "markdown",
   "metadata": {},
   "source": [
    "This adds a single element to the end of the list, and that element contains the thing we appended, in this case the list `['indigo', 'violet']`.\n",
    "\n",
    "### Example 3: \n",
    "\n",
    "Count how many `red` in the list rainbow.\n",
    "\n",
    "The `count()` method tells you how many of a certain element are in a list:"
   ]
  },
  {
   "cell_type": "code",
   "execution_count": null,
   "metadata": {},
   "outputs": [],
   "source": [
    "rainbow = ['red', 'green', 'blue', 'green', 'blue', 'red']\n",
    "rainbow.count('red')"
   ]
  },
  {
   "cell_type": "markdown",
   "metadata": {},
   "source": [
    "### Example 4: \n",
    "\n",
    "Remove all elements after `yellow` in the list rainbow. \n",
    "\n",
    "The `index()` method tells you the index of the first occurence of an element:\n",
    "\n",
    "It produces the following\n",
    "```\n",
    "['red', 'orange', 'yellow']\n",
    "```\n"
   ]
  },
  {
   "cell_type": "code",
   "execution_count": null,
   "metadata": {},
   "outputs": [],
   "source": [
    "rainbow = ['red', 'orange', 'yellow', 'green', 'blue', 'yellow', 'indigo', 'violet']\n",
    "None\n",
    "print(rainbow)"
   ]
  },
  {
   "cell_type": "markdown",
   "metadata": {},
   "source": [
    "Notice that even though we have two 'yellow's we only get the index of the first one.\n",
    "\n",
    "The `insert()` method inserts a new element into a list at a particular index. "
   ]
  },
  {
   "cell_type": "markdown",
   "metadata": {},
   "source": [
    "### Example 5: \n",
    "\n",
    "Insert `pink` at the index = 2 in the list.   \n",
    "The `insert()` method inserts a new element into a list at a particular index. \n",
    "\n",
    "It produces the following:\n",
    "\n",
    "```\n",
    "rainbow = ['red', 'orange', 'yellow', 'green', 'blue', 'indigo', 'violet']\n",
    "rainbow = ['red', 'orange', 'pink', 'yellow', 'green', 'blue', 'indigo', 'violet']\n",
    "```\n",
    "\n",
    "__Solution 1:__ Using `insert(index, value)`"
   ]
  },
  {
   "cell_type": "code",
   "execution_count": null,
   "metadata": {},
   "outputs": [],
   "source": [
    "rainbow = ['red', 'orange', 'yellow', 'green', 'blue', 'indigo', 'violet']\n",
    "None\n",
    "print(rainbow)"
   ]
  },
  {
   "cell_type": "markdown",
   "metadata": {},
   "source": [
    "__Solution 2:__ Using slicing"
   ]
  },
  {
   "cell_type": "code",
   "execution_count": null,
   "metadata": {},
   "outputs": [],
   "source": [
    "rainbow = ['red', 'orange', 'yellow', 'green', 'blue', 'indigo', 'violet']\n",
    "None\n",
    "print(rainbow)"
   ]
  },
  {
   "cell_type": "markdown",
   "metadata": {},
   "source": [
    "### Example 6: \n",
    "Remove `yellow` in the list.  \n",
    "Use the `remove()` method to produce the following:\n",
    "\n",
    "```\n",
    "rainbow = ['red', 'orange', 'yellow', 'green', 'blue', 'indigo', 'violet']\n",
    "rainbow = ['red', 'orange', 'green', 'blue', 'indigo', 'violet']\n",
    "```\n",
    "__Solution 1: Using `remove(value)`__"
   ]
  },
  {
   "cell_type": "code",
   "execution_count": 1,
   "metadata": {},
   "outputs": [
    {
     "name": "stdout",
     "output_type": "stream",
     "text": [
      "['red', 'orange', 'yellow', 'green', 'blue', 'indigo', 'violet']\n"
     ]
    }
   ],
   "source": [
    "rainbow = ['red', 'orange', 'yellow', 'green', 'blue', 'indigo', 'violet']\n",
    "None\n",
    "print(rainbow)"
   ]
  },
  {
   "cell_type": "markdown",
   "metadata": {},
   "source": [
    "__Solution 2:__ Using slicing"
   ]
  },
  {
   "cell_type": "code",
   "execution_count": null,
   "metadata": {},
   "outputs": [],
   "source": [
    "rainbow = ['red', 'orange', 'yellow', 'green', 'blue', 'indigo', 'violet']\n",
    "None\n",
    "print(rainbow)"
   ]
  },
  {
   "cell_type": "markdown",
   "metadata": {},
   "source": [
    "### Example 7: Remove third element and print its value\n",
    "\n",
    "__Expected Output__:\n",
    "```\n",
    "['red', 'orange', 'green', 'blue', 'indigo', 'violet']\n",
    "yellow\n",
    "```\n",
    "\n",
    "The `pop()` method returns the value and removes an element from a list, but __by index__ rather than by value. "
   ]
  },
  {
   "cell_type": "code",
   "execution_count": null,
   "metadata": {},
   "outputs": [],
   "source": [
    "rainbow = ['red', 'orange', 'yellow', 'green', 'blue', 'indigo', 'violet']\n",
    "None\n",
    "print(None)"
   ]
  },
  {
   "cell_type": "markdown",
   "metadata": {},
   "source": [
    "### Example 8: `sort()` : in-place sort\n",
    "\n",
    "Lists have a `sort()` method which is quite powerful.  The sort method takes various arguments that allow you to control how the sorting is done, and we'll cover that in another lecture.  But if you just call it without any argument it will sort the elements in ascending order, which is fairly useful by itself:\n",
    "\n",
    "```\n",
    "a = [10, 1, 11, 13, 11, 2, 15, 14]\n",
    "a = [1, 2, 10, 11, 11, 13, 14, 15]\n",
    "```"
   ]
  },
  {
   "cell_type": "code",
   "execution_count": null,
   "metadata": {},
   "outputs": [],
   "source": [
    "a = [10, 1, 11, 13, 11, 2, 15, 14]\n",
    "None\n",
    "print(a)"
   ]
  },
  {
   "cell_type": "markdown",
   "metadata": {},
   "source": [
    "__Note:__ Using function `sorted()` \n",
    "\n",
    "```\n",
    "a = [10, 1, 11, 13, 11, 2, 15, 14]\n",
    "b = [10, 1, 11, 13, 11, 2, 15, 14]\n",
    "c = [1, 2, 10, 11, 11, 13, 14, 15]\n",
    "```"
   ]
  },
  {
   "cell_type": "code",
   "execution_count": null,
   "metadata": {},
   "outputs": [],
   "source": [
    "a = [10, 1, 11, 13, 11, 2, 15, 14]\n",
    "None\n",
    "print(b)\n",
    "print(c)"
   ]
  },
  {
   "cell_type": "markdown",
   "metadata": {},
   "source": [
    "This is an __in-place sort__, so it actually modifies the list `a`.  If you want to sort a list, but don't want to modify it, but instead create a new, sorted list, then the `sorted()` built-in function will do this for you. Some built-in functions such as sum, len, max can be used."
   ]
  },
  {
   "cell_type": "markdown",
   "metadata": {},
   "source": [
    "### Example 9: reverse()\n",
    "\n",
    "Finally, there is the `reverse()` method that reverses the elements of the list __in-place__:\n"
   ]
  },
  {
   "cell_type": "markdown",
   "metadata": {},
   "source": [
    "## Operations on Lists\n",
    "\n",
    "We've seen the generic length function in Python and __it works on any kind of sequence__, including lists:\n",
    "\n",
    "- `len()`     - returns the length of an object\n",
    "- `sorted()`  - returns sorted list of an object \n",
    "- `del`       - deletes an item from a list by index\n",
    "- `in`        - tests for membership in a list \n",
    "- `not in`    - tests for membership in a list \n",
    "\n",
    "### Example 1: \n",
    "\n",
    "Get the length of the list given:"
   ]
  },
  {
   "cell_type": "code",
   "execution_count": null,
   "metadata": {},
   "outputs": [],
   "source": [
    "rainbow = ['red', 'orange', 'yellow', 'green', 'blue', 'indigo', 'violet']\n",
    "len(rainbow)"
   ]
  },
  {
   "cell_type": "markdown",
   "metadata": {},
   "source": [
    "### Example 2: \n",
    "\n",
    "Use `sorted()` function to sort the sequence.\n",
    "\n",
    "Note: A list also has the `sort()` method which performs the same way as `sorted()`. The only difference being, the `sort()` method doesn't return any value and changes the original list."
   ]
  },
  {
   "cell_type": "code",
   "execution_count": null,
   "metadata": {},
   "outputs": [],
   "source": [
    "rainbow = ['red', 'orange', 'yellow', 'green', 'blue', 'indigo', 'violet']\n",
    "rsorted = sorted(rainbow)\n",
    "print(rainbow)\n",
    "print(rsorted)"
   ]
  },
  {
   "cell_type": "markdown",
   "metadata": {},
   "source": [
    "### Example 3: \n",
    "\n",
    "Use `sorted()` function to reverse the sequence."
   ]
  },
  {
   "cell_type": "code",
   "execution_count": null,
   "metadata": {},
   "outputs": [],
   "source": [
    "rainbow = ['red', 'orange', 'yellow', 'green', 'blue', 'indigo', 'violet']\n",
    "rsorted = sorted(rainbow, reverse = True)\n",
    "print(rainbow)\n",
    "print(rsorted)"
   ]
  },
  {
   "cell_type": "markdown",
   "metadata": {},
   "source": [
    "### Example 4: \n",
    "\n",
    "Use `sorted()` to sort by its length"
   ]
  },
  {
   "cell_type": "code",
   "execution_count": null,
   "metadata": {},
   "outputs": [],
   "source": [
    "rainbow = ['red', 'orange', 'yellow', 'green', 'blue', 'indigo', 'violet']\n",
    "rsorted = sorted(rainbow, key = len)\n",
    "print(rainbow)\n",
    "print(rsorted)"
   ]
  },
  {
   "cell_type": "markdown",
   "metadata": {},
   "source": [
    "### Example 5: \n",
    "\n",
    "Test if  `purple` is in `rainbow`.\n",
    "\n",
    "A powerful feature is being able to test for membership in a list using the `in` keyword."
   ]
  },
  {
   "cell_type": "code",
   "execution_count": null,
   "metadata": {},
   "outputs": [],
   "source": [
    "rainbow = ['red', 'orange', 'yellow', 'green', 'blue', 'indigo', 'violet']\n",
    "'purple' in rainbow"
   ]
  },
  {
   "cell_type": "markdown",
   "metadata": {},
   "source": [
    "You can invert the idea and test to see if something is `not in` the list:"
   ]
  },
  {
   "cell_type": "code",
   "execution_count": null,
   "metadata": {},
   "outputs": [],
   "source": [
    "rainbow = ['red', 'orange', 'yellow', 'green', 'blue', 'indigo', 'violet']\n",
    "'purple' not in rainbow"
   ]
  },
  {
   "cell_type": "markdown",
   "metadata": {},
   "source": [
    "The result is `True` since 'purple' is not in `rainbow`.\n",
    "\n",
    "In the following code snippet, replace `None` with an logical expression such that it prints `True` since 0 is not in `a`."
   ]
  },
  {
   "cell_type": "code",
   "execution_count": 1,
   "metadata": {},
   "outputs": [
    {
     "name": "stdout",
     "output_type": "stream",
     "text": [
      "True\n"
     ]
    }
   ],
   "source": [
    "a = [1, 2, 3, 4, 5, 6]\n",
    "print(None) "
   ]
  },
  {
   "cell_type": "markdown",
   "metadata": {},
   "source": [
    "# Exercises\n",
    "\n",
    "## Swap neighbours\n",
    "\n",
    "Given a list of numbers, swap adjacent items in pairs (`a[0]` with `a[1]`, `a[2]` with `a[3]`, etc.). Print the resulting list. If a list has an odd number of elements, leave the last element in place.\n",
    "\n",
    "__Sample Runs:__\n",
    "```\n",
    "a = [1, 2, 3]\n",
    "# your code here\n",
    "print(a)\n",
    "\n",
    "[2, 1, 3]\n",
    "```\n",
    "-----------\n",
    "```\n",
    "a = [0, 9, 4, 5, 2, 3]\n",
    "# your code here\n",
    "print(a)\n",
    "\n",
    "[9, 0, 5, 4, 3, 2]\n",
    "```\n",
    "-----------\n",
    "```\n",
    "a = [0, 9, 4, 5, 2, 3, 1]\n",
    "# your code here\n",
    "print(a)\n",
    "\n",
    "[9, 0, 5, 4, 3, 2, 1]\n",
    "```\n",
    "\n",
    "__Hint__: Believe it or not, mutiple assignments are possible. In the following code, two values of `x` and `y` are swapped.\n",
    "```\n",
    "x, y = 1, 2      # x = 1, y = 2\n",
    "x, y = y, x      # x = 2, y = 1\n",
    "```"
   ]
  },
  {
   "cell_type": "code",
   "execution_count": null,
   "metadata": {},
   "outputs": [],
   "source": [
    "a = [0, 9, 4, 5, 2, 3]\n",
    "for i in None:\n",
    "    None"
   ]
  },
  {
   "cell_type": "markdown",
   "metadata": {},
   "source": [
    "## swap_two()\n",
    "\n",
    "Make the functionality of 'swap neighbours' coded above into a function. There are two ways to implement this function. \n",
    "- swap_two_inplace() in place returns None, but changes the input list itself in the argument\n",
    "- swap_two() returns a new list without changing the input list in the argument"
   ]
  },
  {
   "cell_type": "markdown",
   "metadata": {},
   "source": [
    "__Sample Run 1:__\n",
    "```\n",
    "if __name__ == '__main__':\n",
    "    a = [0, 9, 4, 5, 2, 3, 1]\n",
    "    b = swap_two_inplace(a)\n",
    "    print(\"a:\", a)\n",
    "    print(\"b:\", b)\n",
    "```\n",
    "\n",
    "__Expected Output:__\n",
    "```\n",
    "a: [9, 0, 5, 4, 3, 2, 1]\n",
    "b: None\n",
    "```"
   ]
  },
  {
   "cell_type": "markdown",
   "metadata": {},
   "source": [
    "__Sample Run 2:__\n",
    "```\n",
    "if __name__ == '__main__':\n",
    "    a = [0, 9, 4, 5, 2, 3, 1]\n",
    "    b = swap_two(a)\n",
    "    print(\"a:\", a)\n",
    "    print(\"b:\", b)\n",
    "```\n",
    "__Expected Output:__\n",
    "```\n",
    "a: [0, 9, 4, 5, 2, 3, 1]\n",
    "b: [9, 0, 5, 4, 3, 2, 1]\n",
    "```\n",
    "\n",
    "__Sample Run 3:__\n",
    "```\n",
    "if __name__ == '__main__':\n",
    "    a = [0, 9, 4, 5, 2, 3, 1]\n",
    "    b = swap_two(a)\n",
    "    print(\"a:\", a)\n",
    "    print(\"b:\", b)\n",
    "```\n",
    "__Expected Output:__\n",
    "```\n",
    "a: [1, 2, 3, 4, 5]\n",
    "b: [2, 1, 4, 3, 3, 2, 1]\n",
    "```"
   ]
  },
  {
   "cell_type": "code",
   "execution_count": null,
   "metadata": {},
   "outputs": [],
   "source": [
    "# test 1\n",
    "def swap_two_inplace(a):\n",
    "    None"
   ]
  },
  {
   "cell_type": "code",
   "execution_count": null,
   "metadata": {},
   "outputs": [],
   "source": [
    "# test 2\n",
    "def swap_two(a):\n",
    "    None"
   ]
  },
  {
   "cell_type": "code",
   "execution_count": null,
   "metadata": {},
   "outputs": [],
   "source": [
    "# test 3\n",
    "def swap_two(a):\n",
    "    None"
   ]
  },
  {
   "cell_type": "markdown",
   "metadata": {},
   "source": [
    "## The largest element and its index\n",
    "\n",
    "With a given list of integers, the function `largest()` returns the value of the largest element and the index number. If the largest element is not unique, print the index of the first instance.\n",
    "\n",
    "__Hint__: You can solve this problem without using a loop if you use a method available for the list object as well as built-in functions in Python. \n",
    "\n",
    "__Sample Run:__\n",
    "```\n",
    "if __name__ == '__main__':\n",
    "    value, index = largest( [6, 9, 6, 23, 12, 19, 14, 26, 11] )\n",
    "    print(value, index)\n",
    "```\n",
    "\n",
    "__Explected Output:__\n",
    "```\n",
    "26 8\n",
    "```"
   ]
  },
  {
   "cell_type": "code",
   "execution_count": null,
   "metadata": {},
   "outputs": [],
   "source": [
    "a = [6, 9, 6, 23, 12, 19, 14, 26]\n",
    "\n",
    "None\n",
    "x_value = None\n",
    "x_index = None\n",
    "\n",
    "print(x_value, x_index)"
   ]
  },
  {
   "cell_type": "markdown",
   "metadata": {},
   "source": [
    "## Unique elements\n",
    "\n",
    "Given a list of integers, this function, `only_once(alist)`, returns a list with the elements that appear in the original list only once. The elements must be listed in the order in which they occur in the original list. Don't use `set`. \n",
    "\n",
    "\n",
    "__Sample Runs:__\n",
    "```\n",
    "a = [4, 3, 5, 2, 5, 1, 3, 5]\n",
    "print(only_once(a))\n",
    "[4, 2, 1]\n",
    "```\n",
    "```\n",
    "b = [6, 9, 6, 23, 12, 19, 14, 26]\n",
    "print(only_once(b))\n",
    "[9, 23, 12, 19, 14, 26]\n",
    "```\n",
    "\n",
    "__Hint:__ Use a method available for a list object. Remember that `obejct.<tab>` displays a list of methods available for that `object`."
   ]
  },
  {
   "cell_type": "code",
   "execution_count": null,
   "metadata": {},
   "outputs": [],
   "source": [
    "def only_once(alist):\n",
    "    b = None\n",
    "\n",
    "    return b"
   ]
  },
  {
   "cell_type": "code",
   "execution_count": null,
   "metadata": {},
   "outputs": [],
   "source": [
    "a = [4, 3, 5, 2, 5, 1, 3, 5]\n",
    "b = [6, 9, 6, 23, 12, 19, 14, 26]\n",
    "print(only_once(a))\n",
    "print(only_once(b))"
   ]
  },
  {
   "cell_type": "markdown",
   "metadata": {},
   "source": [
    "\n",
    "## new_stairs()*\n",
    "\n",
    "For a given positive integer N ≤ 9 print a stair of N steps. The k-th step consists of the integers from k to 1 without spaces between them. The result of new_stairs(8) produces the following:\n",
    "\n",
    "__Sample Run:__\n",
    "\n",
    "```\n",
    "[1]\n",
    "[1, 21]\n",
    "[1, 21, 321]\n",
    "[1, 21, 321, 4321]\n",
    "[1, 21, 321, 4321, 54321]\n",
    "[1, 21, 321, 4321, 54321, 654321]\n",
    "[1, 21, 321, 4321, 54321, 654321, 7654321]\n",
    "[1, 21, 321, 4321, 54321, 654321, 7654321, 87654321]\n",
    "```\n",
    "__Hints__: if your returns `stairs` at the end, it contains the last line of stairs.\n",
    "For new\n",
    "- Need two for-loops, one for range(N) and the other for range(?,0, -1) \n",
    "- At the end of two loops when stairs(8), `stairs[]` contains the follwoing:\n",
    "\n",
    "`[1, 21, 321, 4321, 54321, 654321, 7654321, 87654321]`\n",
    "\n"
   ]
  },
  {
   "cell_type": "code",
   "execution_count": null,
   "metadata": {},
   "outputs": [],
   "source": []
  },
  {
   "cell_type": "markdown",
   "metadata": {},
   "source": [
    "# 학습 정리\n",
    "\n",
    "1. 슬라이싱 문법   \n",
    "1. 다양한 리스트 메소드\n",
    "1. 리스트 작업 수행"
   ]
  },
  {
   "cell_type": "markdown",
   "metadata": {},
   "source": [
    "# 참고자료\n",
    "- [Python Lists](https://www.w3schools.com/python/python_lists.asp)"
   ]
  },
  {
   "cell_type": "markdown",
   "metadata": {},
   "source": [
    "--------\n",
    "__슬기로운 자는 재앙을 보면 숨어 피하여도 어리석은 자들은 나가다가 해를 받느니라.__\n",
    "잠언27:12"
   ]
  }
 ],
 "metadata": {
  "kernelspec": {
   "display_name": "Python 3 (ipykernel)",
   "language": "python",
   "name": "python3"
  },
  "language_info": {
   "codemirror_mode": {
    "name": "ipython",
    "version": 3
   },
   "file_extension": ".py",
   "mimetype": "text/x-python",
   "name": "python",
   "nbconvert_exporter": "python",
   "pygments_lexer": "ipython3",
   "version": "3.8.12"
  },
  "toc-autonumbering": true
 },
 "nbformat": 4,
 "nbformat_minor": 4
}
