{
 "cells": [
  {
   "cell_type": "markdown",
   "metadata": {},
   "source": [
    "사랑하는 자들아 우리가 서로 사랑하자 사랑은 하나님께 속한 것이니 사랑하는 자마다 하나님으로부터 나서 하나님을 알고\n",
    "사랑하지 아니하는 자는 하나님을 알지 못하나니 이는 하나님은 사랑이심이라 (요일4:7-8)\n",
    "\n",
    "-------\n",
    "\n",
    "<center><img src=\"https://github.com/idebtor/KMOOC-ML/blob/master/ipynb/images/joyai/pythonML.png?raw=true\" width=1000></center>\n",
    "\n",
    "__NOTE:__ The following materials have been compiled and adapted from the numerous sources including my own. Please help me to keep this tutorial up-to-date by reporting any issues or questions. Send any comments or criticisms to `idebtor@gmail.com` Your assistances and comments will be appreciated."
   ]
  },
  {
   "cell_type": "markdown",
   "metadata": {},
   "source": [
    "<b style=\"font-size:24px\">__Revisit Iteration__ </b>\n",
    "\n",
    "\n",
    "Iteration means executing the same block of code over and over, potentially many times. For example, the following code contains an iterative work of accumulating a series of addtions. It keeps on adding to sum from 1 to n, inclusively."
   ]
  },
  {
   "cell_type": "code",
   "execution_count": null,
   "metadata": {},
   "outputs": [],
   "source": [
    "# add a series of numbers from 1 to n.\n",
    "\n",
    "\n",
    "\n",
    "print('Sum from 1 to {} is {}'.format(n, sum))"
   ]
  },
  {
   "cell_type": "markdown",
   "metadata": {},
   "source": [
    "What would you do if you want to do the same kind of job but with a different number `n`? For example, what do we do if want to add numbers upto 20, 50, 200, or 5000. \n",
    "\n",
    "For example,\n",
    "```\n",
    "Sum from 1 to 10 is 55\n",
    "Sum from 1 to 50 is 1275\n",
    "Sum from 1 to 1000 is 500500\n",
    "```"
   ]
  },
  {
   "cell_type": "markdown",
   "metadata": {},
   "source": [
    "To satisfy this kind of needs, we introduce the function. "
   ]
  },
  {
   "cell_type": "markdown",
   "metadata": {},
   "source": [
    "---------\n",
    "\n",
    "# Function\n",
    "\n",
    "__학습 목표__   \n",
    "- 함수에 대해 이해한다. \n",
    "- 함수를 적절히 사용하여 문제를 해결할 수 있다.  \n",
    "\n",
    "__학습 내용__\n",
    "1. 함수 생성하기\n",
    "1. arguments 이해하기\n",
    "1. Return Values 이해하기   \n",
    "1. Default 파라미터 이해하기\n",
    "1. 익명함수(Lambda) 사용하기"
   ]
  },
  {
   "cell_type": "markdown",
   "metadata": {},
   "source": [
    "- A function is a block of code which only runs when it is called. \n",
    "- You can pass data, known as parameters, into a function.\n",
    "- A function can return data as a result."
   ]
  },
  {
   "cell_type": "markdown",
   "metadata": {},
   "source": [
    "## Creating a function\n",
    "\n",
    "\n",
    "__Syntax of Function__\n",
    "```\n",
    "def function_name(parameters):\n",
    "\t\"\"\"docstring\"\"\"\n",
    "\tstatement(s)\n",
    "```\n",
    "\n",
    "### For example:\n",
    "\n",
    "Define a function called `greet_hello()` that prints `Hello from a function`"
   ]
  },
  {
   "cell_type": "code",
   "execution_count": null,
   "metadata": {},
   "outputs": [],
   "source": []
  },
  {
   "cell_type": "markdown",
   "metadata": {},
   "source": [
    "## Calling a function \n",
    "\n",
    "To call a function, use the function name followed by parenthesis:\n",
    "\n",
    "### For example:\n",
    "\n",
    "Invoke `greet_hello()` defined above:"
   ]
  },
  {
   "cell_type": "code",
   "execution_count": null,
   "metadata": {},
   "outputs": [],
   "source": []
  },
  {
   "cell_type": "markdown",
   "metadata": {},
   "source": [
    "## Passing information as arguments  \n",
    "\n",
    "- Information can be passed into functions as arguments.\n",
    "\n",
    "- Arguments are specified after the function name, inside the parentheses. You can add as many arguments as you want, just separate them with a comma.\n",
    "\n",
    "- The following example has a function with one argument (fname). When the function is called, we pass along a first name, which is used inside the function to print the full name:\n",
    "\n",
    "### For example:\n",
    "\n",
    "Define `greet_hello()` that takes two objects, `fname`, and `lname`, as arguments. Then it prints two arguments with `Hello` in front."
   ]
  },
  {
   "cell_type": "code",
   "execution_count": null,
   "metadata": {},
   "outputs": [],
   "source": []
  },
  {
   "cell_type": "code",
   "execution_count": null,
   "metadata": {},
   "outputs": [],
   "source": [
    "greet_hello('Joe', 'Blow')\n",
    "greet_hello('Joe', 'Adam')\n",
    "greet_hello('King', 'David')"
   ]
  },
  {
   "cell_type": "markdown",
   "metadata": {},
   "source": [
    "### For example:\n",
    "\n",
    "Define a function called `sum_n_print()` that adds upto an argument `n` and prints its result as shown below:\n",
    "\n",
    "```\n",
    "sum_n_print(10)\n",
    "sum_n_print(50)\n",
    "sum_n_print(1000)\n",
    "\n",
    "Sum from 1 to 10 is 55\n",
    "Sum from 1 to 50 is 1275\n",
    "Sum from 1 to 1000 is 500500\n",
    "```"
   ]
  },
  {
   "cell_type": "code",
   "execution_count": null,
   "metadata": {},
   "outputs": [],
   "source": [
    "def sum_n_print(n):\n",
    "    None\n"
   ]
  },
  {
   "cell_type": "code",
   "execution_count": null,
   "metadata": {},
   "outputs": [],
   "source": [
    "sum_n_print(10)\n",
    "sum_n_print(50)\n",
    "sum_n_print(1000)"
   ]
  },
  {
   "cell_type": "markdown",
   "metadata": {},
   "source": [
    "## Arbitrary arguments\n",
    "\n",
    "- If you do not know how many arguments that will be passed into your function, add an `*` before the parameter name in the function definition.\n",
    "\n",
    "- This way the function will receive __a tuple of arguments__, and can access the items accordingly:"
   ]
  },
  {
   "cell_type": "markdown",
   "metadata": {},
   "source": [
    "### For example: \n",
    "\n",
    "Define `greet_hello()`such that it takes any number of arguments and prints `Hello ` with those names.\n",
    "\n",
    "__Sample run:__\n",
    "```\n",
    "greet_hello('Joe', 'Blow', 'David', 'Stones')\n",
    "```\n",
    "__Output:__\n",
    "```\n",
    "Hello Joe\n",
    "Hello Blow\n",
    "Hello David\n",
    "Hello Stones\n",
    "```"
   ]
  },
  {
   "cell_type": "code",
   "execution_count": null,
   "metadata": {},
   "outputs": [],
   "source": [
    "def greet_hello(None):\n",
    "    None"
   ]
  },
  {
   "cell_type": "code",
   "execution_count": null,
   "metadata": {},
   "outputs": [],
   "source": [
    "greet_hello('Joe', 'Blow', 'David', 'Stones')"
   ]
  },
  {
   "cell_type": "markdown",
   "metadata": {},
   "source": [
    "## Keyword arguments\n",
    "- You can also send arguments with the key = value syntax.\n",
    "- This way the order of the arguments does not matter.\n",
    "\n",
    "### For example: \n",
    "Define a function that uses three keyword arguments as shown below:\n",
    "\n",
    "__Sample run:__\n",
    "```\n",
    "greet_hello(child = 'David', father = 'Joe', mother = 'Jane')\n",
    "```\n",
    "__Output:__\n",
    "```\n",
    "The youngest person is David\n",
    "```"
   ]
  },
  {
   "cell_type": "code",
   "execution_count": null,
   "metadata": {},
   "outputs": [],
   "source": [
    "def greet_hello(None):\n",
    "    print('The youngest person is', None)"
   ]
  },
  {
   "cell_type": "code",
   "execution_count": null,
   "metadata": {},
   "outputs": [],
   "source": [
    "greet_hello(child = 'David', father = 'Joe', mother = 'Jane')"
   ]
  },
  {
   "cell_type": "markdown",
   "metadata": {},
   "source": [
    "## Arbitrary keyword arguments \n",
    "- If you do not know how many keyword arguments that will be passed into your function, add two asterisk: `** ` before the parameter name in the function definition.\n",
    "\n",
    "- This way the function will receive a dictionary of arguments, and can access the items accordingly:"
   ]
  },
  {
   "cell_type": "markdown",
   "metadata": {},
   "source": [
    "### For example: \n",
    "\n",
    "__Sample run__:\n",
    "```\n",
    "greet_hello(father = 'Joe', mother = 'Jane', child = 'David')\n",
    "```\n",
    "__Output:__\n",
    "```\n",
    "The youngest person is David\n",
    "The lovely person is Jane\n",
    "The respectful person is Joe\n",
    "```"
   ]
  },
  {
   "cell_type": "code",
   "execution_count": null,
   "metadata": {},
   "outputs": [],
   "source": [
    "def greet_hello(None):\n",
    "    print('The youngest person is', None)\n",
    "    print('The lovely person is', None)\n",
    "    print('The respectful person is', None)"
   ]
  },
  {
   "cell_type": "code",
   "execution_count": null,
   "metadata": {},
   "outputs": [],
   "source": [
    "greet_hello(father = 'Joe', mother = 'Jane', child = 'David')"
   ]
  },
  {
   "cell_type": "markdown",
   "metadata": {},
   "source": [
    "## Default Parameter Value\n",
    "- The following example shows how to use a default parameter value.\n",
    "- If we call the function without argument, it uses the default value:\n",
    "\n",
    "### For example: \n",
    "\n",
    "Define `greet_hello()` such that it take a default parameter value `Korea`.\n",
    "\n",
    "__Sample run:__\n",
    "```\n",
    "greet_hello('England')\n",
    "greet_hello()\n",
    "greet_hello('Heaven')\n",
    "```\n",
    "__Output:__\n",
    "```\n",
    "Are you from England?\n",
    "Are you from Korea?\n",
    "Are you from Heaven?\n",
    "```"
   ]
  },
  {
   "cell_type": "code",
   "execution_count": null,
   "metadata": {},
   "outputs": [],
   "source": [
    "def greet_hello(None):\n",
    "    print('Are you from ' + country + '?')"
   ]
  },
  {
   "cell_type": "code",
   "execution_count": null,
   "metadata": {},
   "outputs": [],
   "source": [
    "greet_hello('England')\n",
    "greet_hello()\n",
    "greet_hello('Heaven')"
   ]
  },
  {
   "cell_type": "markdown",
   "metadata": {},
   "source": [
    "## Passing a list as an argument\n",
    "- You can send any data types of argument to a function (string, number, list, dictionary etc.), and it will be treated as the same data type inside the function.\n",
    "- E.g. if you send a List as an argument, it will still be a List when it reaches the function:\n",
    "\n",
    "### For example: \n",
    "Define a function my_favorites() that takes a list and print elements in it.\n",
    "\n",
    "__Sample run:__\n",
    "```\n",
    "my_stuff = [\"apple\", \"banana\", 100, 200, \"Genesis\", \"John\" ]\n",
    "my_favorites(my_stuff)\n",
    "```\n",
    "__Output:__\n",
    "```\n",
    "apple banana 100 200 Genesis John \n",
    "```"
   ]
  },
  {
   "cell_type": "code",
   "execution_count": null,
   "metadata": {},
   "outputs": [],
   "source": [
    "def my_favorites(items):\n",
    "    None"
   ]
  },
  {
   "cell_type": "code",
   "execution_count": null,
   "metadata": {},
   "outputs": [],
   "source": [
    "my_stuff = [\"apple\", \"banana\", 100, 200, 'Genesis', 'John']\n",
    "my_favorites(my_stuff)"
   ]
  },
  {
   "cell_type": "markdown",
   "metadata": {},
   "source": [
    "## Return Values\n",
    "To let a function return a value, use the return statement:\n",
    "\n",
    "### For example:\n",
    "Define a function `my_favorites` which takes a list and returns the first and last elements in it. Add a code to be able to handle an empty list gracefully.\n",
    "\n",
    "__Sample run 1:__\n",
    "```\n",
    "first, last = my_favorites([\"apple\", \"banana\", \"Romans\", \"Genesis\"])\n",
    "print(first, last)\n",
    "```\n",
    "__Output:__\n",
    "```\n",
    "apple Genesis\n",
    "```\n",
    "__Sample run 2:__\n",
    "```\n",
    "first, last = my_favorites([])\n",
    "print(first, last)\n",
    "```\n",
    "__Output:__\n",
    "```\n",
    "None, None\n",
    "```"
   ]
  },
  {
   "cell_type": "code",
   "execution_count": null,
   "metadata": {},
   "outputs": [],
   "source": [
    "def my_favorites(items):\n",
    "    \n",
    "    return None, None"
   ]
  },
  {
   "cell_type": "code",
   "execution_count": null,
   "metadata": {},
   "outputs": [],
   "source": [
    "first, last = my_favorites([\"apple\", \"banana\", \"Romans\", \"Genesis\"])\n",
    "print(first, last)"
   ]
  },
  {
   "cell_type": "markdown",
   "metadata": {},
   "source": [
    "# More Examples"
   ]
  },
  {
   "cell_type": "markdown",
   "metadata": {},
   "source": [
    "## Example 1: sum_to_n(n)\n",
    "\n",
    "- Generalize this capability of summing up to `n`. In other words, write a function, `sum_to_n(n)`, such that it returns 55 when `sum_to_n(10)` is invoked. \n",
    "- Complete the following code cells to sum the integers from `1` to `n` inclusively. \n",
    "\n",
    "```\n",
    "Sum from 1 to 10 is 55\n",
    "Sum from 1 to 100 is 5050\n",
    "Sum from 1 to 1000 is 500500\n",
    "Sum from 1 to 10000 is 50005000\n",
    "```"
   ]
  },
  {
   "cell_type": "code",
   "execution_count": null,
   "metadata": {},
   "outputs": [],
   "source": [
    "# function to sum upto n inclusively.\n",
    "def sum_to_n(n):\n",
    "    None"
   ]
  },
  {
   "cell_type": "code",
   "execution_count": null,
   "metadata": {},
   "outputs": [],
   "source": [
    "# For testing\n",
    "for n in None:\n",
    "    print('Sum from 1 to {} is {}'.format(n, sum_to_n(n)))"
   ]
  },
  {
   "cell_type": "markdown",
   "metadata": {},
   "source": [
    "Pay attention that maximum value in `range()` is `n + 1` to make `i` equal to `N` on the last step.\n",
    "\n",
    "To iterate over a decreasing sequence, we can use an extended form of `range()` with three arguments - `range(start, end, step)`. When omitted, the `step` is implicitly equal to `1`. However, can be any non-zero value. The loop always includes `start` and excludes `end` during iteration:"
   ]
  },
  {
   "cell_type": "markdown",
   "metadata": {},
   "source": [
    "## Example 2: count_alpha()\n",
    "Write a function `count_alpha()` which takes a string and returns two values or counts of lowercase and uppercase alphabets in the string, respectively. \n",
    "\n",
    "Use two `string` class methods, `islower()` and `isupper()` to distinguish the cases. \n",
    "\n",
    "__Sample run:__\n",
    "```\n",
    "lower, upper = count_alpha(\"Hello World!\")\n",
    "print(lower)\n",
    "print(upper)\n",
    "```\n",
    "__Output:__\n",
    "```\n",
    "8\n",
    "2\n",
    "```"
   ]
  },
  {
   "cell_type": "code",
   "execution_count": null,
   "metadata": {},
   "outputs": [],
   "source": [
    "def count_alpha(str):\n",
    "    None\n",
    "    return lower, upper"
   ]
  },
  {
   "cell_type": "code",
   "execution_count": null,
   "metadata": {},
   "outputs": [],
   "source": [
    "lower, upper = count_alpha(\"Hello World!\")\n",
    "print(lower)\n",
    "print(upper)"
   ]
  },
  {
   "cell_type": "markdown",
   "metadata": {},
   "source": [
    "## Example 3: [Caesar Cypher](https://en.wikipedia.org/wiki/Caesar_cipher) \n",
    "\n",
    "카이사르 암호(Caesar cipher) 또는 시저 암호는 암호학에서 다루는 간단한 치환암호의 일종이다. 실제로 로마의 황제 카이사르는 이 카이사르 암호를 사용하기도 했다. 카이사르 암호는 암호화하고자 하는 내용을 알파벳별로 일정한 거리만큼 밀어서 다른 알파벳으로 치환하는 방식이다. 예를 들어 3글자씩 밀어내는 카이사르 암호로 'COME TO ROME'을 암호화하면 'FRPH WR URPH'가 된다. 여기서 밀어내는 글자 수는 암호를 보내는 사람과 함께 정해 더 어려운 암호를 만들 수 있다. 이런 카이사르 암호는 순환암호라고 한다. 카이사르는 'RUSQHUVKBVEHQIIQIYDQJEH' 라는 암호를 받았다. 해독하면 BECAREFULFORASSASINATOR, 암살자를 조심하라는 뜻이된다. 카이사르는 이 암호를 해독하지 못해 암살자에게 암살당하고 말았다..\n",
    "\n",
    "\n",
    "카이사르 암호는 약 기원전 100년경에 만들어져 로마의 장군인 카이사르가 동맹군들과 소통하기 위해 만든 암호이다\n",
    "\n",
    "카이사르 암호는 단순하고 간단하여 일반인도 쉽게 사용할 수 있지만, 철자의 빈도와 자주 사용되는 단어와 형태를 이용하면 쉽게 풀 수 있다는 단점이 있다.\n",
    "\n"
   ]
  },
  {
   "cell_type": "markdown",
   "metadata": {},
   "source": [
    "<center><img width=\"400\" alt=\"Caesar3\" src=\"https://upload.wikimedia.org/wikipedia/commons/thumb/2/2b/Caesar3.svg/512px-Caesar3.svg.png\"></center>"
   ]
  },
  {
   "cell_type": "markdown",
   "metadata": {},
   "source": [
    "### Step 1:\n",
    "\n",
    "Write a function, `next_alpha(ch, n)` which takes an ascii character `ch` and an int `n`. Then the function returns a character at some fixed positions `n` from the current letter `ch`in the alphabet.  "
   ]
  },
  {
   "cell_type": "markdown",
   "metadata": {},
   "source": [
    "__Sample run:__\n",
    "```\n",
    "for ch in \"Hello World! zzz\":\n",
    "    print(next_alpha(ch, 1), end=' ')\n",
    "```\n",
    "__Output:__\n",
    "```\n",
    "I f m m p   X p s m e !   a a a \n",
    "```\n",
    "    "
   ]
  },
  {
   "cell_type": "markdown",
   "metadata": {},
   "source": [
    "__Hint:__ Use two constant strings `ascii_lowercase` and `ascii_uppercase` which are defined in `string` module.\n",
    "    \n",
    "__Note:__ This coding is YET to be continued in the following homework. Some bugs are left intentionally."
   ]
  },
  {
   "cell_type": "code",
   "execution_count": null,
   "metadata": {},
   "outputs": [],
   "source": [
    "import string\n",
    "lower = string.ascii_lowercase\n",
    "upper = string.ascii_uppercase\n",
    "\n",
    "print(lower)\n",
    "print(upper)"
   ]
  },
  {
   "cell_type": "code",
   "execution_count": null,
   "metadata": {},
   "outputs": [],
   "source": [
    "def next_alpha(ch, n):\n",
    "    if len(ch) != 1:\n",
    "        return ch\n",
    "    if ch.islower():\n",
    "        None\n",
    "    elif ch.isupper():\n",
    "        None\n",
    "    return ch  "
   ]
  },
  {
   "cell_type": "code",
   "execution_count": null,
   "metadata": {},
   "outputs": [],
   "source": [
    "for ch in \"Hello World!\":\n",
    "    print(next_alpha(ch, 1), end=' ')"
   ]
  },
  {
   "cell_type": "code",
   "execution_count": null,
   "metadata": {},
   "outputs": [],
   "source": [
    "for ch in \"Hello World! zzz\":\n",
    "    print(next_alpha(ch, 1), end=' ')"
   ]
  },
  {
   "cell_type": "markdown",
   "metadata": {},
   "source": [
    "# Lambda function 익명함수\n",
    "\n",
    "한번 사용하고 다시 사용하지 않는 간단한 함수는 __익명함수__ ( __lambda함수__ )로 만들 수 있습니다. 람다함수는 함수이름이 없으며, `return`을 사용하지 않고 자동으로 결과를 반환할 수 있습니다. 아래 그림을 참조하십시오. \n",
    "\n",
    "<center><img src=\"https://github.com/idebtor/KMOOC-ML/blob/master/ipynb/images/joyai/dict-lambda.png?raw=true\" width=500></center>"
   ]
  },
  {
   "cell_type": "markdown",
   "metadata": {},
   "source": [
    "예를 들면, x를 인자로 받아 5를 더해서 반환하는 이름없는 lambda함수는 다음과 같이 정의할 수 있습니다. \n",
    "```\n",
    "lambda x: x + 5 \n",
    "```\n",
    "람다함수는 정의하면서 동시에 사용할 수 있으며, 아래와 같이 람다 함수에 3을 입력한 것이고 8이 출력됩니다. \n",
    "```\n",
    "(lambda x: x + 5)(3)\n",
    "8\n",
    "``` \n",
    "\n",
    "람다함수도 객체이기 때문에 정의와 동시에 변수에 저장할 수 있습니다. 다시 사용할 수 있습니다.  \n",
    "```\n",
    "func = lambda x: x + 5 \n",
    "func(3)\n",
    "8\n",
    "```"
   ]
  },
  {
   "cell_type": "markdown",
   "metadata": {},
   "source": [
    "정리하면, 람다 함수는 다음과 같은 특징이 있습니다. \n",
    "- 람다는 단일 표현식만 허용한다.\n",
    "- `if`, `while` 같은 문장은 허용하지 않는다.\n",
    "- `sort()`와 같은 함수와 함께 사용하는 것이 일반적인 용도이다. "
   ]
  },
  {
   "cell_type": "markdown",
   "metadata": {},
   "source": [
    "## Example:\n",
    "주어진 리스트를 다음과 같은 조건으로 정렬하싮시오. \n",
    "\n",
    "1. 알파벳 순으로 정렬하십시오. \n",
    "2. 문자열의 길이에 따라 정렬하십시오. 힌트: lambda함수와 len()을 사용하십시오. "
   ]
  },
  {
   "cell_type": "markdown",
   "metadata": {},
   "source": [
    "다음 sort()함수를 참조하거나 help(str)를 실행하여 참조하십시오. \n",
    "```\n",
    " |  sort(self, /, *, key=None, reverse=False)\n",
    " |      Sort the list in ascending order and return None.\n",
    " |      \n",
    " |      The sort is in-place (i.e. the list itself is modified) and stable (i.e. the\n",
    " |      order of two equal elements is maintained).\n",
    " |      \n",
    " |      If a key function is given, apply it once to each list item and sort them,\n",
    " |      ascending or descending, according to their function values.\n",
    " |      \n",
    " |      The reverse flag can be set to sort in descending order.\n",
    "```\n",
    "__Sample Run:__  by alphabetical order\n",
    "```\n",
    "items = ['faith', 'abba', 'sin', 'zzzz', 'foo']\n",
    "['abba', 'faith', 'foo', 'sin', 'zzzz']\n",
    "```"
   ]
  },
  {
   "cell_type": "code",
   "execution_count": 17,
   "metadata": {},
   "outputs": [
    {
     "data": {
      "text/plain": [
       "['abba', 'faith', 'foo', 'sin', 'zzzz']"
      ]
     },
     "execution_count": 17,
     "metadata": {},
     "output_type": "execute_result"
    }
   ],
   "source": [
    "items = ['faith', 'abba', 'sin', 'zzzz', 'foo']\n",
    "items.sort()\n",
    "items"
   ]
  },
  {
   "cell_type": "markdown",
   "metadata": {},
   "source": [
    "__Sample Run:__ by length\n",
    "\n",
    "```\n",
    "items = ['faith', 'abba', 'sin', 'zzzz', 'foo']\n",
    "['foo', 'sin', 'abba', 'zzzz', 'faith']\n",
    "```"
   ]
  },
  {
   "cell_type": "markdown",
   "metadata": {},
   "source": [
    "# Exercise\n",
    "\n",
    "## Teen Age \n",
    "\n",
    "- Write a function, `is_teen(age)`, which returns if `age` is a teen age.\n",
    "- Write a code to test `is_teen()` while calling it from `age = 9` to `age = 21`.\n",
    "- Print the result as shown below:\n",
    "\n",
    "```\n",
    "The age 9 is not a teen\n",
    "The age 10 is not a teen\n",
    "The age 11 is not a teen\n",
    "The age 12 is not a teen\n",
    "The age 13 is a teen\n",
    "The age 14 is a teen\n",
    "The age 15 is a teen\n",
    "The age 16 is a teen\n",
    "The age 17 is a teen\n",
    "The age 18 is a teen\n",
    "The age 19 is a teen\n",
    "The age 20 is not a teen\n",
    "The age 21 is not a teen\n",
    "```\n",
    "\n",
    "### Step 1: \n",
    "Code is_teean(age) function first"
   ]
  },
  {
   "cell_type": "code",
   "execution_count": null,
   "metadata": {},
   "outputs": [],
   "source": [
    "# Replace `None` with the logic expression you developed above.\n",
    "def is_teen(age):\n",
    "    return None"
   ]
  },
  {
   "cell_type": "markdown",
   "metadata": {},
   "source": [
    "### Step 2: \n",
    "Write a test code to produce the output shown above.\n",
    "\n",
    "__Method 1:__ Using a list of ages "
   ]
  },
  {
   "cell_type": "code",
   "execution_count": null,
   "metadata": {},
   "outputs": [],
   "source": [
    "# test is_teen() \n",
    "for age in None\n",
    "    None"
   ]
  },
  {
   "cell_type": "markdown",
   "metadata": {},
   "source": [
    "__Method 2:__ Using `range()` "
   ]
  },
  {
   "cell_type": "code",
   "execution_count": null,
   "metadata": {},
   "outputs": [],
   "source": [
    "for age in None\n",
    "    None"
   ]
  },
  {
   "cell_type": "markdown",
   "metadata": {},
   "source": [
    "## Leap Year \n",
    "\n",
    "A leap year is exactly divisible by 4 except for century years (years ending with 00). The century year is a leap year only if it is perfectly divisible by 400. For example,\n",
    "\n",
    "```\n",
    "2017 is not a leap year\n",
    "1900 is a not leap year\n",
    "2012 is a leap year\n",
    "2000 is a leap year\n",
    "```\n",
    "\n",
    "To test a leap year interactively, you may code it as shwon below:"
   ]
  },
  {
   "cell_type": "code",
   "execution_count": null,
   "metadata": {},
   "outputs": [],
   "source": [
    "# Python program to check if the input year is a leap year or not\n",
    "year = int(input(\"Enter a year: \"))\n",
    "if (year % 4) == 0:\n",
    "    if (year % 100) == 0:\n",
    "        if (year % 400) == 0:\n",
    "            print(\"{0} is a leap year\".format(year))\n",
    "        else:\n",
    "            print(\"{0} is not a leap year\".format(year))\n",
    "    else:\n",
    "        print(\"{0} is a leap year\".format(year))\n",
    "else:\n",
    "    print(\"{0} is not a leap year\".format(year))"
   ]
  },
  {
   "cell_type": "markdown",
   "metadata": {},
   "source": [
    "### Step 1: \n",
    "Coding `is_leap_year()` function:\n",
    "Now, complete the following `is_leap_year()` function that returns `True` if `year` is a leap year, `False` otherwise. "
   ]
  },
  {
   "cell_type": "code",
   "execution_count": null,
   "metadata": {},
   "outputs": [],
   "source": [
    "def leap_year(year):\n",
    "    return None"
   ]
  },
  {
   "cell_type": "markdown",
   "metadata": {},
   "source": [
    "### Step 2: \n",
    "Coding to test `is_leap_year()` to have the following output shown below:\n",
    "```\n",
    "100 No, it is not.\n",
    "200 No, it is not.\n",
    "1990 No, it is not.\n",
    "2000 Yes, it is a leap year\n",
    "2002 No, it is not.\n",
    "2004 Yes, it is a leap year\n",
    "2010 No, it is not.\n",
    "2100 No, it is not.\n",
    "```"
   ]
  },
  {
   "cell_type": "code",
   "execution_count": null,
   "metadata": {},
   "outputs": [],
   "source": [
    "# test leap_year()\n",
    "for year in None:\n",
    "    None\n",
    "        "
   ]
  },
  {
   "cell_type": "markdown",
   "metadata": {},
   "source": [
    "## Acronym \n",
    "\n",
    "An __acronym__ is a word formed by taking the first letters of the words in a phrase and then making a word from them.  For example, RAM is an acronym for random access memory.  Write a function `acronym()` that takes a phrase (i.e., a string) as input and then returns the acronym for that phrase.  Note: The acronym should be all uppercase, even if the words in the phrase are not capitalized. \n",
    "\n",
    "__Sample Run:__\n",
    "```\n",
    "print(acronym('Graphics processing unit'))  \n",
    "print(acronym('handong global university'))\n",
    "print(acronym('United Nations'))\n",
    "print(acronym('Random Access Memory'))\n",
    "GPU\n",
    "HGU\n",
    "UN\n",
    "RAM\n",
    "```\n",
    "\n",
    "__Solution:__\n",
    "In this problem we iterate over the words of the phrase `s` and accumulate the first letter in every word. So we need to break the phrase into a list of words using the string `split()` method and then iterate over the words in this list.  We will add the first letter of every word to the accumulator string `ans`. "
   ]
  },
  {
   "cell_type": "code",
   "execution_count": 1,
   "metadata": {},
   "outputs": [
    {
     "name": "stdout",
     "output_type": "stream",
     "text": [
      "GPU\n",
      "HGU\n",
      "UN\n",
      "RAM\n"
     ]
    }
   ],
   "source": [
    "def acronym(s):\n",
    "    pass\n",
    "\n",
    "if __name__ == '__main__':\n",
    "    print(acronym('Graphics processing unit'))  \n",
    "    print(acronym('handong global university'))\n",
    "    print(acronym('United Nations'))\n",
    "    print(acronym('Random Access Memory'))"
   ]
  },
  {
   "cell_type": "markdown",
   "metadata": {},
   "source": [
    "## Caesar Cypher\n",
    "\n",
    "Write a function, `next_alpha(ch, n)` which takes an ascii character `ch` and an int `n`. Then the function returns a character at some fixed positions `n` from the current letter `ch`in the alphabet.  "
   ]
  },
  {
   "cell_type": "markdown",
   "metadata": {},
   "source": [
    "<center><img width=\"400\" alt=\"Caesar3\" src=\"https://upload.wikimedia.org/wikipedia/commons/thumb/2/2b/Caesar3.svg/512px-Caesar3.svg.png\"></center>"
   ]
  },
  {
   "cell_type": "markdown",
   "metadata": {},
   "source": [
    "### Step 1:  \n",
    "\n",
    "Fix the following code such that it works with the following cases:\n",
    "__Hint:__ Use two constant strings `ascii_lowercase` and `ascii_uppercase` which are defined in `string` module.\n",
    "\n",
    "__Hint:__ Perform a modulo operation (%) to prevent the index from exceeding the length of alphabet."
   ]
  },
  {
   "cell_type": "markdown",
   "metadata": {},
   "source": [
    "__Sample run 1:__\n",
    "```\n",
    "for ch in \"Hello World! zzz\":\n",
    "    print(next_alpha(ch, 1), end=' ')\n",
    "```\n",
    "__Output:__\n",
    "```\n",
    "I f m m p   X p s m e !   a a a \n",
    "```\n",
    "\n",
    "__Sample run 2:__\n",
    "```\n",
    "for ch in \"aaa BBB ccc Hello World! XXX yyy zzz\":\n",
    "    print(next_alpha(ch, 3), end=' ')\n",
    "```\n",
    "__Output:__\n",
    "```\n",
    "d d d   E E E   f f f   K h o o r   Z r u o g !   A A A   b b b   c c c \n",
    "```"
   ]
  },
  {
   "cell_type": "code",
   "execution_count": null,
   "metadata": {},
   "outputs": [],
   "source": [
    "import string\n",
    "lower = string.ascii_lowercase\n",
    "upper = string.ascii_uppercase\n",
    "\n",
    "def next_alpha(ch, n):\n",
    "    if len(ch) != 1:\n",
    "        return ch\n",
    "    if ch.islower():\n",
    "        idx = lower.find(ch)\n",
    "        return lower[None]\n",
    "    elif ch.isupper():\n",
    "        idx = upper.find(ch)\n",
    "        return upper[None]\n",
    "    return ch"
   ]
  },
  {
   "cell_type": "code",
   "execution_count": null,
   "metadata": {},
   "outputs": [],
   "source": [
    "for ch in \"Hello World! zzz\":\n",
    "    print(next_alpha(ch, 1), end=' ')"
   ]
  },
  {
   "cell_type": "code",
   "execution_count": null,
   "metadata": {},
   "outputs": [],
   "source": [
    "for ch in \"aaa BBB ccc Hello World! XXX yyy zzz\":\n",
    "    print(next_alpha(ch, 3), end=' ')"
   ]
  },
  {
   "cell_type": "markdown",
   "metadata": {},
   "source": [
    "### Step 2:  \n",
    "\n",
    "Write a Caesar cypher function that encoded by shifting n to the right in alphabet.\n",
    "\n",
    "__Sample run 1:__\n",
    "```\n",
    "encoded = cypher(\"aaa Hello World! zzz\", 2)\n",
    "print(encoded)\n",
    "```\n",
    "__Output:__\n",
    "```\n",
    "ccc Jgnnq Yqtnf! bbb\n",
    "```\n",
    "\n",
    "__Sample run 2:__\n",
    "```\n",
    "encoded = cypher(\"aaa Hello World! zzz\", 3)\n",
    "print(encoded)\n",
    "```\n",
    "__Output:__\n",
    "```\n",
    "ddd Khoor Zruog! ccc\n",
    "```"
   ]
  },
  {
   "cell_type": "code",
   "execution_count": null,
   "metadata": {},
   "outputs": [],
   "source": [
    "def cypher(str, n): \n",
    "    None\n",
    "    return None"
   ]
  },
  {
   "cell_type": "code",
   "execution_count": null,
   "metadata": {},
   "outputs": [],
   "source": [
    "encoded = cypher(\"aaa Hello World! zzz\", 2)\n",
    "print(encoded)"
   ]
  },
  {
   "cell_type": "code",
   "execution_count": null,
   "metadata": {},
   "outputs": [],
   "source": [
    "encoded = cypher(\"aaa Hello World! zzz\", 3)\n",
    "print(encoded)"
   ]
  },
  {
   "cell_type": "markdown",
   "metadata": {},
   "source": [
    "### Step 3: Decypher\n",
    "\n",
    "<center><img src=\"https://upload.wikimedia.org/wikipedia/commons/thumb/4/4a/Caesar_cipher_left_shift_of_3.svg/1200px-Caesar_cipher_left_shift_of_3.svg.png\" width=400 alt=\"Caesar cipher left shift of 3.svg\"></center>\n",
    "\n",
    "Modify cypher() to have a default optional argument `coded = False`. The function works as `cypher` function as usual, but it works as `decypher` function if `coded = True`. \n",
    "\n",
    "__Sample run:__\n",
    "```\n",
    "hello = \"aaa Hello World! zzz\"\n",
    "print(hello)\n",
    "encoded = cypher(hello, 2)\n",
    "print(encoded)\n",
    "decoded = cypher(encoded, 2, coded = True)\n",
    "print(decoded)\n",
    "```\n",
    "\n",
    "__Output:__\n",
    "```\n",
    "aaa Hello World! zzz\n",
    "ccc Jgnnq Yqtnf! bbb\n",
    "aaa Hello World! zzz\n",
    "```"
   ]
  },
  {
   "cell_type": "code",
   "execution_count": null,
   "metadata": {},
   "outputs": [],
   "source": [
    "def cypher(None): \n",
    "    None\n",
    "    return None"
   ]
  },
  {
   "cell_type": "code",
   "execution_count": null,
   "metadata": {},
   "outputs": [],
   "source": [
    "hello = \"aaa Hello World! zzz\"\n",
    "print(hello)\n",
    "encoded = cypher(hello, 2)\n",
    "print(encoded)\n",
    "decoded = cypher(encoded, 2, coded = True)\n",
    "print(decoded)"
   ]
  },
  {
   "cell_type": "markdown",
   "metadata": {},
   "source": [
    "## Factorial \n",
    "\n",
    "Implement function `factorial()` that takes as input a nonnegative integer and returns its factorial.  The __factorial__ of a nonnengative integer `n`, denoted $n!$, is define in this way:\n",
    "\n",
    "\n",
    "\\begin{equation}\n",
    "  \\ n! =\\begin{cases}\n",
    "   \\ 1 & \\text{if $ n = 0 $} \\\\\n",
    "      n \\times (n-1) \\times (n-2) \\times ... \\times 2 \\times 1 & \\text{if $ n > 0 $} \\ \\tag{1} \\\\\n",
    "  \\end{cases} \n",
    "\\end{equation}\n",
    "\n",
    "So, $0! = 1$`, $3! = 6$, and $5! = 120$. \n",
    "\n",
    "__Sample Run:__\n",
    "```\n",
    "print(factorial(0))\n",
    "print(factorial(3))\n",
    "print(factorial(5))\n",
    "1\n",
    "6\n",
    "120\n",
    "```\n",
    "\n",
    "__Solution:__   \n",
    "\n",
    "We need to multiply (accumulate) integer $1, 2, 3, ..., n$.  The accumulator `ans` is initialized to 1, the identity for multiplication.  Then we iterate over sequence $2, 3, 4, ..., n$ and multiply `ans` by each number in the sequence:\n"
   ]
  },
  {
   "cell_type": "code",
   "execution_count": 5,
   "metadata": {},
   "outputs": [
    {
     "name": "stdout",
     "output_type": "stream",
     "text": [
      "1\n",
      "1\n",
      "6\n",
      "120\n"
     ]
    }
   ],
   "source": [
    "def factorial(n):\n",
    "    pass\n",
    "\n",
    "if __name__ == '__main__':\n",
    "    print(factorial(0))  \n",
    "    print(factorial(1))\n",
    "    print(factorial(3))\n",
    "    print(factorial(5))"
   ]
  },
  {
   "cell_type": "markdown",
   "metadata": {},
   "source": [
    "## Euler's number $e$\n",
    "\n",
    "The number e, known as Euler's number, is a mathematical constant approximately equal to 2.71828. Euler's number (e) play's a crucial role in mathematics. It represents the basis of the exponential functions and logarithms.\n",
    "\n",
    "It is known that the precise value of $e$ is equal to this infite sum:\n",
    "\n",
    "\\begin{equation}\n",
    "\\frac{1}{0!} + \\frac{1}{1!} + \\frac{1}{2!} + \\frac{1}{3!} + \\frac{1}{4!} + \\frac{1}{5!} + ... \n",
    "\\end{equation}"
   ]
  },
  {
   "cell_type": "markdown",
   "metadata": {},
   "source": [
    "An infinite sum is impossible to compute.  We can get an approximation of $e$ by computing the sum of the first few terms in the infinite sum. \n",
    "\n",
    "For example, $e_0 = \\frac{1}{0!} = 1$ is a very rough approximation for $e$.  \n",
    "\n",
    "Then next sum,  $e_1 = \\frac{1}{0!} + \\frac{1}{1!} = 2$, is still a rough approximation for $e$.  \n",
    "\n",
    "Then next sum,  $e_2 = \\frac{1}{0!} + \\frac{1}{1!} + \\frac{1}{2!} = 2.5$, looks better. \n",
    "\n",
    "The next few sums that we are heading in the right direction:\n",
    "\n",
    "\\begin{align}\n",
    "e_3 &= \\frac{1}{0!} + \\frac{1}{1!} + \\frac{1}{2!} + \\frac{1}{3!} = 2.6666... \\\\\n",
    "e_4 &= \\frac{1}{0!} + \\frac{1}{1!} + \\frac{1}{2!} + \\frac{1}{3!} + \\frac{1}{4!} = 2.7083... \n",
    "\\end{align}"
   ]
  },
  {
   "cell_type": "markdown",
   "metadata": {},
   "source": [
    "Now, because, $e_4 - e_3 = \\frac{1}{4!} + \\frac{1}{5!} + \\frac{1}{6!} + \\frac{1}{7!} + ... $ , we know that $e_4$ is within $\\frac{1}{4!}$ of the actual value for $e$.  This give us a way to compute an approximation of $e$ that is guaranteed to be within a given range of the true value of $e$. \n",
    "\n",
    "Write a function `approx_e()` that takes as a input a float value `max_error` and returns a value that approximates constant $e$ to within `max_error`. You will do this by generating the sequence of approximation $e_0, e_1, e_2, ... $until the difference between the current approximation and the previous one is no greater than `max_error`. \n",
    "\n",
    "Check that the approximation that returns from `approx_e()` is really smaller than `max_error`. Use `math.e` for the correct value of $e$."
   ]
  },
  {
   "cell_type": "markdown",
   "metadata": {},
   "source": [
    "__Sample Run:__  \n",
    "```\n",
    "    max_error = 0.01\n",
    "    me = approx_e(max_error)\n",
    "    print(' approx_e:', my_euler)\n",
    "    print('    error:', math.e - me)\n",
    "    print('max_error:', max_error)\n",
    "    \n",
    "    max_error = 0.000000001\n",
    "    me = approx_e(max_error)\n",
    "    print(' approx_e:', my_euler)\n",
    "    print('    error:', math.e - me)\n",
    "    print('max_error:', max_error)\n",
    "```"
   ]
  },
  {
   "cell_type": "markdown",
   "metadata": {},
   "source": [
    "__Expected Output:__\n",
    "```\n",
    " approx_e: 2.7182818284467594\n",
    "    error: 0.0016151617923787498\n",
    "max_error: 0.01\n",
    " approx_e: 2.7182818284467594\n",
    "    error: 1.2285727990501982e-11\n",
    "max_error: 1e-09\n",
    "```\n",
    "\n",
    "__Solution:__   \n",
    "\n",
    "- We start by assigning the first approximation(1) to `prev` and the second (2) to `curr`. \n",
    "- The `while` loop condition is then `curr - prev > max_error`. \n",
    "- If the condition is true, then we need to generate new values for `prev` and `curr`.  \n",
    "- The value of `curr` becomes `prev`, and the new `curr` value is then `prev + 1/factoral(???)`. What should ??? be? \n",
    "- In the first iteration, it should be 2 because the third approximation is the value of the second $\\frac{1}{2!}$ . In the next iteration, it should be 3, then 4, and so on. "
   ]
  },
  {
   "cell_type": "code",
   "execution_count": 16,
   "metadata": {},
   "outputs": [
    {
     "name": "stdout",
     "output_type": "stream",
     "text": [
      " approx_e: 2.7182818284467594\n",
      " my_error: 0.0016151617923787498\n",
      "max_error: 0.01\n",
      " approx_e: 2.7182818284467594\n",
      " my_error: 1.2285727990501982e-11\n",
      "max_error: 1e-09\n"
     ]
    }
   ],
   "source": [
    "import math\n",
    "\n",
    "def approx_e(max_error):\n",
    "    \"\"\"returns approximation of e within max_error\"\"\"\n",
    "    prev = 1          # approximation 0\n",
    "    curr = 2          # approximation 1\n",
    "    i = 2             # index of next approximation \n",
    "    \n",
    "    pass \n",
    "\n",
    "    return curr"
   ]
  },
  {
   "cell_type": "markdown",
   "metadata": {},
   "source": [
    "# 학습 정리\n",
    "\n",
    "1. 함수 생성하기\n",
    "1. arguments 이해하기\n",
    "1. Return Values 이해하기   \n",
    "1. Default 파라미터 이해하기\n",
    "1. 익명함수(Lambda) 사용하기"
   ]
  },
  {
   "cell_type": "markdown",
   "metadata": {},
   "source": [
    "# 참고자료\n",
    "\n",
    "- [Python Functions](https://www.w3schools.com/python/python_functions.asp)"
   ]
  },
  {
   "cell_type": "markdown",
   "metadata": {},
   "source": [
    "---------\n",
    "__\"Everything is permissible\" - but not everything is beneficial. \"Everything is permissible\" - but not everything is constructive.__\n",
    "1 Corinthians 10:23\n",
    "    "
   ]
  }
 ],
 "metadata": {
  "kernelspec": {
   "display_name": "Python 3 (ipykernel)",
   "language": "python",
   "name": "python3"
  },
  "language_info": {
   "codemirror_mode": {
    "name": "ipython",
    "version": 3
   },
   "file_extension": ".py",
   "mimetype": "text/x-python",
   "name": "python",
   "nbconvert_exporter": "python",
   "pygments_lexer": "ipython3",
   "version": "3.8.12"
  }
 },
 "nbformat": 4,
 "nbformat_minor": 4
}
