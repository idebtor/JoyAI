{
 "cells": [
  {
   "cell_type": "markdown",
   "metadata": {},
   "source": [
    "죄의 삯은 사망이요 하나님의 은사는 그리스도 예수 우리 주 안에 있는 영생이니라 (롬6:23)\n",
    "\n",
    "----\n",
    "<center><img src=\"https://github.com/idebtor/DSpy/blob/cab9662b5ff01661ef8034289c92287d02b8e1ed/images/chap2/markdown_tutorial.jpg?raw=true\" width=1000></center>\n",
    "\n",
    "\n",
    "__NOTE:__ The following materials have been compiled and adapted from the numerous sources including my own. Please help me to keep this tutorial up-to-date by reporting any issues or questions. Send any comments or criticisms to `idebtor@gmail.com` Your assistances and comments will be appreciated."
   ]
  },
  {
   "cell_type": "markdown",
   "metadata": {},
   "source": [
    "<b style=\"font-size:30px\"> Chapter 0. 기계학습 개발환경 - Markdown and LaTex </b>\n",
    "\n",
    "__학습 목표__ \n",
    "\n",
    "- 마크다운 문법을 익힌다. \n",
    "- LaTex(레이텍) 소개와 문법을 익힌다. \n",
    "- 마크다운과 레이텍을 사용하여 개발 문서를 작성한다\n",
    "\n",
    "__학습 내용__\n",
    "\n",
    "1. 마크다운 소개와 활용성\n",
    "1. 마크다운 문법\n",
    "1. LaTex의 소개와 활용성\n",
    "1. LaTex의 문법\n",
    "1. 마크다운과 LaTex 문서 작성"
   ]
  },
  {
   "cell_type": "markdown",
   "metadata": {},
   "source": [
    "\n",
    "\n",
    "# 마크다운이란?\n",
    "\n",
    "마크다운 (Markdown)은 마크업(Markup)언어의 일종으로 마크업보다 쉽게 웹 문서를 작성할 수 있는 도구입니다. \n",
    "\n",
    "- Markdown은 텍스트 기반의 마크업언어로 2004년 존그루버에 의해 만들어졌으며 쉽게 쓰고 읽을 수 있으며 HTML로 변환이 가능하다. 특수기호와 문자를 이용한 매우 간단한 구조의 문법을 사용하여 웹에서도 보다 빠르게 컨텐츠를 작성하고 보다 직관적으로 인식할 수 있다. \n",
    "\n",
    "- 마크다운이 최근 각광받기 시작한 이유는 깃헙(https://github.com) 덕분이다. 깃헙의 저장소Repository에 관한 정보를 기록하는 README.md는 깃헙을 사용하는 사람이라면 누구나 가장 먼저 접하게 되는 마크다운 문서였다. 마크다운을 통해서 설치방법, 소스코드 설명, 이슈 등을 간단하게 기록하고 가독성을 높일 수 있다는 강점이 부각되면서 점점 여러 곳으로 퍼져가게 된다. \n",
    "\n",
    "- 마크다운 문법은 읽기도 쉽지만 쓰기도 쉽다는 장점이 있습니다. Stackoverflow의 모든 질문과 답변은 마크다운으로 작성한 것입니다. 또한 GitHub에서 볼 수 있는 대부분의 문서들도 마크다운으로 작성되었습니다.  \n"
   ]
  },
  {
   "cell_type": "markdown",
   "metadata": {},
   "source": [
    "__장점__\n",
    "1. 간결하다.\n",
    "1. 별도의 도구없이 작성가능하다.\n",
    "1. 다양한 형태로 변환이 가능하다.\n",
    "1. 텍스트(Text)로 저장되기 때문에 용량이 적어 보관이 용이하다.\n",
    "1. 텍스트파일이기 때문에 버전관리시스템을 이용하여 변경이력을 관리할 수 있다.\n",
    "1. 지원하는 프로그램과 플랫폼이 다양하다.\n",
    "\n",
    "__단점__\n",
    "\n",
    "1. 표준이 없다.\n",
    "1. 표준이 없기 때문에 도구에 따라서 변환방식이나 생성물이 다르다.\n",
    "1. 모든 HTML 마크업을 대신하지 못한다."
   ]
  },
  {
   "cell_type": "markdown",
   "metadata": {},
   "source": [
    "# 마크다운(Markdown) 사용법\n",
    "- 파일의 확장자는 **.md**를 사용합니다.\n"
   ]
  },
  {
   "cell_type": "markdown",
   "metadata": {},
   "source": [
    "## 헤더Headers\n",
    "* 큰제목: 문서 제목\n",
    "    ```\n",
    "    This is an H1\n",
    "    =============\n",
    "    ```\n",
    "    This is an H1\n",
    "    =============\n",
    "\n",
    "* 작은제목: 문서 부제목\n",
    "    ```\n",
    "    This is an H2\n",
    "    -------------\n",
    "    ```\n",
    "    This is an H2\n",
    "    -------------\n",
    "\n",
    "* 글머리: 1~6까지만 지원\n",
    "```\n",
    "# This is a H1\n",
    "## This is a H2\n",
    "### This is a H3\n",
    "#### This is a H4\n",
    "##### This is a H5\n",
    "###### This is a H6\n",
    "```\n",
    "# This is a H1\n",
    "## This is a H2\n",
    "### This is a H3\n",
    "#### This is a H4\n",
    "##### This is a H5\n",
    "###### This is a H6\n",
    "####### This is a H7(지원하지 않음)"
   ]
  },
  {
   "cell_type": "markdown",
   "metadata": {},
   "source": [
    "## BlockQuote\n",
    "이메일에서 사용하는 ```>``` 블럭인용문자를 이용한다.\n",
    "```\n",
    "> This is a first blockqute.\n",
    ">\t> This is a second blockqute.\n",
    ">\t>\t> This is a third blockqute.\n",
    "```\n",
    "> This is a first blockqute.\n",
    ">\t> This is a second blockqute.\n",
    ">\t>\t> This is a third blockqute.\n",
    "\n",
    "이 안에서는 다른 마크다운 요소를 포함할 수 있다.\n",
    "> ### This is a H3\n",
    "> * List\n",
    ">\t```\n",
    ">\tcode\n",
    ">\t```"
   ]
  },
  {
   "cell_type": "markdown",
   "metadata": {},
   "source": [
    "## 목록\n",
    "### ● 순서있는 목록(번호)\n",
    "순서있는 목록은 숫자와 점을 사용한다.\n",
    "```\n",
    "1. 첫번째\n",
    "2. 두번째\n",
    "3. 세번째\n",
    "```\n",
    "1. 첫번째\n",
    "2. 두번째\n",
    "3. 세번째\n",
    "\n",
    "**현재까지는 어떤 번호를 입력해도 순서는 내림차순으로 정의된다.**\n",
    "```\n",
    "1. 첫번째\n",
    "3. 세번째\n",
    "2. 두번째\n",
    "```\n",
    "1. 첫번째\n",
    "3. 세번째\n",
    "2. 두번째\n",
    "\n",
    "딱히 개선될 것 같지는 않다. 존 그루버가 신경안쓰고 있다고..."
   ]
  },
  {
   "cell_type": "markdown",
   "metadata": {},
   "source": [
    "### ● 순서없는 목록(글머리 기호: `*`, `+`, `-` 지원)\n",
    "```\n",
    "* 빨강\n",
    "  * 녹색\n",
    "    * 파랑\n",
    "\n",
    "+ 빨강\n",
    "  + 녹색\n",
    "    + 파랑\n",
    "\n",
    "- 빨강\n",
    "  - 녹색\n",
    "    - 파랑\n",
    "```\n",
    "* 빨강\n",
    "  * 녹색\n",
    "    * 파랑\n",
    "\n",
    "+ 빨강\n",
    "  + 녹색\n",
    "    + 파랑\n",
    "\n",
    "- 빨강\n",
    "  - 녹색\n",
    "    - 파랑\n",
    "\n",
    "혼합해서 사용하는 것도 가능하다(내가 선호하는 방식)\n",
    "\n",
    "```\n",
    "* 1단계\n",
    "  - 2단계\n",
    "    + 3단계\n",
    "      + 4단계\n",
    "```\n",
    "\n",
    "* 1단계\n",
    "  - 2단계\n",
    "    + 3단계\n",
    "      + 4단계"
   ]
  },
  {
   "cell_type": "markdown",
   "metadata": {},
   "source": [
    "## 코드\n",
    "4개의 공백 또는 하나의 탭으로 들여쓰기를 만나면 변환되기 시작하여 들여쓰지 않은 행을 만날때까지 변환이 계속된다.\n",
    "\n",
    "### 들여쓰기\n",
    "```\n",
    "This is a normal paragraph:\n",
    "\n",
    "    This is a code block.\n",
    "    \n",
    "end code block.\n",
    "```\n",
    "\n",
    "실제로 적용해보면,\n",
    "\n",
    "적용예:\n",
    "\n",
    "*****\n",
    "This is a normal paragraph:\n",
    "\n",
    "    This is a code block.\n",
    "\n",
    "end code block.\n",
    "*****\n",
    "\n",
    "> 한줄 띄어쓰지 않으면 인식이 제대로 안되는 문제가 발생합니다.\n",
    "\n",
    "```\n",
    "This is a normal paragraph:\n",
    "    This is a code block.\n",
    "end code block.\n",
    "```\n",
    "\n",
    "적용예:\n",
    "\n",
    "*****\n",
    "This is a normal paragraph:\n",
    "    This is a code block.\n",
    "end code block.\n",
    "*****"
   ]
  },
  {
   "cell_type": "markdown",
   "metadata": {},
   "source": [
    "### 코드블럭\n",
    "코드블럭은 다음과 같이 2가지 방식을 사용할 수 있습니다:\n",
    "\n",
    "* `<pre><code>{code}</code></pre>` 이용방식\n",
    "\n",
    "```\n",
    "<pre>\n",
    "<code>\n",
    "public class BootSpringBootApplication {\n",
    "  public static void main(String[] args) {\n",
    "    System.out.println(\"Hello, Honeymon\");\n",
    "  }\n",
    "\n",
    "}\n",
    "</code>\n",
    "</pre>\n",
    "```\n",
    "\n",
    "<pre>\n",
    "<code>\n",
    "public class BootSpringBootApplication {\n",
    "  public static void main(String[] args) {\n",
    "    System.out.println(\"Hello, Honeymon\");\n",
    "  }\n",
    "}\n",
    "</code>\n",
    "</pre>\n",
    "\n",
    "* 코드블럭코드(\"\\```\") 을 이용하는 방법\n",
    "\n",
    "<pre>\n",
    "<code>\n",
    "```\n",
    "public class BootSpringBootApplication {\n",
    "  public static void main(String[] args) {\n",
    "    System.out.println(\"Hello, Honeymon\");\n",
    "  }\n",
    "}\n",
    "```\n",
    "</code>\n",
    "</pre>\n",
    "\n",
    "```\n",
    "public class BootSpringBootApplication {\n",
    "  public static void main(String[] args) {\n",
    "    System.out.println(\"Hello, Honeymon\");\n",
    "  }\n",
    "}\n",
    "```\n",
    "\n",
    "**깃헙**에서는 코드블럭코드(\"\\```\") 시작점에 사용하는 언어를 선언하여 [문법강조(Syntax highlighting)](https://docs.github.com/en/github/writing-on-github/creating-and-highlighting-code-blocks#syntax-highlighting)이 가능하다.\n",
    "\n",
    "<pre>\n",
    "<code>\n",
    "```java\n",
    "public class BootSpringBootApplication {\n",
    "  public static void main(String[] args) {\n",
    "    System.out.println(\"Hello, Honeymon\");\n",
    "  }\n",
    "}\n",
    "```\n",
    "</code>\n",
    "</pre>\n",
    "\n",
    "```java\n",
    "public class BootSpringBootApplication {\n",
    "  public static void main(String[] args) {\n",
    "    System.out.println(\"Hello, Honeymon\");\n",
    "  }\n",
    "}\n",
    "```"
   ]
  },
  {
   "cell_type": "markdown",
   "metadata": {},
   "source": [
    "## 수평선 ```<hr/>```\n",
    "아래 줄은 모두 수평선을 만든다. 마크다운 문서를 미리보기로 출력할 때 *페이지 나누기* 용도로 많이 사용한다.\n",
    "\n",
    "```\n",
    "* * *\n",
    "\n",
    "***\n",
    "\n",
    "*****\n",
    "\n",
    "- - -\n",
    "\n",
    "---------------------------------------\n",
    "```\n",
    "\n",
    "* 적용예\n",
    "* * *\n",
    "\n",
    "***\n",
    "\n",
    "*****\n",
    "\n",
    "- - -\n",
    "\n",
    "---------------------------------------"
   ]
  },
  {
   "cell_type": "markdown",
   "metadata": {},
   "source": [
    "## 링크\n",
    "\n",
    "- 문서 안에서 `[참조 링크]`를 그대로 사용할 수도 있습니다.\n",
    "- 다음과 같이 문서 내 일반 URL이나 꺾쇠 괄호(`< >`, Angle Brackets)안의 URL은 자동으로 링크를 사용합니다.\n",
    "\n",
    "\n",
    "* 참조링크\n",
    "\n",
    "```\n",
    "[link keyword][id]\n",
    "\n",
    "[id]: URL \"Optional Title here\"\n",
    "\n",
    "// code\n",
    "Link: [Google][googlelink]\n",
    "\n",
    "[googlelink]: https://google.com \"Go google\"\n",
    "```\n",
    "\n",
    "Link: [Google][googlelink]\n",
    "\n",
    "[googlelink]: https://google.com \"Go google\"\n",
    "\n",
    "* 외부링크\n",
    "```\n",
    "사용문법: [Title](link)\n",
    "적용예: [Google](https://google.com, \"google link\")\n",
    "```\n",
    "Link: [Google](https://google.com, \"google link\")\n",
    "\n",
    "* 자동연결\n",
    "```\n",
    "일반적인 URL 혹은 이메일주소인 경우 적절한 형식으로 링크를 형성한다.\n",
    "\n",
    "* 외부링크: <http://example.com/>\n",
    "* 이메일링크: <address@example.com>\n",
    "```\n",
    "\n",
    "* 외부링크: <http://example.com/>\n",
    "* 이메일링크: <address@example.com>"
   ]
  },
  {
   "cell_type": "markdown",
   "metadata": {},
   "source": [
    "## 강조\n",
    "```\n",
    "*single asterisks*\n",
    "_single underscores_\n",
    "**double asterisks**\n",
    "__double underscores__\n",
    "~~cancelline~~\n",
    "```\n",
    "\n",
    "* *single asterisks*\n",
    "* _single underscores_\n",
    "* **double asterisks**\n",
    "* __double underscores__\n",
    "* ~~cancelline~~\n",
    "\n",
    "> ```문장 중간에 사용할 경우에는 **띄어쓰기** 를 사용하는 것이 좋다.```   \n",
    "> 문장 중간에 사용할 경우에는 띄어쓰기를 사용하는 것이 좋다."
   ]
  },
  {
   "cell_type": "markdown",
   "metadata": {},
   "source": [
    "## 표(Table)\n",
    "\n",
    "- 헤더 셀을 구분할 때 3개 이상의 -(hyphen/dash) 기호가 필요합니다.\n",
    "- 헤더 셀을 구분하면서 :(Colons) 기호로 셀(열/칸) 안에 내용을 정렬할 수 있습니다.\n",
    "    - 콜론(:)이 왼쪽에만 있으면, 왼쪽 정렬, 양쪽에 있으면 가운데 정렬, 오른쪽에만 있으면 오른쪽 정렬을 합니다. \n",
    "- 가장 좌측과 가장 우측에 있는 |(vertical bar) 기호는 생략 가능합니다.\n"
   ]
  },
  {
   "cell_type": "markdown",
   "metadata": {},
   "source": [
    "| Stack Operation | Stack Contents | Return Value \n",
    "|:----------------|:---------------|:------------:\n",
    "|  `s.is_empty()` |      `[]`      |    `True`    \n",
    "|   `s.push(4)`   |      `[4]`     |              \n",
    "| `s.push('dog')` |  `[4, 'dog']`  |              \n",
    "|   `s.peak()`    |  `[4, 'dog']`  |    `'dog'`   \n",
    "|  `s.push(True)` |`[4, 'dog', True]`|            \n",
    "|   `s.size()`    |`[4, 'dog', True]`|    `3`     \n",
    "\n",
    "위의 표에서 `Return Value`열이 가운데 정렬로 되어 있는데, 다른 열과 같게 왼쪽 정렬로 바꾸어 보십시오"
   ]
  },
  {
   "cell_type": "code",
   "execution_count": null,
   "metadata": {},
   "outputs": [],
   "source": []
  },
  {
   "cell_type": "code",
   "execution_count": null,
   "metadata": {},
   "outputs": [],
   "source": []
  },
  {
   "cell_type": "markdown",
   "metadata": {
    "tags": []
   },
   "source": [
    "## 줄바꿈\n",
    "일련의 문자열은 줄바꿈이 일어나지 않고 한 단락으로 출력됩니다. 그러므로, 줄비꿈을 하려면, __줄 끝에 '2번의 빈칸'__ 을 입력하거나 `<br>`를 활용할 수 있습니다. 예를 들면, 아래 **Case 1** 과 같이 입력할지라도 결과는 각 줄 끝에 `2번 이상의 띄어쓰기`가 없으면, 한 단락으로 출력됩니다. \n",
    "\n",
    "\n",
    "__Case 1:__ 아래와 같이 입력하면 줄바꿈 없이 한 단락을 출력됩니다. \n",
    "```\n",
    "태초에 하나님이 천지를 창조하시니라\n",
    "땅이 혼돈하고 공허하며 흑암이 깊음 위에 있고 하나님의 영은 수면 위에 운행하시니라\n",
    "하나님이 이르시되 빛이 있으라 하시니 빛이 있었고 빛이 하나님이 보시기에 좋았더라 \n",
    "```\n",
    "\n",
    "__Case 1: Output__"
   ]
  },
  {
   "cell_type": "markdown",
   "metadata": {},
   "source": [
    "태초에 하나님이 천지를 창조하시니라\n",
    "땅이 혼돈하고 공허하며 흑암이 깊음 위에 있고 하나님의 영은 수면 위에 운행하시니라\n",
    "하나님이 이르시되 빛이 있으라 하시니 빛이 있었고 빛이 하나님이 보시기에 좋았더라 "
   ]
  },
  {
   "cell_type": "markdown",
   "metadata": {
    "tags": []
   },
   "source": [
    "__Case 2:__ \n",
    "\n",
    "아래와 같이 입력하면(__case 1:__)과 똑 같아 보이지만, 사실상 __각 문장 끝에 최소 2번의 빈칸들__ 이 있습니다. 그러면, 줄 바꿈이 일어납니다. \n",
    "```\n",
    "태초에 하나님이 천지를 창조하시니라  \n",
    "땅이 혼돈하고 공허하며 흑암이 깊음 위에 있고 하나님의 영은 수면 위에 운행하시니라  \n",
    "하나님이 이르시되 빛이 있으라 하시니 빛이 있었고 빛이 하나님이 보시기에 좋았더라   \n",
    "```\n",
    "\n",
    "__Case 2: Output__"
   ]
  },
  {
   "cell_type": "markdown",
   "metadata": {},
   "source": [
    "\n",
    "태초에 하나님이 천지를 창조하시니라  \n",
    "땅이 혼돈하고 공허하며 흑암이 깊음 위에 있고 하나님의 영은 수면 위에 운행하시니라  \n",
    "하나님이 이르시되 빛이 있으라 하시니 빛이 있었고 빛이 하나님이 보시기에 좋았더라  \n"
   ]
  },
  {
   "cell_type": "markdown",
   "metadata": {},
   "source": [
    "## 수평선(Horizontal Rule)\n",
    "\n",
    "다음과 같이 대쉬(`-`), 별(`*`) 혹은 언더스코어(`_`)를 세번 반복함으로 줄을 그을 수 있습니다. \n",
    "\n",
    "---\n",
    "\n",
    "***\n",
    "\n",
    "___"
   ]
  },
  {
   "cell_type": "markdown",
   "metadata": {},
   "source": [
    "## 이미지\n",
    "\n",
    "- 이미지는 아래와 같이 간단하게 나타낼 수 있는데, `[Alt text]`는 이미지를 그릴 수 없을 때 나타나는 메시지입니다.\n",
    "- \"Optional title\"로 설정한 내용은 마우스가 이미지 위에 있을 때 풍선말로 나타납니다.\n",
    "- 이미지가 github 저장소에 있다면, 그 저장소는 public이어야 하고, 또한 이미지 이름 끝에 \"?raw=true\"를 추가해야 합니다. "
   ]
  },
  {
   "cell_type": "markdown",
   "metadata": {},
   "source": [
    "```\n",
    "![Alt text](/path/to/img.jpg)\n",
    "![Alt text](/path/to/img.jpg \"Optional title\")\n",
    "![Alt text](https://github.com/ ... /person.png?raw=true \"Handong Campus\")\n",
    "```\n",
    "위와 같은 문법으로 표현한 세 이미지는 다음과 같이 표현하고 나타낼 수 있습니다. \n",
    "```\n",
    "![person](https://github.com/idebtor/KMOOC-ML/blob/master/ipynb/images/joyai/person.png?raw=true)\n",
    "<br> </br>\n",
    "![github](https://github.githubassets.com/images/modules/logos_page/Octocat.png \"GitHub Octocat\")\n",
    "<br> </br>\n",
    "![한동대 캠퍼스](https://github.com/idebtor/KMOOC-ML/blob/c2fb66e5518f8b78e9b56fe83a68485a9d9d066b/ipynb/images/2202-2.png?raw=true \"Handong Campus\")\n",
    "```"
   ]
  },
  {
   "cell_type": "markdown",
   "metadata": {},
   "source": [
    "<br> </br>\n",
    "![person](https://github.com/idebtor/KMOOC-ML/blob/master/ipynb/images/joyai/person.png?raw=true)\n",
    "<br> </br>\n",
    "![github](https://github.githubassets.com/images/modules/logos_page/Octocat.png \"GitHub Octocat\")\n",
    "<br> </br>\n",
    "![한동대 캠퍼스](https://github.com/idebtor/KMOOC-ML/blob/c2fb66e5518f8b78e9b56fe83a68485a9d9d066b/ipynb/images/2202-2.png?raw=true \"Handong Campus\")\n",
    "<br> </br>"
   ]
  },
  {
   "cell_type": "markdown",
   "metadata": {},
   "source": [
    "### 이미지 크기 조정과 캡션 \n",
    "- Markdown에는 이미지 사이즈 조절 기능은 없기 때문에 ```<img width=\"\" height=\"\">```를 HTML 태그를 이용한다.\n",
    "- 이미지 크기를 조정할 때, 너비 혹은 높이중에 하나를 설정해주면, 자동으로 원본 이미지에 비례적으로 출력된다. \n",
    "- width 혹은 height의 화소(pixel, px)의 수 혹은 원본의 비례로 설정할 수 있다. \n",
    "- 이미지 캡션을 추가하려면 HTML 태그를 사용한다. \n",
    "- 여기 title의 내용은 마우스가 이미지 위에 있을 때 풍선말로 나타난다. \n",
    "\n",
    "__예제:__\n",
    "```\n",
    "<img src=\"/path/to/img.jpg\" height=\"200\" title=\"width px 조정\" alt=\"Octocat\"></img><br/>\n",
    "<img src=\"/path/to/img.jpg\" height=\"300px\" title=\"코기와 위치 조정\" alt=\"Campus\"></img><br/>\n",
    "<img src=\"/path/to/img.jpg\" width=\"40%\" height=\"30%\" title=\"px(픽셀) 크기 조정\" alt=\"Campus\"></img>\n",
    "<img src=\"/path/to/img.jpg\" width=\"40%\" title=\"%(비율) 크기 조정\" alt=\"Campus\"></img>\n",
    "```"
   ]
  },
  {
   "cell_type": "markdown",
   "metadata": {},
   "source": [
    "<br> </br>\n",
    "\n",
    "<img src=\"https://github.githubassets.com/images/modules/logos_page/Octocat.png\" width=\"200\" title=\"width px조정\" alt=\"Octocat\"></img>\n",
    "<p>그림 1: width 하나로 크기 조정하고 캡션 넣는 방법 </p>\n",
    "\n",
    "<br> </br>\n",
    "\n",
    "<center><img src=\"https://github.com/idebtor/KMOOC-ML/blob/master/ipynb/images/joyai/person.png?raw=true\" width=200 title=\"크기와 위치 조정\"></center>\n",
    "<center>그림 2: width 하나로 크기와 위치, 캡션을 가운데로 조정하는 방법 </center>"
   ]
  },
  {
   "cell_type": "markdown",
   "metadata": {},
   "source": [
    "<br> </br>\n",
    "\n",
    "<center>\n",
    "<img src=\"https://github.com/idebtor/KMOOC-ML/blob/c2fb66e5518f8b78e9b56fe83a68485a9d9d066b/ipynb/images/2202-2.png?raw=true\" width=\"450px\" height=\"300px\" title=\"px(픽셀) 크기 조정\" alt=\"Handong Campus\"><br/> </center>\n",
    "<center>그림 3: width와 height로 크기와 위치, 캡션을 가운데로 조정하는 방법 </center>\n",
    "\n",
    "<br> </br>\n",
    "\n",
    "<center>\n",
    "<img src=\"https://github.com/idebtor/KMOOC-ML/blob/c2fb66e5518f8b78e9b56fe83a68485a9d9d066b/ipynb/images/2202-2.png?raw=true\" width=\"40%\" title=\"%(비율) 크기 설정\" alt=\"Handong Campus\"> </center>\n",
    "<center>그림 4: 비율(%) 하나로 크기와 위치, 캡션을 가운데로 조정하는 방법 </center>"
   ]
  },
  {
   "cell_type": "markdown",
   "metadata": {},
   "source": [
    "## HTML 사용 가능\n",
    "\n",
    "마크다운 문법이 아닌 원시 HTML 문법도 사용할 수 있습니다. <u>마크다운에서 지원하지 않는 기능</u>을 사용할 때 유용하며 대부분 잘 동작합니다. <span style=\"color:blue\">  특히 이미지을 입력할 때, 크기 조정같은 어려움을 겪는 경우, HTML의 `<img>` 태그 많이 사용합니다. </span>\n",
    "\n",
    "- 위의 단락에서 색이 다른 나온 부분은 `<u></u>`, `<span style=\"color:blue\"></span>`을 사용하여 밑줄과 단락의 중간에 다른 색을 표현했습니다. 아래와 같이 문서를 작성한 것입니다. \n",
    "\n",
    "```\n",
    "마크다운 문법이 아닌 원시 HTML 문법도 사용할 수 있습니다. <u>마크다운에서 지원하지 않는 기능</u>을 사용할 때 유용하며 대부분 잘 동작합니다. <span style=\"color:blue\">  특히 이미지을 입력할 때, 크기 조정같은 어려움을 겪는 경우, HTML의 `<img>` 태그 많이 사용합니다. </span>\n",
    "```\n",
    "\n"
   ]
  },
  {
   "cell_type": "markdown",
   "metadata": {
    "tags": []
   },
   "source": [
    "\n",
    "# Markdown Summary \n",
    "\n",
    "&ensp; &ensp; &nbsp; __Desired style__&ensp; &ensp; &ensp; __in Markdown syntax__&emsp; &emsp; &emsp; __in HTML syntax__\n",
    "```\n",
    "Heading 1\t    # Title                   <h1>Title</h1>\n",
    "Heading 2\t    ## Title                  <h2>Title</h2>\n",
    "Heading 3\t    ### Title                 <h3>Title</h3>\n",
    "Heading 4\t    #### Title                <h4>Title</h4>\n",
    "\n",
    "Paragraph       Just start typing         <p>Just start typing<p>\n",
    "    \n",
    "Bold            **Text**                  <strong>Text</strong>\n",
    "Bold            __Text__                  <strong>Text</strong>\n",
    "Italic          *Text*                    <em>Text</em>\n",
    "Italic          _Text_                    <em>Text</em>\n",
    "Strike          ~~Text~~                  <del>Text</del>\n",
    "           \n",
    "List (unordered) * List item 1            <ul><li>List item 1</li>\n",
    "                 * List item 2                <li>List item 2</li>\n",
    "                 * List item 3                <li>List item 3</li></ul>\n",
    "\n",
    "List (ordered)  1. List item 1            <ul><li>List item 1</li>\n",
    "                1. List item 2                <li>List item 2</li>\n",
    "                1. List item 3                <li>List item 3</li></ul>\n",
    "\n",
    "Images\t    ![Alt text](path/image.jpg)\t    <img src=\"path/image.jpg\" alt=\"Alt text>\n",
    "Hyperlinks\t[Link text](https://kmooc.kr/)\t<a href=\"https://kmooc.kr/\">Link text</a>\n",
    "\n",
    "Quoted (indent)   > Text                    <blockquote><p>Text</p></blockquote>\n",
    "Code (inline)     ``Statement``             <code>Statement</code>\n",
    "Code (fenced)\t  ```                       <pre><code><span>Statement   \n",
    "                  Statement 1               1</span><span>Statement\n",
    "                  Statement 2               2</span><span>Statement\n",
    "                  Statement 3               3</span></code></pre>\n",
    "                  ```                       \\\n",
    "```  "
   ]
  },
  {
   "cell_type": "markdown",
   "metadata": {},
   "source": [
    "---------"
   ]
  },
  {
   "cell_type": "markdown",
   "metadata": {},
   "source": [
    "# 마크다운 실제 사용 사례들 \n",
    "\n",
    "다음 셀들을 더블 클릭하면서 마크다운으로 어떻게 작성되었는지 직접 비교해 보십시오.. "
   ]
  },
  {
   "cell_type": "markdown",
   "metadata": {},
   "source": [
    "# Title\t- Heading 1\t\n",
    "## Title - Heading 2\n",
    "### Title - Heading 3\n",
    "#### Title - Heading 4\t"
   ]
  },
  {
   "cell_type": "markdown",
   "metadata": {},
   "source": [
    "**Bold Text**   &emsp;  __another bold text__          \n",
    "*Italic Text*    &emsp;  _another italic text__             \n",
    "~~Text~~      "
   ]
  },
  {
   "cell_type": "markdown",
   "metadata": {},
   "source": [
    "* unordered list\n",
    "* apple\n",
    "* orange\n",
    "- ANOTHER unordered list\n",
    "- apple\n",
    "- orange\n",
    "\n",
    "\n",
    "1. ordered list\n",
    "2. second\n",
    "3. third"
   ]
  },
  {
   "cell_type": "markdown",
   "metadata": {},
   "source": [
    "[Welcome to Handong Global University](https://www.handong.edu)\n",
    "\n",
    "<center><img src=\"https://github.com/idebtor/KMOOC-ML/blob/master/ipynb/images/ch7/784-100-10NN.png?raw=true\" width=\"800\"></center>\n",
    "<center>그림 1: 숫자 인식 인공 신경망</center>"
   ]
  },
  {
   "cell_type": "markdown",
   "metadata": {},
   "source": [
    "\n",
    "``` \n",
    "This is a quote.\n",
    "\n",
    "# Title\t- Heading 1\t\n",
    "## Title - Heading 2\n",
    "### Title - Heading 3\n",
    "#### Title - Heading 4\t\n",
    "```\n",
    "\n",
    "> This is block quote \n",
    ">\n",
    "> God is good all the time.  \n",
    "> All the time God is good.  \n",
    "> (There are two hidden spaces after \"all the time.\" and \"God is good.\" that makes a new line.\n",
    "> Otherwise, it will display two line into one like these two sentences.)\n",
    "\n",
    "\n",
    "`-----------` This draws a following line. \n",
    "\n",
    "` print('hello world`) `\n",
    "\n",
    "-------\n"
   ]
  },
  {
   "cell_type": "markdown",
   "metadata": {},
   "source": [
    "# LaTex(레이텍)\n",
    "MS Word처럼 WYSIWYG(What You See Is What You Get)방식으로 문서를 작성하는 것과 반대로 마치 프로그래밍을 하듯 (혹은 마크업으로 웹 문서를 작성하듯이) 문서를 작성하는 방법으로 가장 잘 알려진 그리고 많이 사용하는 방법입니다. 특히 수식(예를 들면, inline인 경우의 수식: $ D = \\sqrt{b^2 + 4ac}$)이 많이 필요한 자연과학, 공학, 사회과학 계열에서 거의 모든 전문가들이 레이텍을 사용하며, 특히 논문을 작성할 때는 이 방법을 피할 수 없을 정도입니다. 그 주된 이유 중에 하나는 Markdown 셀에서 혹은 markdown에서 LaTex를 사용하여 거의 완벽하게 문서를 작성할 수 있기 때문입니다. \n",
    "\n",
    "레이텍을 사용하면, 문서(수식)가 복잡하여 MS Word, PPT 등 기타 문서 편집기들이 만들 수 없는 문서들을 작성해낼 수 있습니다.    또한, Wikipedia, Stackoverflow, GitHub에 글을 올릴 때도 사용합니다. 이번 기회에 익혀두면 유용할 것입니다.  \n",
    "\n",
    "## LaTex의 기본 문법"
   ]
  },
  {
   "cell_type": "markdown",
   "metadata": {
    "tags": []
   },
   "source": [
    "\n",
    "- 수식을 기존 문서에 inline으로 사용할 때에는 시작할 때와 끝날 때 `$`를 사용합니다. 예를 들어, 제곱근은 `$\\sqrt2$`라 하면, 이렇게 $\\sqrt2$ 나타납니다. \n",
    "- LaTex의 모든 키워드 혹은 특수기호, 즉 `sqrt`, `sum`, `frac`, `begin` `end` 것들은 backslash로 시작합니다. 예를 들어, `$\\sqrt2$`처럼 말입니다. \n",
    "- 키워드 혹은 특수기호 뒤에 나오는 항목이 한 글자 이상이면 중괄호로 묶어 줍니다. 예를 들어, sqrt 안에 들어가는 숫자가 2가 아니라 234라면, `\\sqrt{234}`로 하면 $\\sqrt{234}$가 됩니다.\n",
    "- superscript(윗첨자)는 `^`, subscript(밑첨자)는 `_`로 표시할 수 있습니다. 예를 들면, `$\\sqrt{X_i^m}$` 는 이렇게  $\\sqrt{X_i^m}$ 나타납니다. \n",
    "- 그런데, 여기서 `i`대신 `ij`로 $\\sqrt{X_{ij}^m}$ 표현하려면 어떻게 해야 할까요? 한 글자 이상이면, 중괄호 `{}` 사용해서 이렇게 `$\\sqrt{X_{ij}^m}$` 표현해야 합니다. \n",
    "- 분수(fraction)는 `\\frac`에 연이어 분자와 분모를 중괄호로 묶어 설정합니다. 예를 들면, `$\\frac{5}{20}$`은 $\\frac{5}{20}$으로 나타납니다. \n",
    "- 분수를 이용한 편미분을 나타내려면 `$\\frac{\\partial}{\\partial{x}}$`처럼 중첩적으로 키워드들이 나와야 하는 경두도 많습니다. 그러면 $\\frac{\\partial}{\\partial{x}}$처럼 나타납니다. \n",
    "- 수식을 기존의 문서의 이 한 문장(줄)의 전체를 차지할 경우에는 `$$`으로 시작하고 `$$`으로 마치십시오. `$$`이 아니라 `\\begin{align} \\end{align}`을 많이 사용하기도 하지만, MS Code와 Markdown Web browser Extention들이 잘 다루지 못하는 경우도 있습니다.  주피터에서는 사용가능합니다. \n",
    "- 수식으로 한 문장(줄)을 끝날 때는 두 개의 backslash 즉 `\\\\` 를 사용합니다. \n",
    "- `=`앞에 `&`를 넣어서 `&=`을 사용하면, 여러 표현식들을 `=`을 기준으로 위 아래로 정렬합니다. 이것도 주피터에서는 잘 다루지만, MS Code와 Markdown Web browser Extention들이 아직 잘 다루지 못하고 있습니다.  \n",
    "\n",
    "$$\n",
    "z = x + y        \\\\\n",
    "abc = ef * gh   \n",
    "$$\n",
    "\n",
    "\\begin{align}\n",
    "z &= x + y        \\\\\n",
    "abc &= ef * gh   \n",
    "\\end{align}\n",
    "\n",
    "- LaTex 문서를 작성하다가 하나의 잘못이 있어도 수식이 전체가 나타나지 않는 경우가 많습니다. 그러므로, 문서를 작성할 때는 자주 그 결과를 확인하면서 작성해 나가면 도움이 됩니다. \n",
    "- 그 외 자세한 문법은 검색을 통해 찾아 보면서 다음 문서를 완성해보십시오. \n",
    "- 수식 기호에 관한 리스트가 [한국 위키피디아](https://ko.wikipedia.org/wiki/%EC%9C%84%ED%82%A4%EB%B0%B1%EA%B3%BC:TeX_%EB%AC%B8%EB%B2%95)에 잘 정리되어 있습니다. \n",
    "------------"
   ]
  },
  {
   "cell_type": "markdown",
   "metadata": {},
   "source": [
    "__Example 1:__ \n",
    "\n",
    "__다양한 수학적 표기법__\n",
    "\n",
    "$$\n",
    "E = mc^2     \\\\\n",
    "m = \\frac{m_0}{\\sqrt{1-\\frac{v^2}{c^2}‭}}\n",
    "$$\n",
    "\n",
    "\n",
    "\n",
    "$$ D = \\sqrt{b^2 + 4ac} $$\n",
    "\n",
    "$$\n",
    "z = w_0x_0 + w_1x_1 + ... + w_m x_m = \\sum_{j=0}^{m} x_j w_j = \\mathbf{w^Tx}\n",
    "$$\n",
    "\n",
    "$$\n",
    "c = a \\times b\n",
    "$$\n",
    "\n",
    "\n",
    "$$\n",
    "z = w_0x_0 + w_1x_1 + ... + w_m x_m = \\sum_{j=0}^{m} x_j w_j = \\mathbf{w^Tx}\n",
    "$$\n",
    "\n",
    "$ D = \\sqrt{b^2 + 4ac}$ \\\n",
    "$ z = w_0x_0 + w_1x_1 + ... + w_m x_m = \\sum_{j=0}^{m} x_j w_j = \\mathbf{w^Tx} $\n"
   ]
  },
  {
   "cell_type": "markdown",
   "metadata": {},
   "source": [
    "__Example 2:__  \n",
    "\n",
    "__시그모이드 함수 미분:__\n",
    "\n",
    "시그모이드 함수를 사용할 뿐만 아니라 함수의 미분을 사용해야 하는 경우도 많습니다. 이런 과정의 이해를 돕기 위하여 미분 과정을 미리 정리해 보았습니다.  얼른 보기에는 복잡한 것 같지만, 하나씩 풀어보면 재미있게 미분 문제를 해결할 수 있습니다. 간단한 미분 공식 세 개만 기억하면 할 수 있습니다. \n",
    "\n",
    "\n",
    "\\begin{align}\n",
    "(e^{x})’ &= e^{x}                          \\tag{1}  \\\\\n",
    "(e^{-x})’ &= -e^{-x}                       \\tag{2}  \\\\ \n",
    "\\frac{du^n}{dx} & = n u^{n-1}\\frac{du}{dx} \\tag{3}  \\\\ \n",
    "\\end{align}\n"
   ]
  },
  {
   "cell_type": "markdown",
   "metadata": {},
   "source": [
    "__Example 3:__\n",
    "\n",
    "여기서는 우리가 __Step 1__ 에서 산출한 가중치을 다음 공식에 대입하여 판별식을 $x_2$에 관한 식으로 구합니다. 가중치로부터 학습 자료들을 두 클래스로 나누는 판별식$^{decision \\ boundary}$은 $\\mathbf{w^Tx} = 0$입니다.  우리가 산출한 가중치 `w = [0.2, 0.5, 1.0]` 입니다. 그러므로, \n",
    "\n",
    "\\begin{align}\n",
    "  \\mathbf{w^Tx} &= 0  \\\\\n",
    "\\begin{bmatrix}\n",
    "w_0&w_1&w_2\\\\\n",
    "\\end{bmatrix}\n",
    "\\begin{bmatrix}\n",
    "1 \\\\ x_1 \\\\ x_2\n",
    "\\end{bmatrix} &= 0 \\\\\n",
    "  w_0 + w_1x_1 + w_2x_2 &= 0  \\\\\n",
    "  0.2 + 0.5x_1 + 1.0x_2 &= 0  \\\\\n",
    "  x_2 &= -0.5x_1 - 0.2\n",
    "\\end{align}\n"
   ]
  },
  {
   "cell_type": "markdown",
   "metadata": {
    "tags": []
   },
   "source": [
    "# 마크다운 문서(~.md)를 브라우저에서 보기\n",
    "\n",
    "- 마크다운 문서를 브라우저(Chrome, edge, firefox)에 randering(시각화)하려면, markdown extention을 설치해야 합니다 \n",
    "\n",
    "## Markdown extention 설치 방법(Chrome)\n",
    "- 아래는 Chrome일 경우이지만, 다른 browser에서도 유사할 것입니다. \n",
    "- 웹 브라우저에 \"Markdown Preview Plus\" extension을 설치합니다. \n",
    "- 웹 브라우저의 `[설정] -> [도구 더 보기] -> [확장 프로그램] -> \"Markdown Preview Plus\" 찾아가십시오. \n",
    "- 그 안에, `[세부정보]`로 들어가서,  `파일 URL에 대한 액세스 허용`을 허락하십시오. \n",
    "- 그 후에, 웹 브라우저 안으로 markdown.md 파일을 drag & drop하면 됩니다. \n",
    "- 만약, 수학 기호들이 잘 나오지 않으면, \"Markdown Preview Plus\" Options를 찾아 \"KaTeX support inline($math$ ...)\" 체크하십시오. \n",
    "  \n",
    "__Note:__ 위의 방법은 Chrome 웹브라우저에 해당합니다만, Edge 혹은 Firefox도 같은 기능을 제공합니다."
   ]
  },
  {
   "cell_type": "markdown",
   "metadata": {},
   "source": [
    "# Exercise: markdown.ipynb & markdown.md\n",
    "\n",
    "## 마크다운 셀에서 문서 작성하기 - markdown.ipynb\n",
    "\n",
    "아래와 같은 문서를 마크다운 셀 안에서, 마크다운 언어를 사용하여 작성하십시오. \n",
    "\n",
    "- 문서 처음과 중간에 두 개의 링크(퍼셉트론 Perceptron, 로젠블라트 Frank Rosenblatt)는 wikipedia 에서 찾아서 연결하십시오. \n",
    "- 또한 사람 모양의 그림도 다음과 같이 보이도록 넣어 보십시오.\n",
    "- [사람 모양의 그림](https://github.com/idebtor/KMOOC-ML/blob/master/ipynb/images/person.png)은 어디서 찾을 수 있을까요? 등잔 밑에 있습니다(지금 이 셀을 클릭해보면 링크가 보이겠죠?)\n",
    "- 제목(Title) Numbering은 자동으로 설정합니다. (이것은 주피터 랩의 왼쪽 file explorer에서 on/off 할 수 있습니다) \n"
   ]
  },
  {
   "cell_type": "markdown",
   "metadata": {},
   "source": [
    "<center><img src=\"https://github.com/idebtor/KMOOC-ML/blob/master/ipynb/images/joyai/latex_example2.png?raw=true\" width=800></center>\n",
    "\n",
    "-----------"
   ]
  },
  {
   "cell_type": "markdown",
   "metadata": {},
   "source": [
    "## Exercise Solution: Write your Exercise solution here below: \n",
    "\n",
    "\n"
   ]
  },
  {
   "cell_type": "markdown",
   "metadata": {},
   "source": [
    "\n",
    "\n",
    "# 퍼셉트론 알고리즘\n",
    "\n",
    "## 알고리즘\n",
    "\n",
    "     \n",
    "      \n",
    "       \n",
    "    \n",
    "   \n",
    "     \n",
    "    \n",
    "   \n",
    "     \n",
    "    \n",
    "    \n",
    "    \n",
    "   \n",
    "   \n",
    "\n"
   ]
  },
  {
   "cell_type": "markdown",
   "metadata": {
    "tags": []
   },
   "source": [
    "## markdown.md를 Chrome에서 테스트 한 결과\n",
    "\n",
    "아래 그림은 크롬 웹 브라우저에서 Markdown Proview Extention으로 markdown.md 파일로 Randersing 테스트를 진행한 결과입니다. \n",
    "\n",
    "<img src=\"https://github.com/idebtor/DSpy/blob/main/images/chap2/markdown2.png?raw=true\"  width=1000> \n"
   ]
  },
  {
   "cell_type": "markdown",
   "metadata": {},
   "source": [
    "## 연습문제 제출 파일과 방법:\n",
    "\n",
    "__제출할 두 파일__\n",
    "\n",
    "1. 현재 연습문제를 하고 있는 파일 자체 (Markdown.ipynb)   \n",
    "1. 연습문제 Markdown cell 내용을 저장한 파일 (markdown.md)   \n",
    "\n",
    "이 연습문제를 담은 Markdown 문서를 완성한 후, ipynb 파일 자체와 연습문제 부분을 담은 셀을 markdown.md 파일에 저장하여 웹 브라우저에 테스트를 하십시오. \n",
    "그 후, Piazza에서 \"New Post\"를 탭한 후에 나오는 지정된 숙제 폴더에 올리면 됩니다. 에디터 창에 있는 \"insert file\" 메뉴를 사용할 수 있습니다. \n",
    "\n",
    "<p style=\"color:red\">주의할 점: 숙제를 피아짜에 upload할 때, \"Entire Class\"로 올리면 감점되오니, \"Individuals/Instructors\"를 택한 후, instructors 입력하여 upload 해야 합니다. </p>"
   ]
  },
  {
   "cell_type": "markdown",
   "metadata": {},
   "source": [
    "# Exercise Markdown Solution"
   ]
  },
  {
   "cell_type": "markdown",
   "metadata": {},
   "source": [
    "## your solution here"
   ]
  },
  {
   "cell_type": "markdown",
   "metadata": {},
   "source": [
    "# 학습정리 \n",
    "\n",
    "1. 마크다운 소개와 활용성\n",
    "1. 마크다운 문법\n",
    "1. LaTex의 소개와 활용성\n",
    "1. LaTex의 문법\n",
    "1. 마크다운과 LaTex 문서 작성"
   ]
  },
  {
   "cell_type": "markdown",
   "metadata": {},
   "source": [
    "-------------\n",
    "# 참고자료\n",
    "\n",
    "마크다운에 대한 자세한 사용법은 아래 링크를 참조합니다.\n",
    "\n",
    "- [영어] http://daringfireball.net/projects/markdown/\n",
    "- [한글] https://heropy.blog/2017/09/30/markdown/\n",
    "- [한글] https://gist.github.com/ihoneymon/652be052a0727ad59601\n",
    "- [한국 위키피디아](https://ko.wikipedia.org/wiki/%EC%9C%84%ED%82%A4%EB%B0%B1%EA%B3%BC:TeX_%EB%AC%B8%EB%B2%95)\n"
   ]
  },
  {
   "cell_type": "markdown",
   "metadata": {},
   "source": [
    "-------\n",
    "__Be joyful always!__ 1 Thes.5:16"
   ]
  },
  {
   "cell_type": "markdown",
   "metadata": {},
   "source": [
    "\n",
    "이 율법책을 네 입에서 떠나지 말게 하며 주야로 그것을 묵상하여 그 안에 기록된 대로 다 지켜 행하라 그리하면 네 길이 평탄하게 될 것이며 네가 형통하리라 (수1:8)"
   ]
  }
 ],
 "metadata": {
  "kernelspec": {
   "display_name": "Python 3 (ipykernel)",
   "language": "python",
   "name": "python3"
  },
  "language_info": {
   "codemirror_mode": {
    "name": "ipython",
    "version": 3
   },
   "file_extension": ".py",
   "mimetype": "text/x-python",
   "name": "python",
   "nbconvert_exporter": "python",
   "pygments_lexer": "ipython3",
   "version": "3.8.12"
  },
  "toc-autonumbering": false
 },
 "nbformat": 4,
 "nbformat_minor": 4
}
