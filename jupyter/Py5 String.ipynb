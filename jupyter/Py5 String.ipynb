{
 "cells": [
  {
   "cell_type": "markdown",
   "metadata": {},
   "source": [
    "하나님은 모든 사람이 구원을 받으며 진리를 아는 데에 이르기를 원하시느니라 (딤전2:4)\n",
    "\n",
    "-------\n",
    "\n",
    "<center><img src=\"https://github.com/idebtor/KMOOC-ML/blob/master/ipynb/images/joyai/pythonML.png?raw=true\" width=1000></center>\n",
    "\n",
    "__NOTE:__ The following materials have been compiled and adapted from the numerous sources including my own. Please help me to keep this tutorial up-to-date by reporting any issues or questions. Send any comments or criticisms to `idebtor@gmail.com` Your assistances and comments will be appreciated."
   ]
  },
  {
   "cell_type": "markdown",
   "metadata": {
    "tags": []
   },
   "source": [
    "---------\n",
    "\n",
    "# Strings\n",
    "\n",
    "__학습 목표__   \n",
    "- 문자열에 대해 이해한다.\n",
    "- 파이썬에서 제공하는 문자열 메소드를 살펴본다.  \n",
    "\n",
    "__학습 내용__\n",
    "1. 슬라이싱 문법\n",
    "1. 다양한 문자열 메소드\n",
    "1. 문자열 포멧\n",
    "1. 데이터 보관 방법   \n",
    "\n",
    "\n",
    "A string can be read from the standard input using the function `input()` or defined in single or double quotes. Two strings can be concatenated, and we can also repeat a string n times multiplying it by integer. \n",
    "\n",
    "Let's look at how you can create simple strings with a pair of single, double or triple quote. "
   ]
  },
  {
   "cell_type": "code",
   "execution_count": null,
   "metadata": {},
   "outputs": [],
   "source": [
    "x = \"Sola \\nSola\"\n",
    "print(x)"
   ]
  },
  {
   "cell_type": "markdown",
   "metadata": {},
   "source": [
    "You can also use __single quotes__ or __triple quotes__: 'Fide'"
   ]
  },
  {
   "cell_type": "code",
   "execution_count": null,
   "metadata": {},
   "outputs": [],
   "source": [
    "y = None\n",
    "print(y)"
   ]
  },
  {
   "cell_type": "markdown",
   "metadata": {},
   "source": [
    "There's no difference between using single and double quotes, but you need to be consistent in which one you choose for a given string.\n",
    "\n",
    "You can add two strings __using `+`__, concatenating them together: x + y"
   ]
  },
  {
   "cell_type": "code",
   "execution_count": null,
   "metadata": {},
   "outputs": [],
   "source": [
    "z = None\n",
    "print(z)"
   ]
  },
  {
   "cell_type": "markdown",
   "metadata": {},
   "source": [
    "You can also __multiply strings by an integer__, which duplicates the string that number of times:\n",
    "\n",
    "Complete the code such that it prints __`Halleluja Halleluja Halleluja`__"
   ]
  },
  {
   "cell_type": "code",
   "execution_count": null,
   "metadata": {},
   "outputs": [],
   "source": [
    "s = None\n",
    "print(s)"
   ]
  },
  {
   "cell_type": "markdown",
   "metadata": {},
   "source": [
    "You can get the length of a string with the generic function `len()` which operates on any Python sequence, but works with strings in particular:"
   ]
  },
  {
   "cell_type": "code",
   "execution_count": null,
   "metadata": {},
   "outputs": [],
   "source": [
    "s = \"In the beginning God created the heavens and the earth\"\n",
    "None"
   ]
  },
  {
   "cell_type": "markdown",
   "metadata": {},
   "source": [
    "__Example 1:__\n",
    "\n",
    "Complete the code such that it counts the number of digits in `x = 2**1000`. "
   ]
  },
  {
   "cell_type": "code",
   "execution_count": 1,
   "metadata": {},
   "outputs": [],
   "source": [
    "x = 2 ** 1000\n",
    "None"
   ]
  },
  {
   "cell_type": "markdown",
   "metadata": {},
   "source": [
    "__Example 2:__\n",
    "Count the number of digits in `x = 2**1000` without using the type conversion function `str()`, but using a `while` loop and `//`."
   ]
  },
  {
   "cell_type": "code",
   "execution_count": null,
   "metadata": {},
   "outputs": [],
   "source": [
    "x = 2 ** 1000\n",
    "count = 0\n",
    "None"
   ]
  },
  {
   "cell_type": "markdown",
   "metadata": {},
   "source": [
    "__Example 3:__\n",
    "\n",
    "Which one is faster between Example 1 and 2 shown above?\n",
    "\n",
    "- Use %%timeit cell magic to get an average elapsed time of a cell execution."
   ]
  },
  {
   "cell_type": "markdown",
   "metadata": {},
   "source": [
    "## Slice a single character\n",
    "\n",
    "A __slice__ gives from the given string one character or some fragment: substring or subsequence.\n",
    "\n",
    "There are three forms of slices. The simplest form of the slice: a single character slice `S[i]` gives ith character of the string. We count characters starting from 0. That is, if `S = 'Hello'`, `S[0] == 'H'`, `S[1] == 'e'`, `S[2] == 'l'`, `S[3] == 'l'`, `S[4] == 'o'`. Note that in Python there is no separate type for characters of the string. `S[i]` also has the type `str`, just as the source string.\n",
    "\n",
    "Number `i` in `S[i]` is called an index.\n",
    "\n",
    "If you specify a negative index, then it is counted from the end, starting with the number `-1`. That is, `S[-1] == 'o'`, `S[-2] == 'l'`, `S[-3] == 'l'`, `S[-4] == 'e'`, `S[-5] == 'H'`.\n"
   ]
  },
  {
   "cell_type": "markdown",
   "metadata": {},
   "source": [
    "__Example: double_char()__\n",
    "\n",
    "Given a string, this function returns a string where for every char in the original, there are two chars.\n",
    "\n",
    "For example:\n",
    "```\n",
    "double_char('The') ---> 'TThhee'\n",
    "double_char('AAbb') ---> 'AAAAbbbb'\n",
    "double_char('Hi-There') ---> 'HHii--TThheerree'\n",
    "```\n",
    "\n",
    "__Solution:__ Using slicing of each character in `str` object "
   ]
  },
  {
   "cell_type": "code",
   "execution_count": null,
   "metadata": {},
   "outputs": [],
   "source": [
    "def double_char(st):\n",
    "    None"
   ]
  },
  {
   "cell_type": "markdown",
   "metadata": {},
   "source": [
    "__Exptected Output:__\n",
    "\n",
    "```\n",
    "ok ---> ookk\n",
    "abba ---> aabbbbaa\n",
    "Word! ---> WWoorrdd!!\n",
    "Hi ---> HHii\n",
    "```"
   ]
  },
  {
   "cell_type": "code",
   "execution_count": null,
   "metadata": {},
   "outputs": [],
   "source": [
    "list = ['ok', 'abba', 'Word!', 'Hi']\n",
    "for s in list:\n",
    "    print(s, '--->', double_char(s))"
   ]
  },
  {
   "cell_type": "markdown",
   "metadata": {},
   "source": [
    "__Another solution:__ Using the fact that a `str` object is iterable."
   ]
  },
  {
   "cell_type": "code",
   "execution_count": null,
   "metadata": {},
   "outputs": [],
   "source": [
    "def double_char(st):\n",
    "    None"
   ]
  },
  {
   "cell_type": "code",
   "execution_count": null,
   "metadata": {},
   "outputs": [],
   "source": [
    "list = ['ok', 'abba', 'Word!', 'Hi']\n",
    "for s in list:\n",
    "    print(s, '--->', double_char(s))"
   ]
  },
  {
   "cell_type": "markdown",
   "metadata": {},
   "source": [
    "Slicing substring\n",
    "-------\n",
    "Slicing is used to extract a subsequence out of your sequence(e.g. list, string):\n",
    "\n",
    "    var[lower:upper:step]\n",
    "\n",
    "The element which has index equal to the lower bound is included in the slice, but the element which has index equal to the upper bound is excluded, so mathematically, the ie slice is `[lower, upper)`.  If you think of the indices as being between the elements, then this mentally works very nicely, as we'll see.\n",
    "\n",
    "The `step` argument is optional, and indicates the strides between elements in the subsequence, so a step of 2 takes every second element.\n",
    "\n",
    "List slicing also has very similar semantics to slicing on strings. \n",
    "```\n",
    "- a[start:end]  items start through end-1\n",
    "- a[start:]     items start through the rest of the array\n",
    "- a[:end]       items from the beginning through end - 1\n",
    "- a[:]          a copy of the whole list\n",
    "- a[start:end:step]  start through end - 1, by step\n",
    "```"
   ]
  },
  {
   "cell_type": "markdown",
   "metadata": {},
   "source": [
    "Let's see the examples:\n",
    "Why don't you write your answers first and then run the code to compare?"
   ]
  },
  {
   "cell_type": "code",
   "execution_count": null,
   "metadata": {},
   "outputs": [],
   "source": [
    "s = 'gratia'\n",
    "print(s[1])\n",
    "print(s[-1])\n",
    "print(s[1:3])\n",
    "print(s[1:-1])\n",
    "print(s[:3])\n",
    "print(s[2:])\n",
    "print(s[:-1])\n",
    "print(s[::2])\n",
    "print(s[1::2])\n",
    "print(s[::-1])\n",
    "print(s[:])"
   ]
  },
  {
   "cell_type": "markdown",
   "metadata": {},
   "source": [
    "Slice - immutability of strings\n",
    "------------"
   ]
  },
  {
   "cell_type": "markdown",
   "metadata": {},
   "source": [
    "Any slice of a string creates a new string and never modifies the original one. In Python strings are __immutable__, i.e they can not be changed as the objects. You can only assign the variable to the new string, but the old one stays in memory.\n",
    "\n",
    "In fact in Python there is no variables. There are only the names that are associated with any objects. You can first associate a name with one object, and then — with another. Can several names be associated with one and the same object.\n",
    "\n",
    "__Example 1:__ change `hello1` to `jello` by slicing"
   ]
  },
  {
   "cell_type": "code",
   "execution_count": null,
   "metadata": {},
   "outputs": [],
   "source": [
    "s = 'hello'\n",
    "print(None)\n",
    "s = 'jello'\n",
    "print(None)"
   ]
  },
  {
   "cell_type": "code",
   "execution_count": null,
   "metadata": {},
   "outputs": [],
   "source": [
    "s = 'hello'\n",
    "s[0] = 'j'     # TypeError "
   ]
  },
  {
   "cell_type": "markdown",
   "metadata": {},
   "source": [
    "Then how do you make a new string `'jello'` out of `'hello'` string? \n",
    "\n",
    "__Example 2:__  change `hello` to `jello`\n",
    "\n",
    "- Using string method called `replace()`."
   ]
  },
  {
   "cell_type": "code",
   "execution_count": null,
   "metadata": {},
   "outputs": [],
   "source": [
    "# method 1\n",
    "s = 'hello'\n",
    "print(s, id(s))             # print s, and its id\n",
    "t = None    # replace h with j\n",
    "print(t, id(t))             # print s and its id\n",
    "print(s, id(s))"
   ]
  },
  {
   "cell_type": "markdown",
   "metadata": {},
   "source": [
    "__Example 3:__ change `hello` to `jello`\n",
    "\n",
    "- Using `+` concatenation and slicing "
   ]
  },
  {
   "cell_type": "code",
   "execution_count": null,
   "metadata": {},
   "outputs": [],
   "source": [
    "# method 2\n",
    "s = 'hello'\n",
    "print(s, id(s))           # print s, and its id\n",
    "s = None                 # j + slicing\n",
    "print(s, id(s))           # print s, and its id"
   ]
  },
  {
   "cell_type": "markdown",
   "metadata": {},
   "source": [
    "## String methods\n",
    "\n",
    "Strings in Python are objects of `str` class, so they have many methods. Only some of the commonly used string methods are shown below. Since strings are immutable, none of these methods mutates string s. Methods `count()` and `find()` return an integer, method `split()` returns a list, and the remaining methods return a (usually) modified copy of string `s`. \n",
    "\n",
    "> `s.capitalize()             `  A copy of string s with the first character capitalized if it is a letter in the alphabet   \n",
    "> `s.count(target)            `  The number of occurences of substring `target` in string s   \n",
    "> `s.find(target)             `  The index of the first occurrence of substring `target` in string s.   \n",
    "> `s.lower()                  `  A copy of string s converted to lowercase   \n",
    "> `s.upper()                  `  A copy of string s converted to uppercase   \n",
    "> `s.replace(old, new)        `  A copy of string s in which every occurrence of substing `old`, when string s is scanned from left to right, is replaced by substring `new`.   \n",
    "> `s.translate(table)         `  A copy of string s in which characters have been replaced using the mapping described by `table`   \n",
    "> `s.split(sep)               `  A list of substrings of strings s, obtained using delimiter string `sep`; the default delimiter is the blank space    \n",
    "> `s.strip()                  `  A copy of string s with leading and trailing blank spaces removed   "
   ]
  },
  {
   "cell_type": "markdown",
   "metadata": {},
   "source": [
    "### `count()` method\n",
    "This method counts the number of occurrences of one string within another string. The simplest form is this one: `s.count(substring)`. Only non-overlapping occurrences are taken into account:"
   ]
  },
  {
   "cell_type": "markdown",
   "metadata": {},
   "source": [
    "__Example 1:__\n",
    "\n",
    "1. Count `a` in a string `abraham`.\n",
    "2. Count `by` in a string `Walk by faith, not by sight`"
   ]
  },
  {
   "cell_type": "code",
   "execution_count": null,
   "metadata": {},
   "outputs": [],
   "source": [
    "# count 'a' in a string\n",
    "s = 'abraham'\n",
    "print(None)"
   ]
  },
  {
   "cell_type": "code",
   "execution_count": null,
   "metadata": {},
   "outputs": [],
   "source": [
    "# count 'by' in a string\n",
    "s = 'Walk by faith, not by sight'\n",
    "print(None)"
   ]
  },
  {
   "cell_type": "markdown",
   "metadata": {},
   "source": [
    "### `find() and rfind()` methods\n",
    "\n",
    "A method is a function that is bound to the object. When the method is called, the method is applied to the object and does some computations related to it. Methods are invoked as `object_name.method_name(arguments)`. For example, in `s.find(\"e\")`  the string method `find()` is applied to the string `s` with one argument `\"e\"`.\n",
    "\n",
    "The `find()` method searches a substring, passed as an argument, inside the string on which it's called. The function returns the index of the first occurrence of the substring. If the substring is not found, the method returns `-1`.\n",
    "\n",
    "The `rfind()` method returns the highest index of the substring (if found). If not found, it returns -1."
   ]
  },
  {
   "cell_type": "markdown",
   "metadata": {},
   "source": [
    "__Example 2:__\n",
    "\n",
    "Find indices of `'i'`, `'Deo'` and `'F'` in `s = 'Soli Deo Gloria'` which are 3, 5 and -1, respectively."
   ]
  },
  {
   "cell_type": "code",
   "execution_count": null,
   "metadata": {},
   "outputs": [],
   "source": [
    "s = 'Soli Deo Gloria'\n",
    "# find indice of 'i', 'Deo' and 'F'\n",
    "print(None)\n",
    "print(None)"
   ]
  },
  {
   "cell_type": "markdown",
   "metadata": {},
   "source": [
    "If you call `find()` with three arguments `s.find(substring, left, right)`, the search is performed inside the slice `s[left:right]`. If you specify only two arguments, like `s.find(substring, left)`, the search is performed in the slice `s[left:]`, that is, starting with the character at index `left` to the end of the string. Method `s.find(substring, left, right)` returns the absolute index, relatively to the whole string `s`, and not to the slice."
   ]
  },
  {
   "cell_type": "markdown",
   "metadata": {},
   "source": [
    "__Example 3:__\n",
    "\n",
    "- Find three indices of the first, last and second occurrences of `'by'` in `s = 'Walk by faith, not by sight. bye now!'`.\n",
    "- Use two indices and the phrase \"faith, not by sight\" between them."
   ]
  },
  {
   "cell_type": "code",
   "execution_count": 1,
   "metadata": {},
   "outputs": [
    {
     "name": "stdout",
     "output_type": "stream",
     "text": [
      "None\n"
     ]
    }
   ],
   "source": [
    "# find the indices of the first, last, and second occurrences of 'by' \n",
    "s = 'Walk by faith, not by sight. bye now!'\n",
    "first = None\n",
    "last = None\n",
    "second = None\n",
    "\n",
    "# slice out \"faith, not by sight\" and print \n",
    "print(None)"
   ]
  },
  {
   "cell_type": "markdown",
   "metadata": {},
   "source": [
    "### `replace()` method\n",
    "\n",
    "Strings have a nice convenience method for replacing text in the string. The method `replace()` replaces all occurrences of a given substring with another one. \n",
    "\n",
    "Syntax: `s.replace(old, new)`  takes the string `S` and replaces all occurrences of substring old with the substring new. "
   ]
  },
  {
   "cell_type": "markdown",
   "metadata": {},
   "source": [
    "__Example 4:__\n",
    "\n",
    "Replace the `\"Fide\"` in `s = 'Sola Fide'` with `\"Gratia\"`:"
   ]
  },
  {
   "cell_type": "code",
   "execution_count": null,
   "metadata": {},
   "outputs": [],
   "source": [
    "s = \"Sola Fide Fide Fide\"\n",
    "t = None\n",
    "print(t)"
   ]
  },
  {
   "cell_type": "markdown",
   "metadata": {},
   "source": [
    "One can pass the third argument count, like this: `s.replace(old, new, count)`. It makes `replace()` to replace only first `count` occurrences and then stop. Without `count`, by default, it replaces all occurrences. "
   ]
  },
  {
   "cell_type": "code",
   "execution_count": null,
   "metadata": {},
   "outputs": [],
   "source": [
    "s = 'Sola Fide Fide Fide'\n",
    "#t = s.replace(\"Fide\", \"Gratia\", 2)\n",
    "s.replace(None)\n",
    "print(t)"
   ]
  },
  {
   "cell_type": "code",
   "execution_count": null,
   "metadata": {},
   "outputs": [],
   "source": [
    "help(str)"
   ]
  },
  {
   "cell_type": "markdown",
   "metadata": {},
   "source": [
    "__Lecture Note:__ What is `self` argument in method definition? \n",
    "\n",
    "```\n",
    "replace(self, old, new, count=-1, /)\n",
    "    Return a copy with all occurrences of substring old replaced by new.\n",
    "    \n",
    "      count\n",
    "        Maximum number of occurrences to replace.\n",
    "        -1 (the default value) means replace all occurrences.\n",
    "    \n",
    "    If the optional argument count is given, only the first count occurrences are replaced.\n",
    "    \n",
    "```"
   ]
  },
  {
   "cell_type": "markdown",
   "metadata": {},
   "source": [
    "### dir() method\n",
    "\n",
    "There are many other methods on strings, and Python's `dir()` function will list all the methods on an object:"
   ]
  },
  {
   "cell_type": "code",
   "execution_count": null,
   "metadata": {},
   "outputs": [],
   "source": [
    "dir(str)"
   ]
  },
  {
   "cell_type": "markdown",
   "metadata": {},
   "source": [
    "IPython makes it even easier: if you have a string `s` you can just type `s.` and then hit the \"tab\" key and get a list of all the methods."
   ]
  },
  {
   "cell_type": "code",
   "execution_count": null,
   "metadata": {},
   "outputs": [],
   "source": [
    "s = \"Scriptura\" \n",
    "s\n",
    "s.upper()            # s<tab> to see the list available - try it yourself"
   ]
  },
  {
   "cell_type": "markdown",
   "metadata": {},
   "source": [
    "Looking through the methods you will see the ones we just talked about, but also things like `lstrip()` and `rstrip()` which strip from the left and right respectively, and a whole host of others."
   ]
  },
  {
   "cell_type": "markdown",
   "metadata": {},
   "source": [
    "### strip() method\n",
    "\n",
    "The `strip()` method removes excess characters from the ends of a string, which is useful as often in the real world strings come with extra garbage characters at the front and back that you don't care about. It is the same as `trim()` in Java.\n",
    "\n",
    "By defualt, `strip()` removes whitespace:"
   ]
  },
  {
   "cell_type": "code",
   "execution_count": null,
   "metadata": {},
   "outputs": [],
   "source": [
    "s = \"\\t  Gratia  \\n\"\n",
    "s.strip()"
   ]
  },
  {
   "cell_type": "markdown",
   "metadata": {},
   "source": [
    "### split() method\n",
    "\n",
    "You can split a string wherever it has white space (a sequence of spaces, tabs or newlines) using the `split()` method:"
   ]
  },
  {
   "cell_type": "markdown",
   "metadata": {},
   "source": [
    "__Example 7:__\n",
    "\n",
    "Split the following phrase into a list of words."
   ]
  },
  {
   "cell_type": "code",
   "execution_count": null,
   "metadata": {},
   "outputs": [],
   "source": [
    "s = \"Walk by faith, not by sight\"\n",
    "word_list = s.split()\n",
    "print(word_list)"
   ]
  },
  {
   "cell_type": "markdown",
   "metadata": {},
   "source": [
    "The result is a list, which we'll learn about later, containing the strings `'Walk' 'by' 'faith,' 'not' 'by'` and `'sight'`."
   ]
  },
  {
   "cell_type": "markdown",
   "metadata": {},
   "source": [
    "__Example 8:__  \n",
    "\n",
    "Print each word per line in `s = \"Walk by faith, not by sight\"`. \n",
    "\n",
    "__Expected Output:__\n",
    "```\n",
    "Walk\n",
    "by\n",
    "faith,\n",
    "not\n",
    "by\n",
    "sight\n",
    "```"
   ]
  },
  {
   "cell_type": "code",
   "execution_count": 1,
   "metadata": {},
   "outputs": [
    {
     "name": "stdout",
     "output_type": "stream",
     "text": [
      "Walk\n",
      "by\n",
      "faith,\n",
      "not\n",
      "by\n",
      "sight\n"
     ]
    }
   ],
   "source": [
    "s = 'Walk by faith, not by sight'\n",
    "for w in s.split():\n",
    "    print(w)"
   ]
  },
  {
   "cell_type": "markdown",
   "metadata": {},
   "source": [
    "\n",
    "### join() method\n",
    "\n",
    "You can put the words back together by starting with a single space and then using its `join()` method with the word list to join the strings together with a space between each item:\n",
    "\n",
    "```\n",
    "join(self, iterable)\n",
    "    Concatenate any number of strings.\n",
    "    \n",
    "    The string whose method is called is inserted in between each given string.\n",
    "    The result is returned as a new string.\n",
    "```\n",
    "\n",
    "__Example:__ \n",
    "```\n",
    "', '.join([1, 2, 3]) -> '1, 2, 3'\n",
    "```"
   ]
  },
  {
   "cell_type": "markdown",
   "metadata": {},
   "source": [
    "__Example 9:__\n",
    "\n",
    "Review the following example and recover the original phrase: `'Walk by faith, not by sight'`.\n",
    "\n",
    "__Expected Output:__\n",
    "```\n",
    "Walk by faith, not by sight\n",
    "```"
   ]
  },
  {
   "cell_type": "code",
   "execution_count": null,
   "metadata": {},
   "outputs": [],
   "source": [
    "word_list = ['Walk', 'by', 'faith,', 'not', 'by', 'sight']\n",
    "t = None\n",
    "print(t)"
   ]
  },
  {
   "cell_type": "markdown",
   "metadata": {},
   "source": [
    "### upper() & lower() methods\n",
    "\n",
    "The `upper()` or `lower()` method converts all of the string's characters to upper case or lower case, respectively:\n",
    "\n",
    "__Expected Output:__\n",
    "```\n",
    "SCRIPTURE ALONE\n",
    "scripture alone\n",
    "```"
   ]
  },
  {
   "cell_type": "code",
   "execution_count": 2,
   "metadata": {},
   "outputs": [
    {
     "name": "stdout",
     "output_type": "stream",
     "text": [
      "SCRIPTURE ALONE\n",
      "scripture alone\n"
     ]
    }
   ],
   "source": [
    "s = \"Scripture Alone\"\n",
    "print(None)\n",
    "print(None)"
   ]
  },
  {
   "cell_type": "markdown",
   "metadata": {},
   "source": [
    "## string.format() basics\n",
    "\n",
    "Here are a couple of example of basic string substitution, __the {} is the placeholder__ for the substituted variables. If no format is specified, it will insert and format as a string.\n",
    "\n",
    "<center> <img src=\"https://github.com/idebtor/KMOOC-ML/blob/master/ipynb/images/joyai/print-format.png?raw=true\" width=\"60%\" title=\" Figure 1. Built-in Data Types in Python\"> </center>\n",
    "    \n",
    "<center>Figure 1. String Method `format()` </center>  \n",
    "\n",
    "\n",
    "As you see the statement (1) shown above, the string invoking the format() function - that is, the string `'{0}:{1}:{2}'` - is the __format string__: It describes the output format. All the characters outside the curly braces - that is, the two colons - are going to printed as is.  The curly braces {0}, {1}, and {2} are __placeholders__ where the objects will be printed.  The numbers 0, 1, and 2 explicitly indicate that the placeholders are for the first, second, and third arguments of the `format()` function call, respectively.  \n",
    "\n",
    "\n",
    "As you see the statement (2), it shows what happens when we move the indexes 0, 1, and 2 in the previous example. \n",
    "    \n",
    "As you see the statement (3), when no explict number is given inside the curly braces, the default is to assign the first placeholder to the first argument of the `format()` function, the second placeholder to the second argument, and so on. \n"
   ]
  },
  {
   "cell_type": "code",
   "execution_count": null,
   "metadata": {},
   "outputs": [],
   "source": [
    "s1 = \"God is good {}\".format(\"all the time\")\n",
    "s2 = \"{} and {} that God is good.\".format(\"Taste\", \"see\")\n",
    "\n",
    "print(s1)\n",
    "print(s2)"
   ]
  },
  {
   "cell_type": "code",
   "execution_count": null,
   "metadata": {},
   "outputs": [],
   "source": [
    "a = 'Soli'\n",
    "b = 'Deo'\n",
    "c = 'Gloria'\n",
    "# Basic formatting\n",
    "print('{} {} {}'.format(a, b, c))"
   ]
  },
  {
   "cell_type": "markdown",
   "metadata": {},
   "source": [
    "\n",
    "__Example:__\n",
    "\n",
    "Replace the `None` with your code such that it produces the following line:\n",
    "\n",
    "```\n",
    "`Gloria!, Soli Soli Deo Gloria!`\n",
    "```"
   ]
  },
  {
   "cell_type": "code",
   "execution_count": null,
   "metadata": {},
   "outputs": [],
   "source": [
    "# Numbered fields refer to the position of the arguments.\n",
    "a = 'Soli'\n",
    "b = 'Deo'\n",
    "c = 'Gloria'\n",
    "print(\"{2}!, {0} {0} {1} {2}\".format(a, b, c))"
   ]
  },
  {
   "cell_type": "markdown",
   "metadata": {},
   "source": [
    "## Lining up data in columns\n",
    "\n",
    "To illustrate the issues, let us consider the problem of properly lining up values of functions $i^2, i^3$ and $ 2^i$ for $i = 1, 2, 3, ...$  Lining up the values properly is useful because it illustrates the very different growth rates of these functions:"
   ]
  },
  {
   "cell_type": "code",
   "execution_count": 9,
   "metadata": {},
   "outputs": [
    {
     "name": "stdout",
     "output_type": "stream",
     "text": [
      "i      i**2      i**3      2**i\n",
      "1         1         1         2\n",
      "2         4         8         4\n",
      "3         9         27         8\n",
      "4         16         64         16\n",
      "5         25         125         32\n",
      "6         36         216         64\n",
      "7         49         343         128\n",
      "8         64         512         256\n",
      "9         81         729         512\n",
      "10         100         1000         1024\n",
      "11         121         1331         2048\n",
      "12         144         1728         4096\n"
     ]
    }
   ],
   "source": [
    "print('i      i**2      i**3      2**i')\n",
    "for i in range (1, 13):\n",
    "    print(i, i**2, i**3, 2**i, sep = '         ')"
   ]
  },
  {
   "cell_type": "markdown",
   "metadata": {},
   "source": [
    "While the first few rows look OK, we can see that the entries in the same columns are not properly lined up. To fix this problem, what we need is a way to fix the width of each column of numbers and print vlaues __right-justified__ within these fixed-width columns.  \n",
    "\n",
    "\n",
    "Inside the curly braces of a format string, we can specify how the value mapped to the curly brace placeholder should be presented; we can specify its __field width, alignment, decimal precision, type,__ and so on. \n",
    "\n",
    "For example, "
   ]
  },
  {
   "cell_type": "code",
   "execution_count": 20,
   "metadata": {},
   "outputs": [
    {
     "name": "stdout",
     "output_type": "stream",
     "text": [
      "1st case:    12        345\n",
      "2nd case:    12        345\n"
     ]
    }
   ],
   "source": [
    "print('1st case: {0:5} {1:10}'.format(12, 345))\n",
    "print('2nd case: {:5} {:10}'.format(12, 345))"
   ]
  },
  {
   "cell_type": "markdown",
   "metadata": {},
   "source": [
    "As you observe two cases above, the statements are identical. The first number argument of the placeholder must be the order of argument of `format()` function.  The 0 in `0:5` refers to 12 in `.format(12, 345)`. The second argument 5 in `{0:5}` indicates the width of the placeholders for 12 in `format(12, 345)`. The second argument 10 in `{1:10}` indicates the width of the placeholders for 345 in `format(12, 345)`. Some extra spaces are added in front. "
   ]
  },
  {
   "cell_type": "markdown",
   "metadata": {},
   "source": [
    "The precision is a decimal number that specifies how many digits should be displayed before and after the decimal point of a floating-point value.  It follows the field width and a period separates them. \n",
    "\n",
    "In the following example, the field width is 10 but only five digits of floating value are displayed in the first case, while the default displays a lot more:"
   ]
  },
  {
   "cell_type": "code",
   "execution_count": 24,
   "metadata": {},
   "outputs": [
    {
     "name": "stdout",
     "output_type": "stream",
     "text": [
      "1st case:     333.33\n",
      "2nd case: 333.3333333333333\n"
     ]
    }
   ],
   "source": [
    "print('1st case: {:10.5}'.format(1000/3))\n",
    "print('2nd case:', 1000/3)"
   ]
  },
  {
   "cell_type": "markdown",
   "metadata": {},
   "source": [
    "\n",
    "__Integer presentation types:__\n",
    "\n",
    "> `b         `  outputs the number in binary   \n",
    "> `c         `  outputs the Unicode character corresponding to the integer value  \n",
    "> `d         `  outputs the number of decimal notation (defualt)  \n",
    "> `o         `  outputs the number in base 8   \n",
    "> `x         `  outputs the number in base 16, using lowercase   \n",
    "> `X         `  outputs the number in base 16, using uppercase   \n",
    "\n",
    "__Floating point number presentation types:__\n",
    "> `f         `  outputs the number in a fixed-point number (i.e., with a decimal point and fractional part)\n",
    "> `e         `  outputs the number in scientific notation in which the exponent is shown after the character e"
   ]
  },
  {
   "cell_type": "code",
   "execution_count": 31,
   "metadata": {},
   "outputs": [
    {
     "name": "stdout",
     "output_type": "stream",
     "text": [
      "1010\n",
      "\n",
      "\n",
      "10\n",
      "12\n",
      "a\n",
      "A\n",
      "      1.67\n",
      "1.666667e+00\n"
     ]
    }
   ],
   "source": [
    "n = 10\n",
    "print('{:b}'.format(n))\n",
    "print('{:c}'.format(n))   # new line\n",
    "print('{:d}'.format(n))\n",
    "print('{:o}'.format(n))\n",
    "print('{:x}'.format(n))\n",
    "print('{:X}'.format(n))\n",
    "\n",
    "print('{:10.2f}'.format(5/3))\n",
    "print('{:e}'.format(5/3))   "
   ]
  },
  {
   "cell_type": "markdown",
   "metadata": {},
   "source": [
    "Now let us go back to our original problem of presenting the values of functions $i^2, i^3$ and $ 2^i$ for $i = 1, 2, 3, ...$  Lining up the values properly is useful because it illustrates the very different growth rates of these functions:"
   ]
  },
  {
   "cell_type": "code",
   "execution_count": 42,
   "metadata": {},
   "outputs": [
    {
     "name": "stdout",
     "output_type": "stream",
     "text": [
      " i     i**2     i**3     2**i\n",
      " 1        1        1        2\n",
      " 2        4        8        4\n",
      " 3        9       27        8\n",
      " 4       16       64       16\n",
      " 5       25      125       32\n",
      " 6       36      216       64\n",
      " 7       49      343      128\n",
      " 8       64      512      256\n",
      " 9       81      729      512\n",
      "10      100     1000     1024\n",
      "11      121     1331     2048\n",
      "12      144     1728     4096\n",
      "13      169     2197     8192\n",
      "14      196     2744    16384\n"
     ]
    }
   ],
   "source": [
    "def growth_rates(n):\n",
    "    print(' i     i**2     i**3     2**i')\n",
    "    format_str = '{:2d} {:8d} {:8d} {:8d}'\n",
    "    for i in range (1, n):\n",
    "        print(format_str.format(i, i**2, i**3, 2**i))\n",
    "        \n",
    "growth_rates(15)"
   ]
  },
  {
   "cell_type": "code",
   "execution_count": 47,
   "metadata": {},
   "outputs": [
    {
     "name": "stdout",
     "output_type": "stream",
     "text": [
      " i     i**2     i**3     2**i\n",
      " 1        1        1        2\n",
      " 2        4        8        4\n",
      " 3        9       27        8\n",
      " 4       16       64       16\n",
      " 5       25      125       32\n",
      " 6       36      216       64\n",
      " 7       49      343      128\n",
      " 8       64      512      256\n",
      " 9       81      729      512\n",
      "10      100     1000     1024\n",
      "11      121     1331     2048\n",
      "12      144     1728     4096\n",
      "13      169     2197     8192\n",
      "14      196     2744    16384\n"
     ]
    }
   ],
   "source": [
    "def growth_rates(n):\n",
    "    print('{:>2} {:>8} {:>8} {:>8}'.format('i', 'i**2', 'i**3','2**i'))\n",
    "    format_str = '{:2d} {:8d} {:8d} {:8d}'\n",
    "    for i in range (1, n):\n",
    "        print(format_str.format(i, i**2, i**3, 2**i))\n",
    "        \n",
    "growth_rates(15)"
   ]
  },
  {
   "cell_type": "markdown",
   "metadata": {},
   "source": [
    "----------\n",
    "\n",
    "# Exercises\n",
    "\n",
    "## Using string methods\n",
    "\n",
    "Assuming that variable `forcast` has been assigned string  \n",
    "\n",
    "`It will be a sunny day today`\n",
    "\n",
    "Write Python statements corresponding to these assignments:\n",
    "\n",
    "1. To variable `count`, the number of occurrences of string `day` in string `forcast`.\n",
    "1. To variable `weather`, the index where substing `sunny` begins.\n",
    "1. To variable `change`, a copy of `forcast` in which every occurrence of substing `sunny` is replaced by `cloudy`. "
   ]
  },
  {
   "cell_type": "code",
   "execution_count": null,
   "metadata": {},
   "outputs": [],
   "source": []
  },
  {
   "cell_type": "markdown",
   "metadata": {},
   "source": [
    "## Using string.format()\n",
    "\n",
    "In the following code, change the first line, `print()` function, such that it also uses the right-justified format of the string. Replace `title_str = None` with your format string answer. \n",
    "\n",
    "```\n",
    "def growth_rates(n):\n",
    "    print(' i     i**2     i**3     2**i')\n",
    "    format_str = '{:2d} {:8d} {:8d} {:8d}'\n",
    "    for i in range (1, n):\n",
    "        print(format_str.format(i, i**2, i**3, 2**i))\n",
    "\n",
    "growth_rates(15)\n",
    "```        "
   ]
  },
  {
   "cell_type": "markdown",
   "metadata": {},
   "source": [
    "__Expected Output:__\n",
    "```\n",
    " i     i**2     i**3     2**i\n",
    " 1        1        1        2\n",
    " 2        4        8        4\n",
    " 3        9       27        8\n",
    " 4       16       64       16\n",
    " 5       25      125       32\n",
    " 6       36      216       64\n",
    " 7       49      343      128\n",
    " 8       64      512      256\n",
    " 9       81      729      512\n",
    "10      100     1000     1024\n",
    "11      121     1331     2048\n",
    "12      144     1728     4096\n",
    "13      169     2197     8192\n",
    "14      196     2744    16384\n",
    "```\n",
    "\n",
    "__Solution:__"
   ]
  },
  {
   "cell_type": "code",
   "execution_count": 49,
   "metadata": {},
   "outputs": [
    {
     "name": "stdout",
     "output_type": "stream",
     "text": [
      " 1        1        1        2\n",
      " 2        4        8        4\n",
      " 3        9       27        8\n",
      " 4       16       64       16\n",
      " 5       25      125       32\n",
      " 6       36      216       64\n",
      " 7       49      343      128\n",
      " 8       64      512      256\n",
      " 9       81      729      512\n",
      "10      100     1000     1024\n",
      "11      121     1331     2048\n",
      "12      144     1728     4096\n",
      "13      169     2197     8192\n",
      "14      196     2744    16384\n"
     ]
    }
   ],
   "source": [
    "def growth_rates(n):\n",
    "    #title_str = None\n",
    "    #print(title_str.format('i', 'i**2', 'i**3','2**i'))\n",
    "    \n",
    "    format_str = '{:2d} {:8d} {:8d} {:8d}'\n",
    "    for i in range (1, n):\n",
    "        print(format_str.format(i, i**2, i**3, 2**i))\n",
    "        \n",
    "growth_rates(15)"
   ]
  },
  {
   "cell_type": "markdown",
   "metadata": {},
   "source": [
    "def growth_rates(n):\n",
    "    print('{:>2} {:>8} {:>8} {:>8}'.format('i', 'i**2', 'i**3','2**i'))\n",
    "    format_str = '{:2d} {:8d} {:8d} {:8d}'\n",
    "    for i in range (1, n):\n",
    "        print(format_str.format(i, i**2, i**3, 2**i))\n",
    "        \n",
    "growth_rates(15)"
   ]
  },
  {
   "cell_type": "markdown",
   "metadata": {},
   "source": [
    "## `swap_two()`: To swap the two words\n",
    "Given a string consisting of __exactly two words separated by a space__. Print a new string with the first and second word positions swapped (the second word is printed first). This task should __not use loops__, but use other built-in functions.  \n",
    "\n",
    "Hint: Python funtion can have multiple assignments and returns as shown below. It produces `4, 2`:\n",
    "\n",
    "```\n",
    "def swap(x, y):\n",
    "    return y, x\n",
    " \n",
    "a, b = 2, 4\n",
    "a, b = swap(a, b)\n",
    "print(a, b)\n",
    "```\n",
    "\n",
    "__Solution:__"
   ]
  },
  {
   "cell_type": "code",
   "execution_count": null,
   "metadata": {},
   "outputs": [],
   "source": [
    "def swap_two(str):\n",
    "    return None"
   ]
  },
  {
   "cell_type": "markdown",
   "metadata": {},
   "source": [
    "__Expected Output:__\n",
    "\n",
    "```\n",
    "Hello, World! ---> World! Hello,\n",
    "car race ---> race car\n",
    "Sola Gratia ---> Gratia Sola\n",
    "Han Dong ---> Dong Han\n",
    "H D ---> D H\n",
    "```"
   ]
  },
  {
   "cell_type": "code",
   "execution_count": null,
   "metadata": {},
   "outputs": [],
   "source": [
    "list = ['Hello, World!', 'car race', 'Sola Gratia', 'Han Dong', 'H D']\n",
    "\n",
    "for s in list:\n",
    "    one, two = swap_two(s)\n",
    "    print(s, '--->', one, two)"
   ]
  },
  {
   "cell_type": "markdown",
   "metadata": {},
   "source": [
    "## `swap_cases` \n",
    "\n",
    "Write the function to swap cases of a given string. \n",
    "\n",
    "__Hint:__ You may use some of the following functions: `isupper(), islower(), lower(), upper()`\n",
    "\n",
    "__Sample run:__\n",
    "\n",
    "```\n",
    "print(swap_cases(\"Blessing of HANDONG\"))\n",
    "print(swap_cases(\"Hello World!\"))\n",
    "print(swap_cases(\"NumPy\"))\n",
    "\n",
    "bLESSING OF handong\n",
    "hELLO wORLD!\n",
    "nUMpY\n",
    "```\n",
    "__Solution:__"
   ]
  },
  {
   "cell_type": "code",
   "execution_count": null,
   "metadata": {},
   "outputs": [],
   "source": [
    "def swap_cases(st)\n",
    "    return None"
   ]
  },
  {
   "cell_type": "markdown",
   "metadata": {},
   "source": [
    "## 빈도 수에 따라 정렬하기\n",
    "\n",
    "단어에 나오는 알파벳의 빈돗수에 따라 정렬하십시오. sorted(), join(), count() 등과 같은 내장함수나 메소드를 이용하면 도움이 됩니다. 물론, 람다(익명)함수도 필요할 것입니다. \n",
    "\n",
    "```\n",
    "Help on built-in function sorted in module builtins:\n",
    "\n",
    "sorted(iterable, /, *, key=None, reverse=False)\n",
    "    Return a new list containing all items from the iterable in ascending order.\n",
    "    \n",
    "    A custom key function can be supplied to customize the sort order, and the\n",
    "    reverse flag can be set to request the result in descending order.\n",
    "```    \n",
    "\n",
    "__Sample Run:__\n",
    "```\n",
    "msg = 'handong-global'\n",
    "...\n",
    "-bdhaaggllnnoo\n",
    "```\n",
    "\n",
    "```\n",
    "msg = 'tennessee'\n",
    "...\n",
    "tnnsseeee\n",
    "```\n",
    "\n",
    "```\n",
    "msg = 'tallahassee'\n",
    "...\n",
    "hteellssaaa\n",
    "```"
   ]
  },
  {
   "cell_type": "code",
   "execution_count": 1,
   "metadata": {},
   "outputs": [
    {
     "ename": "NameError",
     "evalue": "name 'final_msg' is not defined",
     "output_type": "error",
     "traceback": [
      "\u001b[1;31m---------------------------------------------------------------------------\u001b[0m",
      "\u001b[1;31mNameError\u001b[0m                                 Traceback (most recent call last)",
      "\u001b[1;32m~\\AppData\\Local\\Temp/ipykernel_26452/3379998399.py\u001b[0m in \u001b[0;36m<module>\u001b[1;34m\u001b[0m\n\u001b[0;32m      6\u001b[0m \u001b[1;32mNone\u001b[0m\u001b[1;33m\u001b[0m\u001b[1;33m\u001b[0m\u001b[0m\n\u001b[0;32m      7\u001b[0m \u001b[1;33m\u001b[0m\u001b[0m\n\u001b[1;32m----> 8\u001b[1;33m \u001b[0mprint\u001b[0m\u001b[1;33m(\u001b[0m\u001b[0mfinal_msg\u001b[0m\u001b[1;33m)\u001b[0m\u001b[1;33m\u001b[0m\u001b[1;33m\u001b[0m\u001b[0m\n\u001b[0m",
      "\u001b[1;31mNameError\u001b[0m: name 'final_msg' is not defined"
     ]
    }
   ],
   "source": [
    "msg = 'tennessee'\n",
    "# msg = 'mississippi'\n",
    "# msg = 'tallahassee'\n",
    "# msg = 'handong-global'\n",
    "\n",
    "None\n",
    "\n",
    "print(final_msg)"
   ]
  },
  {
   "cell_type": "markdown",
   "metadata": {},
   "source": [
    "## `count_hi()`: Count the number of occurences\n",
    "\n",
    "The function, `count_hi()` returns the number of times that the string \"hi\" appears anywhere in the given string. __Do not use__ the str's methods such as `count()`.\n",
    "\n",
    "__Hint:__  Use a for-loop and slicing properly.\n",
    "\n",
    "__Sample Run:__\n",
    "```\n",
    "count_hi('abc hi ho') ---> 1\n",
    "count_hi('ABChi hi') ---> 2\n",
    "count_hi('hihi') ---> 2\n",
    "count_hi('hohihi hih') ---> 3\n",
    "```\n",
    "__Solution:__"
   ]
  },
  {
   "cell_type": "code",
   "execution_count": null,
   "metadata": {},
   "outputs": [],
   "source": [
    "def count_hi(str):\n",
    "    return None"
   ]
  },
  {
   "cell_type": "markdown",
   "metadata": {},
   "source": [
    "__Expected Output:__\n",
    "\n",
    "```\n",
    "hihi ---> 2\n",
    "hike ---> 1\n",
    " ---> 0\n",
    "h ---> 0\n",
    "hi ---> 1\n",
    "Aim high ---> 1\n",
    "hi, hike ---> 2\n",
    "highlight hi ---> 2\n",
    "hohihi hih ---> 3\n",
    "```"
   ]
  },
  {
   "cell_type": "code",
   "execution_count": null,
   "metadata": {},
   "outputs": [],
   "source": [
    "# 테스트를 위한 아래 코드를 수정하지 말고 사용하십시오. Don't modifty the following code\n",
    "\n",
    "list = ['hihi', 'hike', '', 'h', 'hi', 'Aim high', 'hi, hike', 'highlight hi', 'hohihi hih']\n",
    "for s in list:\n",
    "    count = count_hi(s)\n",
    "    print(s, '--->', count)"
   ]
  },
  {
   "cell_type": "markdown",
   "metadata": {},
   "source": [
    "## `remove_between()`: A Challenge Problem\n",
    "\n",
    "Given a string in which a letter __x__ occurs at least twice. Remove from that string the first and the last occurrence of the letter __x__, as well as all the characters between them. The __x__ can be any letters that you may type from a keyboard.\n",
    "\n",
    "__Hint:__ \n",
    "If you use `find(), rfind()` and slicing properly, you may code this function in even two or three lines. \n",
    "\n",
    "__Solution:__"
   ]
  },
  {
   "cell_type": "code",
   "execution_count": null,
   "metadata": {},
   "outputs": [],
   "source": [
    "def remove_between(str, ch):\n",
    "    return None"
   ]
  },
  {
   "cell_type": "markdown",
   "metadata": {},
   "source": [
    "__Expected Output:__\n",
    "\n",
    "Case 1. with `l`\n",
    "```\n",
    "hello ---> heo\n",
    "long life ---> ife\n",
    "living, life, love ---> ove\n",
    "Be joyful, joyful ---> Be joyfu\n",
    "```\n",
    "Case 2: with `g`\n",
    "```\n",
    "gg ---> \n",
    "gag ---> \n",
    "garage ---> e\n",
    "garbage in garbage out, ---> e out,\n",
    "```\n",
    "\n",
    "Case 3: with `y`\n",
    "```\n",
    "yoyo ---> o\n",
    "bye bye ---> be\n",
    "Walk by faith, not by sight ---> Walk b sight\n",
    "```"
   ]
  },
  {
   "cell_type": "code",
   "execution_count": null,
   "metadata": {},
   "outputs": [],
   "source": [
    "# 테스트를 위한 아래 코드를 수정하지 말고 사용하십시오. Don't modifty the following code\n",
    "\n",
    "list = ['hello', 'long life', 'living, life, love',  'Be joyful, joyful']\n",
    "for s in list:\n",
    "    answer = remove_between(s, 'l')\n",
    "    print(s, '--->', answer)"
   ]
  },
  {
   "cell_type": "code",
   "execution_count": null,
   "metadata": {},
   "outputs": [],
   "source": [
    "# 테스트를 위한 아래 코드를 수정하지 말고 사용하십시오. Don't modifty the following code\n",
    "\n",
    "list = ['gg', 'gag', 'garage', 'garbage in garbage out,']\n",
    "for s in list:\n",
    "    answer = remove_between(s, 'g')\n",
    "    print(s, '--->', answer)"
   ]
  },
  {
   "cell_type": "code",
   "execution_count": null,
   "metadata": {},
   "outputs": [],
   "source": [
    "# 테스트를 위한 아래 코드를 수정하지 말고 사용하십시오. Don't modifty the following code\n",
    "\n",
    "list = ['yoyo', 'bye bye', 'Walk by faith, not by sight']\n",
    "for s in list:\n",
    "    answer = remove_between(s, 'y')\n",
    "    print(s, '--->', answer)"
   ]
  },
  {
   "cell_type": "markdown",
   "metadata": {},
   "source": [
    "# 학습 정리\n",
    "\n",
    "1. 슬라이싱 문법\n",
    "1. 다양한 문자열 메소드\n",
    "1. 문자열 포멧   \n",
    "1. 데이터 보관 방법"
   ]
  },
  {
   "cell_type": "markdown",
   "metadata": {},
   "source": [
    "# 참고자료\n",
    "\n",
    "- [Python Strings](https://www.w3schools.com/python/python_strings.asp)\n",
    "- [Python Strings-Formatting](https://www.w3schools.com/python/python_string_formatting.asp)"
   ]
  },
  {
   "cell_type": "markdown",
   "metadata": {},
   "source": [
    "---------\n",
    "__\"Everything is permissible\" - but not everything is beneficial. \"Everything is permissible\" - but not everything is constructive.__\n",
    "1 Corinthians 10:23\n",
    "    "
   ]
  }
 ],
 "metadata": {
  "kernelspec": {
   "display_name": "Python 3 (ipykernel)",
   "language": "python",
   "name": "python3"
  },
  "language_info": {
   "codemirror_mode": {
    "name": "ipython",
    "version": 3
   },
   "file_extension": ".py",
   "mimetype": "text/x-python",
   "name": "python",
   "nbconvert_exporter": "python",
   "pygments_lexer": "ipython3",
   "version": "3.8.12"
  },
  "toc-autonumbering": true
 },
 "nbformat": 4,
 "nbformat_minor": 4
}
